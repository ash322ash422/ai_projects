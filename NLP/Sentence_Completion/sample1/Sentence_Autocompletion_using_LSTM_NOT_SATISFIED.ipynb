{
  "cells": [
    {
      "cell_type": "markdown",
      "metadata": {
        "id": "UrT0sy36o3_O"
      },
      "source": [
        "# LSTM Implementation"
      ]
    },
    {
      "cell_type": "markdown",
      "metadata": {},
      "source": [
        "# **Text Preprocessing**"
      ]
    },
    {
      "cell_type": "code",
      "execution_count": 3,
      "metadata": {
        "id": "k78jrSD6o3_R"
      },
      "outputs": [],
      "source": [
        "import os\n",
        "import pandas as pd\n",
        "import numpy as np\n",
        "import tensorflow as tf\n",
        "from tensorflow.keras.preprocessing.sequence import pad_sequences\n",
        "from tensorflow.keras.layers import Embedding, LSTM, Dense, Bidirectional\n",
        "from tensorflow.keras.preprocessing.text import Tokenizer\n",
        "from tensorflow.keras.models import Sequential\n",
        "from tensorflow.keras.optimizers import Adam\n",
        "import nltk\n",
        "import re"
      ]
    },
    {
      "cell_type": "code",
      "execution_count": 4,
      "metadata": {
        "id": "glU6H276o3_T"
      },
      "outputs": [],
      "source": [
        "# Specify the filename\n",
        "input_file = '/content/sample_data/holmes.txt'\n",
        "\n",
        "# Read the contents of the file\n",
        "with open(input_file, 'r', encoding='utf-8') as infile:\n",
        "    data = infile.read()"
      ]
    },
    {
      "cell_type": "code",
      "execution_count": 5,
      "metadata": {
        "colab": {
          "base_uri": "https://localhost:8080/",
          "height": 35
        },
        "id": "LevzStTQo3_U",
        "outputId": "6f8e0045-e7de-49fa-f56b-f14244e85947"
      },
      "outputs": [
        {
          "data": {
            "application/vnd.google.colaboratory.intrinsic+json": {
              "type": "string"
            },
            "text/plain": [
              "\"*Project Gutenberg's Etext of Tom Swift And His Submarine Boat*\\n\\n#4 in the Victor Appleton's Tom Swi\""
            ]
          },
          "execution_count": 5,
          "metadata": {},
          "output_type": "execute_result"
        }
      ],
      "source": [
        "data[:100] # view first few characters"
      ]
    },
    {
      "cell_type": "code",
      "execution_count": 6,
      "metadata": {
        "id": "K2HAiWwco3_U"
      },
      "outputs": [],
      "source": [
        "# Limit data to 500000 characters\n",
        "data = data[:500000]"
      ]
    },
    {
      "cell_type": "markdown",
      "metadata": {
        "id": "7HgCQZhbo3_V"
      },
      "source": [
        "# Clean Text"
      ]
    },
    {
      "cell_type": "code",
      "execution_count": 7,
      "metadata": {
        "id": "TkA_lHXho3_V"
      },
      "outputs": [],
      "source": [
        "# Function to remove emojis and special characters from text\n",
        "def remove_emojis_and_special_characters(text):\n",
        "    # Remove emojis\n",
        "    emoji_pattern = re.compile(\"[\"\n",
        "                               u\"\\U0001F600-\\U0001F64F\"  # emoticons\n",
        "                               u\"\\U0001F300-\\U0001F5FF\"  # symbols & pictographs\n",
        "                               u\"\\U0001F680-\\U0001F6FF\"  # transport & map symbols\n",
        "                               u\"\\U0001F700-\\U0001F77F\"  # alchemical symbols\n",
        "                               u\"\\U0001F780-\\U0001F7FF\"  # Geometric Shapes Extended\n",
        "                               u\"\\U0001F800-\\U0001F8FF\"  # Supplemental Arrows-C\n",
        "                               u\"\\U0001F900-\\U0001F9FF\"  # Supplemental Symbols and Pictographs\n",
        "                               u\"\\U0001FA00-\\U0001FA6F\"  # Chess Symbols\n",
        "                               u\"\\U0001FA70-\\U0001FAFF\"  # Symbols and Pictographs Extended-A\n",
        "                               u\"\\U00002702-\\U000027B0\"  # Dingbats\n",
        "                               u\"\\U000024C2-\\U0001F251\"\n",
        "                               \"]+\", flags=re.UNICODE)\n",
        "\n",
        "    # Remove special characters\n",
        "    text = re.sub(r'[^a-zA-Z0-9\\s]', '', text)\n",
        "\n",
        "    # Remove extra spaces\n",
        "    text = re.sub(' +', ' ', text)\n",
        "\n",
        "    return text"
      ]
    },
    {
      "cell_type": "code",
      "execution_count": 8,
      "metadata": {
        "id": "VRDLcf4so3_W"
      },
      "outputs": [],
      "source": [
        "# Preprocessing pipeline\n",
        "def preprocess_pipeline(data) -> 'list':\n",
        "    # Split by newline character\n",
        "    sentences = data.split('\\n')\n",
        "    for i in range(len(sentences)):\n",
        "        sentences[i] = remove_emojis_and_special_characters(sentences[i])\n",
        "    # Remove leading and trailing spaces\n",
        "    sentences = [s.strip() for s in sentences]\n",
        "    # Drop empty sentences\n",
        "    sentences = [s for s in sentences if len(s) > 0]\n",
        "    # Tokenization\n",
        "    tokenized = []\n",
        "    for sentence in sentences:\n",
        "        # Convert to lowercase\n",
        "        sentence = sentence.lower()\n",
        "        tokenized.append(sentence)\n",
        "    return tokenized\n",
        "\n",
        "# Tokenize sentences\n",
        "tokenized_sentences = preprocess_pipeline(data)"
      ]
    },
    {
      "cell_type": "code",
      "execution_count": 9,
      "metadata": {
        "id": "9Af5-Rbbo3_W"
      },
      "outputs": [],
      "source": [
        "\"\"\"\n",
        "What is an OOV Token?\n",
        "An out-of-vocabulary (OOV) token is a special token used in natural language processing (NLP) tasks to represent words that\n",
        "are not present in the vocabulary of the model or tokenizer. When a word that is not in the vocabulary is encountered during\n",
        "tokenization or text processing, it is replaced with the OOV token.\n",
        "\n",
        "Why Use an OOV Token?\n",
        "Using an OOV token helps handle unseen or unknown words during the training or inference phase of an NLP model.\n",
        "Instead of encountering errors or issues when encountering unknown words, the model can gracefully handle them by\n",
        "representing them with the OOV token. This is particularly useful when working with real-world data where the vocabulary\n",
        "of the model may not cover all possible words.\n",
        "\"\"\"\n",
        "# Tokenize words\n",
        "tokenizer = Tokenizer(oov_token='<oov>')\n",
        "tokenizer.fit_on_texts(tokenized_sentences)\n",
        "total_words = len(tokenizer.word_index) + 1\n",
        "# tokenizer.word_counts\n",
        "# tokenizer.word_index\n",
        "\"\"\"\n",
        "n_gram example:\n",
        "[3, 15, 8, 7, 20, 12, 6]\n",
        "\n",
        "For the above sentece sentence, the code would generate the following n-gram sequences:\n",
        "\n",
        "[3, 15]\n",
        "[3, 15, 8]\n",
        "[3, 15, 8, 7]\n",
        "[3, 15, 8, 7, 20]\n",
        "[3, 15, 8, 7, 20, 12]\n",
        "[3, 15, 8, 7, 20, 12, 6]\n",
        "\"\"\"\n",
        "\n",
        "# Generate input sequences\n",
        "input_sequences = []\n",
        "for line in tokenized_sentences:\n",
        "    token_list = tokenizer.texts_to_sequences([line])[0]\n",
        "    for i in range(1, len(token_list)):\n",
        "        n_gram_sequence = token_list[:i + 1]\n",
        "        input_sequences.append(n_gram_sequence)\n",
        "\n",
        "# Pad sequences\n",
        "max_sequence_len = max([len(x) for x in input_sequences])\n",
        "input_sequences = np.array(pad_sequences(input_sequences, maxlen=max_sequence_len, padding='pre'))"
      ]
    },
    {
      "cell_type": "code",
      "execution_count": 10,
      "metadata": {
        "id": "NMebIHxko3_X"
      },
      "outputs": [],
      "source": [
        "# Creates labels with input sequences\n",
        "X,labels = input_sequences[:,:-1],input_sequences[:,-1]\n",
        "ys = tf.keras.utils.to_categorical(labels, num_classes=total_words)"
      ]
    },
    {
      "cell_type": "code",
      "execution_count": 11,
      "metadata": {
        "execution": {
          "iopub.execute_input": "2024-04-11T05:32:13.168190Z",
          "iopub.status.busy": "2024-04-11T05:32:13.167751Z",
          "iopub.status.idle": "2024-04-11T05:32:20.041506Z",
          "shell.execute_reply": "2024-04-11T05:32:20.040383Z",
          "shell.execute_reply.started": "2024-04-11T05:32:13.168137Z"
        },
        "id": "tP945IQLo3_X"
      },
      "outputs": [],
      "source": [
        "# Split data into training, validation, and test sets\n",
        "from sklearn.model_selection import train_test_split\n",
        "X_train_temp, X_val_test, y_train_temp, y_val_test = train_test_split(X, ys, test_size=0.2, random_state=42)\n",
        "X_val, X_test, y_val, y_test = train_test_split(X_val_test, y_val_test, test_size=0.5, random_state=42)"
      ]
    },
    {
      "cell_type": "markdown",
      "metadata": {
        "id": "RY8p4ubdo3_X"
      },
      "source": [
        "# Train LSTM Model"
      ]
    },
    {
      "cell_type": "code",
      "execution_count": 12,
      "metadata": {
        "colab": {
          "base_uri": "https://localhost:8080/"
        },
        "execution": {
          "iopub.execute_input": "2024-04-11T06:50:19.346868Z",
          "iopub.status.busy": "2024-04-11T06:50:19.345839Z",
          "iopub.status.idle": "2024-04-11T07:17:23.071736Z",
          "shell.execute_reply": "2024-04-11T07:17:23.070573Z",
          "shell.execute_reply.started": "2024-04-11T06:50:19.346830Z"
        },
        "id": "-kfT77r-o3_X",
        "outputId": "c51ae4dd-a1f6-4e83-f09a-b443e1cd7753"
      },
      "outputs": [
        {
          "name": "stdout",
          "output_type": "stream",
          "text": [
            "Epoch 1/50\n",
            "\u001b[1m2002/2002\u001b[0m \u001b[32m━━━━━━━━━━━━━━━━━━━━\u001b[0m\u001b[37m\u001b[0m \u001b[1m30s\u001b[0m 11ms/step - accuracy: 0.0974 - loss: 6.2889 - val_accuracy: 0.1355 - val_loss: 5.6423\n",
            "Epoch 2/50\n",
            "\u001b[1m2002/2002\u001b[0m \u001b[32m━━━━━━━━━━━━━━━━━━━━\u001b[0m\u001b[37m\u001b[0m \u001b[1m19s\u001b[0m 10ms/step - accuracy: 0.1522 - loss: 5.1656 - val_accuracy: 0.1541 - val_loss: 5.6274\n",
            "Epoch 3/50\n",
            "\u001b[1m2002/2002\u001b[0m \u001b[32m━━━━━━━━━━━━━━━━━━━━\u001b[0m\u001b[37m\u001b[0m \u001b[1m20s\u001b[0m 9ms/step - accuracy: 0.1822 - loss: 4.6153 - val_accuracy: 0.1528 - val_loss: 5.7508\n",
            "Epoch 4/50\n",
            "\u001b[1m2002/2002\u001b[0m \u001b[32m━━━━━━━━━━━━━━━━━━━━\u001b[0m\u001b[37m\u001b[0m \u001b[1m20s\u001b[0m 9ms/step - accuracy: 0.2012 - loss: 4.2606 - val_accuracy: 0.1550 - val_loss: 5.9625\n",
            "Epoch 5/50\n",
            "\u001b[1m2002/2002\u001b[0m \u001b[32m━━━━━━━━━━━━━━━━━━━━\u001b[0m\u001b[37m\u001b[0m \u001b[1m21s\u001b[0m 9ms/step - accuracy: 0.2206 - loss: 3.9643 - val_accuracy: 0.1563 - val_loss: 6.1693\n",
            "Epoch 6/50\n",
            "\u001b[1m2002/2002\u001b[0m \u001b[32m━━━━━━━━━━━━━━━━━━━━\u001b[0m\u001b[37m\u001b[0m \u001b[1m20s\u001b[0m 9ms/step - accuracy: 0.2367 - loss: 3.7782 - val_accuracy: 0.1511 - val_loss: 6.3958\n",
            "Epoch 7/50\n",
            "\u001b[1m2002/2002\u001b[0m \u001b[32m━━━━━━━━━━━━━━━━━━━━\u001b[0m\u001b[37m\u001b[0m \u001b[1m18s\u001b[0m 9ms/step - accuracy: 0.2445 - loss: 3.6613 - val_accuracy: 0.1555 - val_loss: 6.5858\n",
            "Epoch 8/50\n",
            "\u001b[1m2002/2002\u001b[0m \u001b[32m━━━━━━━━━━━━━━━━━━━━\u001b[0m\u001b[37m\u001b[0m \u001b[1m20s\u001b[0m 9ms/step - accuracy: 0.2595 - loss: 3.5362 - val_accuracy: 0.1541 - val_loss: 6.8382\n",
            "Epoch 9/50\n",
            "\u001b[1m2002/2002\u001b[0m \u001b[32m━━━━━━━━━━━━━━━━━━━━\u001b[0m\u001b[37m\u001b[0m \u001b[1m18s\u001b[0m 9ms/step - accuracy: 0.2646 - loss: 3.4998 - val_accuracy: 0.1460 - val_loss: 7.0360\n",
            "Epoch 10/50\n",
            "\u001b[1m2002/2002\u001b[0m \u001b[32m━━━━━━━━━━━━━━━━━━━━\u001b[0m\u001b[37m\u001b[0m \u001b[1m21s\u001b[0m 9ms/step - accuracy: 0.2669 - loss: 3.4487 - val_accuracy: 0.1523 - val_loss: 7.1785\n",
            "Epoch 11/50\n",
            "\u001b[1m2002/2002\u001b[0m \u001b[32m━━━━━━━━━━━━━━━━━━━━\u001b[0m\u001b[37m\u001b[0m \u001b[1m18s\u001b[0m 9ms/step - accuracy: 0.2745 - loss: 3.3942 - val_accuracy: 0.1488 - val_loss: 7.3310\n",
            "Epoch 12/50\n",
            "\u001b[1m2002/2002\u001b[0m \u001b[32m━━━━━━━━━━━━━━━━━━━━\u001b[0m\u001b[37m\u001b[0m \u001b[1m19s\u001b[0m 10ms/step - accuracy: 0.2765 - loss: 3.3553 - val_accuracy: 0.1496 - val_loss: 7.4871\n",
            "Epoch 13/50\n",
            "\u001b[1m2002/2002\u001b[0m \u001b[32m━━━━━━━━━━━━━━━━━━━━\u001b[0m\u001b[37m\u001b[0m \u001b[1m19s\u001b[0m 9ms/step - accuracy: 0.2783 - loss: 3.3510 - val_accuracy: 0.1456 - val_loss: 7.6406\n",
            "Epoch 14/50\n",
            "\u001b[1m2002/2002\u001b[0m \u001b[32m━━━━━━━━━━━━━━━━━━━━\u001b[0m\u001b[37m\u001b[0m \u001b[1m21s\u001b[0m 9ms/step - accuracy: 0.2847 - loss: 3.3054 - val_accuracy: 0.1444 - val_loss: 7.7807\n",
            "Epoch 15/50\n",
            "\u001b[1m2002/2002\u001b[0m \u001b[32m━━━━━━━━━━━━━━━━━━━━\u001b[0m\u001b[37m\u001b[0m \u001b[1m20s\u001b[0m 9ms/step - accuracy: 0.2901 - loss: 3.2601 - val_accuracy: 0.1461 - val_loss: 7.9312\n",
            "Epoch 16/50\n",
            "\u001b[1m2002/2002\u001b[0m \u001b[32m━━━━━━━━━━━━━━━━━━━━\u001b[0m\u001b[37m\u001b[0m \u001b[1m21s\u001b[0m 9ms/step - accuracy: 0.2857 - loss: 3.2774 - val_accuracy: 0.1456 - val_loss: 8.0321\n",
            "Epoch 17/50\n",
            "\u001b[1m2002/2002\u001b[0m \u001b[32m━━━━━━━━━━━━━━━━━━━━\u001b[0m\u001b[37m\u001b[0m \u001b[1m18s\u001b[0m 9ms/step - accuracy: 0.2880 - loss: 3.2913 - val_accuracy: 0.1463 - val_loss: 8.1219\n",
            "Epoch 18/50\n",
            "\u001b[1m2002/2002\u001b[0m \u001b[32m━━━━━━━━━━━━━━━━━━━━\u001b[0m\u001b[37m\u001b[0m \u001b[1m18s\u001b[0m 9ms/step - accuracy: 0.2931 - loss: 3.2416 - val_accuracy: 0.1441 - val_loss: 8.2262\n",
            "Epoch 19/50\n",
            "\u001b[1m2002/2002\u001b[0m \u001b[32m━━━━━━━━━━━━━━━━━━━━\u001b[0m\u001b[37m\u001b[0m \u001b[1m18s\u001b[0m 9ms/step - accuracy: 0.2918 - loss: 3.2561 - val_accuracy: 0.1441 - val_loss: 8.3559\n",
            "Epoch 20/50\n",
            "\u001b[1m2002/2002\u001b[0m \u001b[32m━━━━━━━━━━━━━━━━━━━━\u001b[0m\u001b[37m\u001b[0m \u001b[1m19s\u001b[0m 10ms/step - accuracy: 0.2975 - loss: 3.2214 - val_accuracy: 0.1416 - val_loss: 8.4478\n",
            "Epoch 21/50\n",
            "\u001b[1m2002/2002\u001b[0m \u001b[32m━━━━━━━━━━━━━━━━━━━━\u001b[0m\u001b[37m\u001b[0m \u001b[1m19s\u001b[0m 9ms/step - accuracy: 0.3002 - loss: 3.2139 - val_accuracy: 0.1399 - val_loss: 8.5381\n",
            "Epoch 22/50\n",
            "\u001b[1m2002/2002\u001b[0m \u001b[32m━━━━━━━━━━━━━━━━━━━━\u001b[0m\u001b[37m\u001b[0m \u001b[1m18s\u001b[0m 9ms/step - accuracy: 0.2951 - loss: 3.2379 - val_accuracy: 0.1410 - val_loss: 8.6960\n",
            "Epoch 23/50\n",
            "\u001b[1m2002/2002\u001b[0m \u001b[32m━━━━━━━━━━━━━━━━━━━━\u001b[0m\u001b[37m\u001b[0m \u001b[1m22s\u001b[0m 10ms/step - accuracy: 0.2986 - loss: 3.2213 - val_accuracy: 0.1455 - val_loss: 8.7162\n",
            "Epoch 24/50\n",
            "\u001b[1m2002/2002\u001b[0m \u001b[32m━━━━━━━━━━━━━━━━━━━━\u001b[0m\u001b[37m\u001b[0m \u001b[1m18s\u001b[0m 9ms/step - accuracy: 0.2997 - loss: 3.2191 - val_accuracy: 0.1401 - val_loss: 8.8163\n",
            "Epoch 25/50\n",
            "\u001b[1m2002/2002\u001b[0m \u001b[32m━━━━━━━━━━━━━━━━━━━━\u001b[0m\u001b[37m\u001b[0m \u001b[1m21s\u001b[0m 9ms/step - accuracy: 0.2997 - loss: 3.2283 - val_accuracy: 0.1415 - val_loss: 8.9318\n",
            "Epoch 26/50\n",
            "\u001b[1m2002/2002\u001b[0m \u001b[32m━━━━━━━━━━━━━━━━━━━━\u001b[0m\u001b[37m\u001b[0m \u001b[1m21s\u001b[0m 9ms/step - accuracy: 0.3018 - loss: 3.2043 - val_accuracy: 0.1378 - val_loss: 9.0225\n",
            "Epoch 27/50\n",
            "\u001b[1m2002/2002\u001b[0m \u001b[32m━━━━━━━━━━━━━━━━━━━━\u001b[0m\u001b[37m\u001b[0m \u001b[1m19s\u001b[0m 9ms/step - accuracy: 0.3045 - loss: 3.1996 - val_accuracy: 0.1399 - val_loss: 9.0857\n",
            "Epoch 28/50\n",
            "\u001b[1m2002/2002\u001b[0m \u001b[32m━━━━━━━━━━━━━━━━━━━━\u001b[0m\u001b[37m\u001b[0m \u001b[1m20s\u001b[0m 9ms/step - accuracy: 0.2986 - loss: 3.3174 - val_accuracy: 0.1381 - val_loss: 9.1337\n",
            "Epoch 29/50\n",
            "\u001b[1m2002/2002\u001b[0m \u001b[32m━━━━━━━━━━━━━━━━━━━━\u001b[0m\u001b[37m\u001b[0m \u001b[1m21s\u001b[0m 9ms/step - accuracy: 0.3004 - loss: 3.2338 - val_accuracy: 0.1348 - val_loss: 9.2251\n",
            "Epoch 30/50\n",
            "\u001b[1m2002/2002\u001b[0m \u001b[32m━━━━━━━━━━━━━━━━━━━━\u001b[0m\u001b[37m\u001b[0m \u001b[1m20s\u001b[0m 9ms/step - accuracy: 0.3010 - loss: 3.2164 - val_accuracy: 0.1394 - val_loss: 9.2584\n",
            "Epoch 31/50\n",
            "\u001b[1m2002/2002\u001b[0m \u001b[32m━━━━━━━━━━━━━━━━━━━━\u001b[0m\u001b[37m\u001b[0m \u001b[1m19s\u001b[0m 10ms/step - accuracy: 0.3053 - loss: 3.2091 - val_accuracy: 0.1415 - val_loss: 9.3616\n",
            "Epoch 32/50\n",
            "\u001b[1m2002/2002\u001b[0m \u001b[32m━━━━━━━━━━━━━━━━━━━━\u001b[0m\u001b[37m\u001b[0m \u001b[1m20s\u001b[0m 9ms/step - accuracy: 0.3053 - loss: 3.1957 - val_accuracy: 0.1411 - val_loss: 9.4773\n",
            "Epoch 33/50\n",
            "\u001b[1m2002/2002\u001b[0m \u001b[32m━━━━━━━━━━━━━━━━━━━━\u001b[0m\u001b[37m\u001b[0m \u001b[1m21s\u001b[0m 10ms/step - accuracy: 0.3054 - loss: 3.1906 - val_accuracy: 0.1379 - val_loss: 9.5272\n",
            "Epoch 34/50\n",
            "\u001b[1m2002/2002\u001b[0m \u001b[32m━━━━━━━━━━━━━━━━━━━━\u001b[0m\u001b[37m\u001b[0m \u001b[1m20s\u001b[0m 9ms/step - accuracy: 0.3050 - loss: 3.2193 - val_accuracy: 0.1408 - val_loss: 9.6334\n",
            "Epoch 35/50\n",
            "\u001b[1m2002/2002\u001b[0m \u001b[32m━━━━━━━━━━━━━━━━━━━━\u001b[0m\u001b[37m\u001b[0m \u001b[1m22s\u001b[0m 10ms/step - accuracy: 0.3087 - loss: 3.1710 - val_accuracy: 0.1390 - val_loss: 9.6634\n",
            "Epoch 36/50\n",
            "\u001b[1m2002/2002\u001b[0m \u001b[32m━━━━━━━━━━━━━━━━━━━━\u001b[0m\u001b[37m\u001b[0m \u001b[1m19s\u001b[0m 9ms/step - accuracy: 0.3078 - loss: 3.2067 - val_accuracy: 0.1404 - val_loss: 9.7398\n",
            "Epoch 37/50\n",
            "\u001b[1m2002/2002\u001b[0m \u001b[32m━━━━━━━━━━━━━━━━━━━━\u001b[0m\u001b[37m\u001b[0m \u001b[1m20s\u001b[0m 9ms/step - accuracy: 0.3032 - loss: 3.2048 - val_accuracy: 0.1378 - val_loss: 9.7826\n",
            "Epoch 38/50\n",
            "\u001b[1m2002/2002\u001b[0m \u001b[32m━━━━━━━━━━━━━━━━━━━━\u001b[0m\u001b[37m\u001b[0m \u001b[1m19s\u001b[0m 10ms/step - accuracy: 0.3068 - loss: 3.2048 - val_accuracy: 0.1381 - val_loss: 9.8087\n",
            "Epoch 39/50\n",
            "\u001b[1m2002/2002\u001b[0m \u001b[32m━━━━━━━━━━━━━━━━━━━━\u001b[0m\u001b[37m\u001b[0m \u001b[1m18s\u001b[0m 9ms/step - accuracy: 0.3034 - loss: 3.1996 - val_accuracy: 0.1391 - val_loss: 9.9486\n",
            "Epoch 40/50\n",
            "\u001b[1m2002/2002\u001b[0m \u001b[32m━━━━━━━━━━━━━━━━━━━━\u001b[0m\u001b[37m\u001b[0m \u001b[1m19s\u001b[0m 9ms/step - accuracy: 0.3124 - loss: 3.1925 - val_accuracy: 0.1332 - val_loss: 10.0258\n",
            "Epoch 41/50\n",
            "\u001b[1m2002/2002\u001b[0m \u001b[32m━━━━━━━━━━━━━━━━━━━━\u001b[0m\u001b[37m\u001b[0m \u001b[1m20s\u001b[0m 9ms/step - accuracy: 0.3104 - loss: 3.1810 - val_accuracy: 0.1386 - val_loss: 10.0570\n",
            "Epoch 42/50\n",
            "\u001b[1m2002/2002\u001b[0m \u001b[32m━━━━━━━━━━━━━━━━━━━━\u001b[0m\u001b[37m\u001b[0m \u001b[1m20s\u001b[0m 9ms/step - accuracy: 0.3151 - loss: 3.1649 - val_accuracy: 0.1436 - val_loss: 10.0868\n",
            "Epoch 43/50\n",
            "\u001b[1m2002/2002\u001b[0m \u001b[32m━━━━━━━━━━━━━━━━━━━━\u001b[0m\u001b[37m\u001b[0m \u001b[1m21s\u001b[0m 9ms/step - accuracy: 0.3163 - loss: 3.1555 - val_accuracy: 0.1393 - val_loss: 10.1615\n",
            "Epoch 44/50\n",
            "\u001b[1m2002/2002\u001b[0m \u001b[32m━━━━━━━━━━━━━━━━━━━━\u001b[0m\u001b[37m\u001b[0m \u001b[1m18s\u001b[0m 9ms/step - accuracy: 0.3109 - loss: 3.1723 - val_accuracy: 0.1386 - val_loss: 10.1909\n",
            "Epoch 45/50\n",
            "\u001b[1m2002/2002\u001b[0m \u001b[32m━━━━━━━━━━━━━━━━━━━━\u001b[0m\u001b[37m\u001b[0m \u001b[1m21s\u001b[0m 9ms/step - accuracy: 0.3138 - loss: 3.1664 - val_accuracy: 0.1404 - val_loss: 10.2284\n",
            "Epoch 46/50\n",
            "\u001b[1m2002/2002\u001b[0m \u001b[32m━━━━━━━━━━━━━━━━━━━━\u001b[0m\u001b[37m\u001b[0m \u001b[1m18s\u001b[0m 9ms/step - accuracy: 0.3112 - loss: 3.2075 - val_accuracy: 0.1406 - val_loss: 10.2673\n",
            "Epoch 47/50\n",
            "\u001b[1m2002/2002\u001b[0m \u001b[32m━━━━━━━━━━━━━━━━━━━━\u001b[0m\u001b[37m\u001b[0m \u001b[1m23s\u001b[0m 10ms/step - accuracy: 0.3121 - loss: 3.1738 - val_accuracy: 0.1428 - val_loss: 10.3637\n",
            "Epoch 48/50\n",
            "\u001b[1m2002/2002\u001b[0m \u001b[32m━━━━━━━━━━━━━━━━━━━━\u001b[0m\u001b[37m\u001b[0m \u001b[1m18s\u001b[0m 9ms/step - accuracy: 0.3159 - loss: 3.1971 - val_accuracy: 0.1400 - val_loss: 10.5207\n",
            "Epoch 49/50\n",
            "\u001b[1m2002/2002\u001b[0m \u001b[32m━━━━━━━━━━━━━━━━━━━━\u001b[0m\u001b[37m\u001b[0m \u001b[1m18s\u001b[0m 9ms/step - accuracy: 0.3162 - loss: 3.1896 - val_accuracy: 0.1378 - val_loss: 10.4626\n",
            "Epoch 50/50\n",
            "\u001b[1m2002/2002\u001b[0m \u001b[32m━━━━━━━━━━━━━━━━━━━━\u001b[0m\u001b[37m\u001b[0m \u001b[1m20s\u001b[0m 9ms/step - accuracy: 0.3170 - loss: 3.1776 - val_accuracy: 0.1411 - val_loss: 10.5249\n"
          ]
        }
      ],
      "source": [
        "# Define your model\n",
        "model = Sequential()\n",
        "model.add(Embedding(total_words, 100))\n",
        "model.add(Bidirectional(LSTM(150)))\n",
        "model.add(Dense(total_words, activation='softmax'))\n",
        "\n",
        "adam = Adam(learning_rate=0.01)\n",
        "model.compile(loss='categorical_crossentropy', optimizer=adam, metrics=['accuracy'])\n",
        "\n",
        "# Train the model\n",
        "history = model.fit(X_train_temp, y_train_temp, epochs=50, validation_data=(X_val, y_val), verbose=1)"
      ]
    },
    {
      "cell_type": "markdown",
      "metadata": {
        "id": "B5P_5Jspo3_Y"
      },
      "source": [
        "# Save Models (Weights and biases)"
      ]
    },
    {
      "cell_type": "code",
      "execution_count": 23,
      "metadata": {
        "execution": {
          "iopub.execute_input": "2024-04-11T07:17:23.074643Z",
          "iopub.status.busy": "2024-04-11T07:17:23.074319Z",
          "iopub.status.idle": "2024-04-11T07:17:23.216893Z",
          "shell.execute_reply": "2024-04-11T07:17:23.215911Z",
          "shell.execute_reply.started": "2024-04-11T07:17:23.074617Z"
        },
        "id": "xxX1l0qmo3_Y"
      },
      "outputs": [],
      "source": [
        "# Save model architecture as JSON file\n",
        "from tensorflow.keras.models import model_from_json\n",
        "\n",
        "model_json = model.to_json()\n",
        "with open(\"lstm_model.json\", \"w\") as json_file:\n",
        "    json_file.write(model_json)"
      ]
    },
    {
      "cell_type": "code",
      "execution_count": 24,
      "metadata": {
        "colab": {
          "base_uri": "https://localhost:8080/"
        },
        "id": "xUruJFG2o3_Y",
        "outputId": "f022a85d-758d-447e-bb58-7197dc22d492"
      },
      "outputs": [
        {
          "name": "stdout",
          "output_type": "stream",
          "text": [
            "Model architecture loaded successfully from JSON file.\n"
          ]
        }
      ],
      "source": [
        "# Load model architecture from JSON file\n",
        "from tensorflow.keras.models import model_from_json\n",
        "\n",
        "with open(\"lstm_model.json\", \"r\") as json_file:\n",
        "    loaded_model_json = json_file.read()\n",
        "\n",
        "# Create model from loaded architecture\n",
        "loaded_model = model_from_json(loaded_model_json)\n",
        "\n",
        "print(\"Model architecture loaded successfully from JSON file.\")"
      ]
    },
    {
      "cell_type": "code",
      "execution_count": 25,
      "metadata": {
        "execution": {
          "iopub.execute_input": "2024-04-11T06:04:13.104775Z",
          "iopub.status.busy": "2024-04-11T06:04:13.104349Z",
          "iopub.status.idle": "2024-04-11T06:04:13.406339Z",
          "shell.execute_reply": "2024-04-11T06:04:13.404737Z",
          "shell.execute_reply.started": "2024-04-11T06:04:13.104743Z"
        },
        "id": "PV_NBeTro3_Y"
      },
      "outputs": [],
      "source": [
        "import matplotlib.pyplot as plt\n",
        "import seaborn as sns\n",
        "from sklearn.metrics import confusion_matrix\n"
      ]
    },
    {
      "cell_type": "code",
      "execution_count": 16,
      "metadata": {
        "colab": {
          "base_uri": "https://localhost:8080/",
          "height": 927
        },
        "execution": {
          "iopub.execute_input": "2024-04-11T06:04:14.332289Z",
          "iopub.status.busy": "2024-04-11T06:04:14.331600Z",
          "iopub.status.idle": "2024-04-11T06:04:15.028083Z",
          "shell.execute_reply": "2024-04-11T06:04:15.026976Z",
          "shell.execute_reply.started": "2024-04-11T06:04:14.332254Z"
        },
        "id": "FaN-c3qCo3_Y",
        "outputId": "86c4c74b-a2b3-4737-8ffa-10bf4b9bd842"
      },
      "outputs": [
        {
          "data": {
            "image/png": "[encoded data removed]",
            "text/plain": [
              "<Figure size 640x480 with 1 Axes>"
            ]
          },
          "metadata": {},
          "output_type": "display_data"
        },
        {
          "data": {
            "image/png": "[encoded data removed]",
            "text/plain": [
              "<Figure size 640x480 with 1 Axes>"
            ]
          },
          "metadata": {},
          "output_type": "display_data"
        }
      ],
      "source": [
        "\n",
        "# Plot Loss\n",
        "plt.plot(history.history['loss'], label='Training Loss')\n",
        "plt.plot(history.history['val_loss'], label='Validation Loss')\n",
        "plt.title('Training and Validation Loss')\n",
        "plt.xlabel('Epochs')\n",
        "plt.ylabel('Loss')\n",
        "plt.legend()\n",
        "plt.show()\n",
        "\n",
        "# Plot Accuracy\n",
        "plt.plot(history.history['accuracy'], label='Training Accuracy')\n",
        "plt.plot(history.history['val_accuracy'], label='Validation Accuracy')\n",
        "plt.title('Training and Validation Accuracy')\n",
        "plt.xlabel('Epochs')\n",
        "plt.ylabel('Accuracy')\n",
        "plt.legend()\n",
        "plt.show()\n"
      ]
    },
    {
      "cell_type": "markdown",
      "metadata": {
        "id": "eO7Cbkzko3_Z"
      },
      "source": [
        "# Inferences"
      ]
    },
    {
      "cell_type": "code",
      "execution_count": 17,
      "metadata": {
        "execution": {
          "iopub.execute_input": "2024-04-11T06:15:08.096062Z",
          "iopub.status.busy": "2024-04-11T06:15:08.095068Z",
          "iopub.status.idle": "2024-04-11T06:15:08.103261Z",
          "shell.execute_reply": "2024-04-11T06:15:08.102149Z",
          "shell.execute_reply.started": "2024-04-11T06:15:08.096025Z"
        },
        "id": "TRLSxdgco3_Z"
      },
      "outputs": [],
      "source": [
        "# def predict_top_five_words(model, tokenizer, seed_text):\n",
        "#     token_list = tokenizer.texts_to_sequences([seed_text])[0]\n",
        "#     token_list = pad_sequences([token_list], maxlen=max_sequence_len-1, padding='pre')\n",
        "#     predicted = model.predict(token_list, verbose=0)\n",
        "#     top_five_indexes = np.argsort(predicted[0])[::-1][:5]\n",
        "#     top_five_words = []\n",
        "#     for index in top_five_indexes:\n",
        "#         for word, idx in tokenizer.word_index.items():\n",
        "#             if idx == index:\n",
        "#                 top_five_words.append(word)\n",
        "#                 break\n",
        "#     return top_five_words\n"
      ]
    },
    {
      "cell_type": "code",
      "execution_count": 46,
      "metadata": {
        "execution": {
          "iopub.execute_input": "2024-04-11T07:21:37.822914Z",
          "iopub.status.busy": "2024-04-11T07:21:37.822420Z",
          "iopub.status.idle": "2024-04-11T07:21:38.082054Z",
          "shell.execute_reply": "2024-04-11T07:21:38.080961Z",
          "shell.execute_reply.started": "2024-04-11T07:21:37.822880Z"
        },
        "id": "ZOJbtuV4o3_Z"
      },
      "outputs": [],
      "source": [
        "from IPython.display import HTML\n",
        "\n",
        "def predict_top_five_words(model, tokenizer, seed_text):\n",
        "    token_list = tokenizer.texts_to_sequences([seed_text])[0]\n",
        "    token_list = pad_sequences([token_list], maxlen=max_sequence_len-1, padding='pre')\n",
        "    predicted = model.predict(token_list, verbose=0)\n",
        "\n",
        "    top_five_indexes = np.argsort(predicted[0])[::-1][:5]\n",
        "    top_five_words = []\n",
        "    top_five_probabilities = []\n",
        "    for index in top_five_indexes:\n",
        "        for word, idx in tokenizer.word_index.items():\n",
        "            if idx == index:\n",
        "                top_five_words.append(word)\n",
        "                top_five_probabilities.append(predicted[0][index])\n",
        "                break\n",
        "\n",
        "    return top_five_words, top_five_probabilities\n",
        "\n",
        "\n",
        "# def predict_and_display_top_five_words(seed_text, model, tokenizer):\n",
        "#     top_five_words, top_five_probability = predict_top_five_words(model, tokenizer, seed_text)\n",
        "\n",
        "#     heading_app = f\"<h1>Sentence AutoCompletion App With Five Outputs</h1>\"\n",
        "#     output_text = f\"<ul>{''.join([f'<li>{seed_text} {word}</li>' for word in top_five_words])}</ul>\"\n",
        "#     javascript_code = f\"\"\"\n",
        "#     <script>\n",
        "#         var newWindow = window.open(\"\", \"_blank\");\n",
        "#         newWindow.document.write('<html><head><title>Top Five Words</title></head><body>{heading_app} <br> <hr> {output_text}</body></html>');\n",
        "#     </script>\n",
        "#     \"\"\"\n",
        "#     return HTML(javascript_code)\n",
        "\n",
        "\n"
      ]
    },
    {
      "cell_type": "code",
      "execution_count": 42,
      "metadata": {
        "colab": {
          "base_uri": "https://localhost:8080/"
        },
        "collapsed": true,
        "execution": {
          "iopub.execute_input": "2024-04-11T07:22:36.745099Z",
          "iopub.status.busy": "2024-04-11T07:22:36.744339Z",
          "iopub.status.idle": "2024-04-11T07:22:36.822230Z",
          "shell.execute_reply": "2024-04-11T07:22:36.821207Z",
          "shell.execute_reply.started": "2024-04-11T07:22:36.745061Z"
        },
        "id": "AstIYk4Vo3_Z",
        "outputId": "e4bba583-dcb9-45e3-8557-170b113a2405"
      },
      "outputs": [
        {
          "data": {
            "text/plain": [
              "(['trap', 'associates', 'editions', 'cottage', 'sight'],\n",
              " [0.00016562344, 0.00016556442, 0.00016546797, 0.0001654645, 0.00016545915])"
            ]
          },
          "execution_count": 42,
          "metadata": {},
          "output_type": "execute_result"
        }
      ],
      "source": [
        "# Test the function\n",
        "seed_text = \"She is my\"\n",
        "# predict_and_display_top_five_words(seed_text, loaded_model, tokenizer)\n",
        "predict_top_five_words(loaded_model, tokenizer, seed_text) \n"
      ]
    },
    {
      "cell_type": "code",
      "execution_count": 43,
      "metadata": {
        "colab": {
          "base_uri": "https://localhost:8080/"
        },
        "execution": {
          "iopub.execute_input": "2024-04-11T06:32:59.206205Z",
          "iopub.status.busy": "2024-04-11T06:32:59.205113Z",
          "iopub.status.idle": "2024-04-11T06:32:59.281620Z",
          "shell.execute_reply": "2024-04-11T06:32:59.280559Z",
          "shell.execute_reply.started": "2024-04-11T06:32:59.206146Z"
        },
        "id": "CPAmSEbwo3_a",
        "outputId": "1d5bbc16-7a33-4bc8-a675-bf052eb33d0d"
      },
      "outputs": [
        {
          "data": {
            "text/plain": [
              "(['indicate', 'trap', 'indefinite', 'declared', '1997'],\n",
              " [0.00016575685, 0.00016561066, 0.00016559294, 0.00016559193, 0.00016558787])"
            ]
          },
          "execution_count": 43,
          "metadata": {},
          "output_type": "execute_result"
        }
      ],
      "source": [
        "# Test 2:\n",
        "# Test the function\n",
        "seed_text = \"I have\"\n",
        "# predict_and_display_top_five_words(seed_text, loaded_model, tokenizer)\n",
        "predict_top_five_words(loaded_model, tokenizer, seed_text)\n"
      ]
    },
    {
      "cell_type": "code",
      "execution_count": 44,
      "metadata": {
        "colab": {
          "base_uri": "https://localhost:8080/"
        },
        "execution": {
          "iopub.execute_input": "2024-04-11T07:23:00.192909Z",
          "iopub.status.busy": "2024-04-11T07:23:00.192508Z",
          "iopub.status.idle": "2024-04-11T07:23:00.270331Z",
          "shell.execute_reply": "2024-04-11T07:23:00.269254Z",
          "shell.execute_reply.started": "2024-04-11T07:23:00.192880Z"
        },
        "id": "16p4vwtGo3_a",
        "outputId": "5b241443-67fc-4c4a-fa96-6d30de245ed3"
      },
      "outputs": [
        {
          "data": {
            "text/plain": [
              "(['cottage', 'indefinite', 'associates', 'stout', 'sight'],\n",
              " [0.00016578227, 0.00016572786, 0.0001655535, 0.00016554717, 0.00016553585])"
            ]
          },
          "execution_count": 44,
          "metadata": {},
          "output_type": "execute_result"
        }
      ],
      "source": [
        "# Test 3:\n",
        "# Test the function\n",
        "seed_text = \"We love\"\n",
        "# predict_and_display_top_five_words(seed_text, loaded_model, tokenizer)\n",
        "predict_top_five_words(loaded_model, tokenizer, seed_text)\n"
      ]
    },
    {
      "cell_type": "code",
      "execution_count": 45,
      "metadata": {
        "colab": {
          "base_uri": "https://localhost:8080/"
        },
        "execution": {
          "iopub.execute_input": "2024-04-11T06:33:58.775637Z",
          "iopub.status.busy": "2024-04-11T06:33:58.775231Z",
          "iopub.status.idle": "2024-04-11T06:33:58.849540Z",
          "shell.execute_reply": "2024-04-11T06:33:58.848492Z",
          "shell.execute_reply.started": "2024-04-11T06:33:58.775606Z"
        },
        "id": "8E4fhD5do3_a",
        "outputId": "54d63a9d-2059-4dce-a377-61be4b7cf912"
      },
      "outputs": [
        {
          "data": {
            "text/plain": [
              "(['cottage', 'associates', 'sight', 'editions', 'gallon'],\n",
              " [0.00016574962, 0.00016571865, 0.00016567118, 0.00016560956, 0.0001656035])"
            ]
          },
          "execution_count": 45,
          "metadata": {},
          "output_type": "execute_result"
        }
      ],
      "source": [
        "# Test 3:\n",
        "seed_text = \"How are\"\n",
        "# predict_and_display_top_five_words(seed_text, loaded_model, tokenizer)\n",
        "predict_top_five_words(loaded_model, tokenizer, seed_text)\n"
      ]
    }
  ],
  "metadata": {
    "accelerator": "GPU",
    "colab": {
      "gpuType": "T4",
      "provenance": []
    },
    "kaggle": {
      "accelerator": "gpu",
      "dataSources": [
        {
          "datasetId": 4758440,
          "sourceId": 8065627,
          "sourceType": "datasetVersion"
        },
        {
          "datasetId": 4758543,
          "sourceId": 8065761,
          "sourceType": "datasetVersion"
        },
        {
          "datasetId": 4759977,
          "sourceId": 8067728,
          "sourceType": "datasetVersion"
        }
      ],
      "dockerImageVersionId": 30674,
      "isGpuEnabled": true,
      "isInternetEnabled": true,
      "language": "python",
      "sourceType": "notebook"
    },
    "kernelspec": {
      "display_name": "Python 3",
      "name": "python3"
    },
    "language_info": {
      "codemirror_mode": {
        "name": "ipython",
        "version": 3
      },
      "file_extension": ".py",
      "mimetype": "text/x-python",
      "name": "python",
      "nbconvert_exporter": "python",
      "pygments_lexer": "ipython3",
      "version": "3.9.12"
    }
  },
  "nbformat": 4,
  "nbformat_minor": 0
}
