{
 "cells": [
  {
   "cell_type": "code",
   "execution_count": 7,
   "id": "d3401b29-4fed-41ce-acf4-63ef1e89afb3",
   "metadata": {},
   "outputs": [],
   "source": [
    "import pandas as pd\n",
    "\n",
    "# 1. Define Properties\n",
    "def create_property_data():\n",
    "    \"\"\"\n",
    "    Create a sample dataset of real estate properties with various features.\n",
    "    \"\"\"\n",
    "    data = {\n",
    "        'property_id': [1, 2, 3, 4, 5],\n",
    "        'property_type': ['House', 'Apartment', 'House', 'Condo', 'House'],\n",
    "        'bedrooms': [3, 2, 4, 2, 5],\n",
    "        'price': [300000, 250000, 500000, 350000, 600000],\n",
    "        'location': ['New York', 'Los Angeles', 'Chicago', 'Miami', 'Dallas']\n",
    "    }\n",
    "    return pd.DataFrame(data)\n",
    "    \n",
    "# 2. Filter Properties Based on User Preferences\n",
    "def filter_properties(df, preferences):\n",
    "    \"\"\"\n",
    "    Filter properties based on the user preferences.\n",
    "    \"\"\"\n",
    "    filtered_properties = df[\n",
    "        (df['bedrooms'] >= preferences['bedrooms']) &\n",
    "        (df['price'] >= preferences['price_min']) &\n",
    "        (df['price'] <= preferences['price_max']) &\n",
    "        (df['property_type'] == preferences['property_type'])\n",
    "    ]\n",
    "    return filtered_properties\n",
    "\n",
    "# 3. Recommend Properties Based on User Preferences\n",
    "def recommend_properties(df, preferences):\n",
    "    \"\"\"\n",
    "    Recommend properties based on user preferences.\n",
    "    \"\"\"\n",
    "    filtered_properties = filter_properties(df, preferences)\n",
    "    \n",
    "    if filtered_properties.empty:\n",
    "        print(\"No properties match your preferences.\")\n",
    "    else:\n",
    "        print(\"Here are the properties that match your preferences:\")\n",
    "        print(filtered_properties[['property_id', 'property_type', 'bedrooms', 'price', 'location']])\n",
    "\n",
    "# 4. Main Function to Run the Recommendation System\n",
    "def main():\n",
    "    df = create_property_data()  # Load the real estate data\n",
    "    print(f\"df=\\n{df}\")\n",
    "    \n",
    "    preferences = {  # Get user preferences\n",
    "        'bedrooms': 3,\n",
    "        'price_min': 200000,\n",
    "        'price_max': 500000,\n",
    "        'property_type': \"House\"\n",
    "    }\n",
    "    print(f\"preferences=\\n{preferences}\")\n",
    "    \n",
    "    recommend_properties(df, preferences)  # Get property recommendations\n"
   ]
  },
  {
   "cell_type": "code",
   "execution_count": 8,
   "id": "78e0dcc2-7211-421a-a34e-e9ea7f3cd562",
   "metadata": {},
   "outputs": [
    {
     "name": "stdout",
     "output_type": "stream",
     "text": [
      "df=\n",
      "   property_id property_type  bedrooms   price     location\n",
      "0            1         House         3  300000     New York\n",
      "1            2     Apartment         2  250000  Los Angeles\n",
      "2            3         House         4  500000      Chicago\n",
      "3            4         Condo         2  350000        Miami\n",
      "4            5         House         5  600000       Dallas\n",
      "preferences=\n",
      "{'bedrooms': 3, 'price_min': 200000, 'price_max': 500000, 'property_type': 'House'}\n",
      "Here are the properties that match your preferences:\n",
      "   property_id property_type  bedrooms   price  location\n",
      "0            1         House         3  300000  New York\n",
      "2            3         House         4  500000   Chicago\n"
     ]
    }
   ],
   "source": [
    "\n",
    "if __name__ == \"__main__\":\n",
    "    main()\n"
   ]
  },
  {
   "cell_type": "code",
   "execution_count": null,
   "id": "a54a7819-49b4-4b08-a5bc-09d9c0ce4e93",
   "metadata": {},
   "outputs": [],
   "source": []
  }
 ],
 "metadata": {
  "kernelspec": {
   "display_name": "Python 3 (ipykernel)",
   "language": "python",
   "name": "python3"
  },
  "language_info": {
   "codemirror_mode": {
    "name": "ipython",
    "version": 3
   },
   "file_extension": ".py",
   "mimetype": "text/x-python",
   "name": "python",
   "nbconvert_exporter": "python",
   "pygments_lexer": "ipython3",
   "version": "3.11.2"
  }
 },
 "nbformat": 4,
 "nbformat_minor": 5
}
