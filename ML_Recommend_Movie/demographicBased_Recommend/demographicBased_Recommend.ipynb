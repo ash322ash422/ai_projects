{
 "cells": [
  {
   "cell_type": "code",
   "execution_count": 1,
   "id": "ac556cb9-7bf4-489f-9321-800fd8fb26b0",
   "metadata": {},
   "outputs": [],
   "source": [
    "import pandas as pd\n",
    "\n",
    "# Sample User Demographics and Items Data\n",
    "user_data = {\n",
    "    'user_id': [1, 2, 3, 4, 5, 6],\n",
    "    'age': [25, 30, 22, 30, 40, 22],\n",
    "    'gender': ['M', 'F', 'F', 'M', 'M', 'F']\n",
    "}\n",
    "\n",
    "# Item Data (Product recommendations, in this case, clothing items)\n",
    "item_data = {\n",
    "    'item_id': [101, 102, 103, 104, 105],\n",
    "    'item_name': ['T-shirt', 'Jeans', 'Sweater', 'Jacket', 'Shoes'],\n",
    "    'age_group': ['18-30', '18-30', '18-30', '31-50', '18-30'],  # Age group the item targets\n",
    "    'gender': ['M', 'F', 'M', 'M', 'F']  # Gender targeted by the item\n",
    "}\n",
    "\n",
    "# Convert the data into pandas DataFrames\n",
    "users_df = pd.DataFrame(user_data)\n",
    "items_df = pd.DataFrame(item_data)\n",
    "\n",
    "# Function to categorize users into demographic groups\n",
    "def categorize_user(user):\n",
    "    # Simple categorization based on age and gender\n",
    "    if 18 <= user['age'] <= 30:\n",
    "        age_group = '18-30'\n",
    "    else:\n",
    "        age_group = '31-50'\n",
    "        \n",
    "    # Return demographic profile as a tuple (age_group, gender)\n",
    "    return (age_group, user['gender'])\n",
    "\n",
    "# Function to recommend items based on demographic categories\n",
    "def recommend_items(user, items_df):\n",
    "    # Categorize the user based on their demographic profile (age group and gender)\n",
    "    user_profile = categorize_user(user)\n",
    "    age_group, gender = user_profile\n",
    "    \n",
    "    # Filter items based on the user's age group and gender\n",
    "    recommended_items = items_df[(items_df['age_group'] == age_group) & (items_df['gender'] == gender)]\n",
    "    \n",
    "    # Return the recommended items' names\n",
    "    return recommended_items['item_name'].tolist()\n"
   ]
  },
  {
   "cell_type": "code",
   "execution_count": 2,
   "id": "81098df5-6952-4c35-bfe6-b4d7a2975a89",
   "metadata": {},
   "outputs": [
    {
     "name": "stdout",
     "output_type": "stream",
     "text": [
      "User 1 (Age: 25, Gender: M):\n",
      "Recommended Items: ['T-shirt', 'Sweater']\n",
      "--------------------------------------------------\n",
      "User 2 (Age: 30, Gender: F):\n",
      "Recommended Items: ['Jeans', 'Shoes']\n",
      "--------------------------------------------------\n",
      "User 3 (Age: 22, Gender: F):\n",
      "Recommended Items: ['Jeans', 'Shoes']\n",
      "--------------------------------------------------\n",
      "User 4 (Age: 30, Gender: M):\n",
      "Recommended Items: ['T-shirt', 'Sweater']\n",
      "--------------------------------------------------\n",
      "User 5 (Age: 40, Gender: M):\n",
      "Recommended Items: ['Jacket']\n",
      "--------------------------------------------------\n",
      "User 6 (Age: 22, Gender: F):\n",
      "Recommended Items: ['Jeans', 'Shoes']\n",
      "--------------------------------------------------\n"
     ]
    }
   ],
   "source": [
    "\n",
    "# Simulate recommendations for each user\n",
    "for index, user in users_df.iterrows():\n",
    "    print(f\"User {user['user_id']} (Age: {user['age']}, Gender: {user['gender']}):\")\n",
    "    recommendations = recommend_items(user, items_df)\n",
    "    print(f\"Recommended Items: {recommendations}\")\n",
    "    print(\"-\" * 50)\n"
   ]
  },
  {
   "cell_type": "code",
   "execution_count": null,
   "id": "fd2e9932-c912-4f10-9c62-7fe541339dc1",
   "metadata": {},
   "outputs": [],
   "source": []
  }
 ],
 "metadata": {
  "kernelspec": {
   "display_name": "Python 3 (ipykernel)",
   "language": "python",
   "name": "python3"
  },
  "language_info": {
   "codemirror_mode": {
    "name": "ipython",
    "version": 3
   },
   "file_extension": ".py",
   "mimetype": "text/x-python",
   "name": "python",
   "nbconvert_exporter": "python",
   "pygments_lexer": "ipython3",
   "version": "3.11.2"
  }
 },
 "nbformat": 4,
 "nbformat_minor": 5
}
