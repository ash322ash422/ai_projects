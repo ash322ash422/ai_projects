{
 "cells": [
  {
   "cell_type": "code",
   "execution_count": null,
   "metadata": {
    "colab": {
     "base_uri": "https://localhost:8080/"
    },
    "id": "WYhB2OARw_Nq",
    "outputId": "e75fa81e-0fa4-452d-f848-829146be72df"
   },
   "outputs": [],
   "source": [
    "!pip install --upgrade --quiet  langchain langchain-community langchain-groq neo4j"
   ]
  },
  {
   "cell_type": "code",
   "execution_count": null,
   "metadata": {
    "id": "OBL8Iqs4xoeh"
   },
   "outputs": [],
   "source": [
    "## Graphdb configuration\n",
    "from google.colab import userdata\n",
    "NEO4J_URI = userdata.get('NEO4J_URI')\n",
    "NEO4J_USERNAME = userdata.get('NEO4J_USERNAME')\n",
    "NEO4J_PASSWORD = userdata.get('NEO4J_PASSWORD')\n",
    "groq_api_key=userdata.get(\"GROQ_API_KEY\")"
   ]
  },
  {
   "cell_type": "code",
   "execution_count": 3,
   "metadata": {
    "id": "uDS6XHgbycee"
   },
   "outputs": [],
   "source": [
    "import os\n",
    "os.environ[\"NEO4J_URI\"]=NEO4J_URI\n",
    "os.environ[\"NEO4J_USERNAME\"]=NEO4J_USERNAME\n",
    "os.environ[\"NEO4J_PASSWORD\"]=NEO4J_PASSWORD"
   ]
  },
  {
   "cell_type": "code",
   "execution_count": 4,
   "metadata": {
    "id": "5rikUUiCymWG"
   },
   "outputs": [],
   "source": [
    "from langchain_community.graphs import Neo4jGraph\n",
    "graph=Neo4jGraph(\n",
    "    url=NEO4J_URI,\n",
    "    username=NEO4J_USERNAME,\n",
    "    password=NEO4J_PASSWORD,\n",
    ")"
   ]
  },
  {
   "cell_type": "code",
   "execution_count": 5,
   "metadata": {
    "colab": {
     "base_uri": "https://localhost:8080/"
    },
    "id": "j6Zy5Bc_y1oN",
    "outputId": "8d167a56-10fd-4608-a37e-dae06cc84709"
   },
   "outputs": [
    {
     "data": {
      "text/plain": [
       "<langchain_community.graphs.neo4j_graph.Neo4jGraph at 0x7ae152e10f70>"
      ]
     },
     "execution_count": 5,
     "metadata": {},
     "output_type": "execute_result"
    }
   ],
   "source": [
    "graph"
   ]
  },
  {
   "cell_type": "code",
   "execution_count": 7,
   "metadata": {
    "colab": {
     "base_uri": "https://localhost:8080/"
    },
    "id": "YtqR-fXVzxXZ",
    "outputId": "501b68e2-a7ed-4bcb-bde0-18f1a4863269"
   },
   "outputs": [
    {
     "data": {
      "text/plain": [
       "ChatGroq(client=<groq.resources.chat.completions.Completions object at 0x7ae1204f24a0>, async_client=<groq.resources.chat.completions.AsyncCompletions object at 0x7ae12050bf40>, model_name='Gemma2-9b-It', model_kwargs={}, groq_api_key=SecretStr('**********'))"
      ]
     },
     "execution_count": 7,
     "metadata": {},
     "output_type": "execute_result"
    }
   ],
   "source": [
    "from langchain_groq import ChatGroq\n",
    "\n",
    "llm=ChatGroq(groq_api_key=groq_api_key,model_name=\"Gemma2-9b-It\")\n",
    "llm"
   ]
  },
  {
   "cell_type": "code",
   "execution_count": 8,
   "metadata": {
    "colab": {
     "base_uri": "https://localhost:8080/"
    },
    "id": "tMw2lopJ0XnX",
    "outputId": "f48135a9-2249-466a-fc45-a60c86b7bc19"
   },
   "outputs": [
    {
     "data": {
      "text/plain": [
       "[Document(metadata={}, page_content=\"\\nElon Reeve Musk (born June 28, 1971) is a businessman and investor known for his key roles in space\\ncompany SpaceX and automotive company Tesla, Inc. Other involvements include ownership of X Corp.,\\nformerly Twitter, and his role in the founding of The Boring Company, xAI, Neuralink and OpenAI.\\nHe is one of the wealthiest people in the world; as of July 2024, Forbes estimates his net worth to be\\nUS$221 billion.Musk was born in Pretoria to Maye and engineer Errol Musk, and briefly attended\\nthe University of Pretoria before immigrating to Canada at age 18, acquiring citizenship through\\nhis Canadian-born mother. Two years later, he matriculated at Queen's University at Kingston in Canada.\\nMusk later transferred to the University of Pennsylvania and received bachelor's degrees in economics\\n and physics. He moved to California in 1995 to attend Stanford University, but dropped out after\\n  two days and, with his brother Kimbal, co-founded online city guide software company Zip2.\\n \")]"
      ]
     },
     "execution_count": 8,
     "metadata": {},
     "output_type": "execute_result"
    }
   ],
   "source": [
    "from langchain_core.documents import Document\n",
    "text=\"\"\"\n",
    "Elon Reeve Musk (born June 28, 1971) is a businessman and investor known for his key roles in space\n",
    "company SpaceX and automotive company Tesla, Inc. Other involvements include ownership of X Corp.,\n",
    "formerly Twitter, and his role in the founding of The Boring Company, xAI, Neuralink and OpenAI.\n",
    "He is one of the wealthiest people in the world; as of July 2024, Forbes estimates his net worth to be\n",
    "US$221 billion.Musk was born in Pretoria to Maye and engineer Errol Musk, and briefly attended\n",
    "the University of Pretoria before immigrating to Canada at age 18, acquiring citizenship through\n",
    "his Canadian-born mother. Two years later, he matriculated at Queen's University at Kingston in Canada.\n",
    "Musk later transferred to the University of Pennsylvania and received bachelor's degrees in economics\n",
    " and physics. He moved to California in 1995 to attend Stanford University, but dropped out after\n",
    "  two days and, with his brother Kimbal, co-founded online city guide software company Zip2.\n",
    " \"\"\"\n",
    "documents=[Document(page_content=text)]\n",
    "documents"
   ]
  },
  {
   "cell_type": "code",
   "execution_count": 9,
   "metadata": {
    "colab": {
     "base_uri": "https://localhost:8080/"
    },
    "id": "6mbEhsdS1Y0N",
    "outputId": "1c9f28e0-688b-42aa-8192-5adb050239e6"
   },
   "outputs": [
    {
     "name": "stdout",
     "output_type": "stream",
     "text": [
      "\u001b[?25l   \u001b[90m━━━━━━━━━━━━━━━━━━━━━━━━━━━━━━━━━━━━━━━━\u001b[0m \u001b[32m0.0/209.0 kB\u001b[0m \u001b[31m?\u001b[0m eta \u001b[36m-:--:--\u001b[0m\r\u001b[2K   \u001b[91m━━━━━━━━━━━━━━━━━━━━━━━━━━━━━━━━━━━━━━━\u001b[0m\u001b[90m╺\u001b[0m \u001b[32m204.8/209.0 kB\u001b[0m \u001b[31m6.6 MB/s\u001b[0m eta \u001b[36m0:00:01\u001b[0m\r\u001b[2K   \u001b[90m━━━━━━━━━━━━━━━━━━━━━━━━━━━━━━━━━━━━━━━━\u001b[0m \u001b[32m209.0/209.0 kB\u001b[0m \u001b[31m4.8 MB/s\u001b[0m eta \u001b[36m0:00:00\u001b[0m\n",
      "\u001b[?25h"
     ]
    }
   ],
   "source": [
    "!pip install --upgrade --quiet langchain_experimental"
   ]
  },
  {
   "cell_type": "code",
   "execution_count": 10,
   "metadata": {
    "id": "8ripzwTX0q1X"
   },
   "outputs": [],
   "source": [
    "from langchain_experimental.graph_transformers import LLMGraphTransformer\n",
    "llm_transformer=LLMGraphTransformer(llm=llm)"
   ]
  },
  {
   "cell_type": "code",
   "execution_count": 11,
   "metadata": {
    "id": "QedL67iH1ujK"
   },
   "outputs": [],
   "source": [
    "graph_documents=llm_transformer.convert_to_graph_documents(documents)"
   ]
  },
  {
   "cell_type": "code",
   "execution_count": 12,
   "metadata": {
    "colab": {
     "base_uri": "https://localhost:8080/"
    },
    "id": "uAdF2BZm13w4",
    "outputId": "f036b87c-a036-4bc2-d8c5-5f4ecf4373f9"
   },
   "outputs": [
    {
     "data": {
      "text/plain": [
       "[GraphDocument(nodes=[Node(id='Elon Reeve Musk', type='Person', properties={}), Node(id='Spacex', type='Organization', properties={}), Node(id='Tesla, Inc.', type='Organization', properties={}), Node(id='X Corp.', type='Organization', properties={}), Node(id='Twitter', type='Organization', properties={}), Node(id='The Boring Company', type='Organization', properties={}), Node(id='Xai', type='Organization', properties={}), Node(id='Neuralink', type='Organization', properties={}), Node(id='Openai', type='Organization', properties={}), Node(id='Maye Musk', type='Person', properties={}), Node(id='Errol Musk', type='Person', properties={}), Node(id='Kimbal Musk', type='Person', properties={}), Node(id='University Of Pretoria', type='Educational institution', properties={}), Node(id='Canada', type='Country', properties={}), Node(id=\"Queen'S University\", type='Educational institution', properties={}), Node(id='University Of Pennsylvania', type='Educational institution', properties={}), Node(id='California', type='Us state', properties={}), Node(id='Stanford University', type='Educational institution', properties={}), Node(id='Zip2', type='Organization', properties={})], relationships=[Relationship(source=Node(id='Elon Reeve Musk', type='Person', properties={}), target=Node(id='Spacex', type='Organization', properties={}), type='KEY_ROLE', properties={}), Relationship(source=Node(id='Elon Reeve Musk', type='Person', properties={}), target=Node(id='Tesla, Inc.', type='Organization', properties={}), type='KEY_ROLE', properties={}), Relationship(source=Node(id='Elon Reeve Musk', type='Person', properties={}), target=Node(id='X Corp.', type='Organization', properties={}), type='OWNERSHIP', properties={}), Relationship(source=Node(id='X Corp.', type='Organization', properties={}), target=Node(id='Twitter', type='Organization', properties={}), type='PREVIOUS_NAME', properties={}), Relationship(source=Node(id='Elon Reeve Musk', type='Person', properties={}), target=Node(id='The Boring Company', type='Organization', properties={}), type='FOUNDING', properties={}), Relationship(source=Node(id='Elon Reeve Musk', type='Person', properties={}), target=Node(id='Xai', type='Organization', properties={}), type='FOUNDING', properties={}), Relationship(source=Node(id='Elon Reeve Musk', type='Person', properties={}), target=Node(id='Neuralink', type='Organization', properties={}), type='FOUNDING', properties={}), Relationship(source=Node(id='Elon Reeve Musk', type='Person', properties={}), target=Node(id='Openai', type='Organization', properties={}), type='FOUNDING', properties={}), Relationship(source=Node(id='Elon Reeve Musk', type='Person', properties={}), target=Node(id='Maye Musk', type='Person', properties={}), type='PARENT', properties={}), Relationship(source=Node(id='Elon Reeve Musk', type='Person', properties={}), target=Node(id='Errol Musk', type='Person', properties={}), type='PARENT', properties={}), Relationship(source=Node(id='Elon Reeve Musk', type='Person', properties={}), target=Node(id='Kimbal Musk', type='Person', properties={}), type='BROTHER', properties={}), Relationship(source=Node(id='Elon Reeve Musk', type='Person', properties={}), target=Node(id='University Of Pretoria', type='Educational institution', properties={}), type='ATTENDED', properties={}), Relationship(source=Node(id='Elon Reeve Musk', type='Person', properties={}), target=Node(id='Canada', type='Country', properties={}), type='CITIZENSHIP', properties={}), Relationship(source=Node(id='Elon Reeve Musk', type='Person', properties={}), target=Node(id=\"Queen'S University\", type='Educational institution', properties={}), type='ATTENDED', properties={}), Relationship(source=Node(id='Elon Reeve Musk', type='Person', properties={}), target=Node(id='University Of Pennsylvania', type='Educational institution', properties={}), type='ATTENDED', properties={}), Relationship(source=Node(id='Elon Reeve Musk', type='Person', properties={}), target=Node(id='California', type='Us state', properties={}), type='RESIDENCE', properties={}), Relationship(source=Node(id='Elon Reeve Musk', type='Person', properties={}), target=Node(id='Stanford University', type='Educational institution', properties={}), type='ATTENDED', properties={}), Relationship(source=Node(id='Elon Reeve Musk', type='Person', properties={}), target=Node(id='Zip2', type='Organization', properties={}), type='FOUNDING', properties={})], source=Document(metadata={}, page_content=\"\\nElon Reeve Musk (born June 28, 1971) is a businessman and investor known for his key roles in space\\ncompany SpaceX and automotive company Tesla, Inc. Other involvements include ownership of X Corp.,\\nformerly Twitter, and his role in the founding of The Boring Company, xAI, Neuralink and OpenAI.\\nHe is one of the wealthiest people in the world; as of July 2024, Forbes estimates his net worth to be\\nUS$221 billion.Musk was born in Pretoria to Maye and engineer Errol Musk, and briefly attended\\nthe University of Pretoria before immigrating to Canada at age 18, acquiring citizenship through\\nhis Canadian-born mother. Two years later, he matriculated at Queen's University at Kingston in Canada.\\nMusk later transferred to the University of Pennsylvania and received bachelor's degrees in economics\\n and physics. He moved to California in 1995 to attend Stanford University, but dropped out after\\n  two days and, with his brother Kimbal, co-founded online city guide software company Zip2.\\n \"))]"
      ]
     },
     "execution_count": 12,
     "metadata": {},
     "output_type": "execute_result"
    }
   ],
   "source": [
    "graph_documents"
   ]
  },
  {
   "cell_type": "code",
   "execution_count": 13,
   "metadata": {
    "colab": {
     "base_uri": "https://localhost:8080/"
    },
    "id": "h3pSzKLE2OJj",
    "outputId": "6c04a446-a9a1-44b9-8e33-4eb2f347f233"
   },
   "outputs": [
    {
     "data": {
      "text/plain": [
       "[Node(id='Elon Reeve Musk', type='Person', properties={}),\n",
       " Node(id='Spacex', type='Organization', properties={}),\n",
       " Node(id='Tesla, Inc.', type='Organization', properties={}),\n",
       " Node(id='X Corp.', type='Organization', properties={}),\n",
       " Node(id='Twitter', type='Organization', properties={}),\n",
       " Node(id='The Boring Company', type='Organization', properties={}),\n",
       " Node(id='Xai', type='Organization', properties={}),\n",
       " Node(id='Neuralink', type='Organization', properties={}),\n",
       " Node(id='Openai', type='Organization', properties={}),\n",
       " Node(id='Maye Musk', type='Person', properties={}),\n",
       " Node(id='Errol Musk', type='Person', properties={}),\n",
       " Node(id='Kimbal Musk', type='Person', properties={}),\n",
       " Node(id='University Of Pretoria', type='Educational institution', properties={}),\n",
       " Node(id='Canada', type='Country', properties={}),\n",
       " Node(id=\"Queen'S University\", type='Educational institution', properties={}),\n",
       " Node(id='University Of Pennsylvania', type='Educational institution', properties={}),\n",
       " Node(id='California', type='Us state', properties={}),\n",
       " Node(id='Stanford University', type='Educational institution', properties={}),\n",
       " Node(id='Zip2', type='Organization', properties={})]"
      ]
     },
     "execution_count": 13,
     "metadata": {},
     "output_type": "execute_result"
    }
   ],
   "source": [
    "graph_documents[0].nodes"
   ]
  },
  {
   "cell_type": "code",
   "execution_count": 14,
   "metadata": {
    "colab": {
     "base_uri": "https://localhost:8080/"
    },
    "id": "DvvdoA5W2fEZ",
    "outputId": "b94b038e-9718-4b04-a957-b1aa80322648"
   },
   "outputs": [
    {
     "data": {
      "text/plain": [
       "[Relationship(source=Node(id='Elon Reeve Musk', type='Person', properties={}), target=Node(id='Spacex', type='Organization', properties={}), type='KEY_ROLE', properties={}),\n",
       " Relationship(source=Node(id='Elon Reeve Musk', type='Person', properties={}), target=Node(id='Tesla, Inc.', type='Organization', properties={}), type='KEY_ROLE', properties={}),\n",
       " Relationship(source=Node(id='Elon Reeve Musk', type='Person', properties={}), target=Node(id='X Corp.', type='Organization', properties={}), type='OWNERSHIP', properties={}),\n",
       " Relationship(source=Node(id='X Corp.', type='Organization', properties={}), target=Node(id='Twitter', type='Organization', properties={}), type='PREVIOUS_NAME', properties={}),\n",
       " Relationship(source=Node(id='Elon Reeve Musk', type='Person', properties={}), target=Node(id='The Boring Company', type='Organization', properties={}), type='FOUNDING', properties={}),\n",
       " Relationship(source=Node(id='Elon Reeve Musk', type='Person', properties={}), target=Node(id='Xai', type='Organization', properties={}), type='FOUNDING', properties={}),\n",
       " Relationship(source=Node(id='Elon Reeve Musk', type='Person', properties={}), target=Node(id='Neuralink', type='Organization', properties={}), type='FOUNDING', properties={}),\n",
       " Relationship(source=Node(id='Elon Reeve Musk', type='Person', properties={}), target=Node(id='Openai', type='Organization', properties={}), type='FOUNDING', properties={}),\n",
       " Relationship(source=Node(id='Elon Reeve Musk', type='Person', properties={}), target=Node(id='Maye Musk', type='Person', properties={}), type='PARENT', properties={}),\n",
       " Relationship(source=Node(id='Elon Reeve Musk', type='Person', properties={}), target=Node(id='Errol Musk', type='Person', properties={}), type='PARENT', properties={}),\n",
       " Relationship(source=Node(id='Elon Reeve Musk', type='Person', properties={}), target=Node(id='Kimbal Musk', type='Person', properties={}), type='BROTHER', properties={}),\n",
       " Relationship(source=Node(id='Elon Reeve Musk', type='Person', properties={}), target=Node(id='University Of Pretoria', type='Educational institution', properties={}), type='ATTENDED', properties={}),\n",
       " Relationship(source=Node(id='Elon Reeve Musk', type='Person', properties={}), target=Node(id='Canada', type='Country', properties={}), type='CITIZENSHIP', properties={}),\n",
       " Relationship(source=Node(id='Elon Reeve Musk', type='Person', properties={}), target=Node(id=\"Queen'S University\", type='Educational institution', properties={}), type='ATTENDED', properties={}),\n",
       " Relationship(source=Node(id='Elon Reeve Musk', type='Person', properties={}), target=Node(id='University Of Pennsylvania', type='Educational institution', properties={}), type='ATTENDED', properties={}),\n",
       " Relationship(source=Node(id='Elon Reeve Musk', type='Person', properties={}), target=Node(id='California', type='Us state', properties={}), type='RESIDENCE', properties={}),\n",
       " Relationship(source=Node(id='Elon Reeve Musk', type='Person', properties={}), target=Node(id='Stanford University', type='Educational institution', properties={}), type='ATTENDED', properties={}),\n",
       " Relationship(source=Node(id='Elon Reeve Musk', type='Person', properties={}), target=Node(id='Zip2', type='Organization', properties={}), type='FOUNDING', properties={})]"
      ]
     },
     "execution_count": 14,
     "metadata": {},
     "output_type": "execute_result"
    }
   ],
   "source": [
    "graph_documents[0].relationships"
   ]
  }
 ],
 "metadata": {
  "accelerator": "GPU",
  "colab": {
   "gpuType": "T4",
   "provenance": []
  },
  "kernelspec": {
   "display_name": "Python 3",
   "name": "python3"
  },
  "language_info": {
   "name": "python"
  }
 },
 "nbformat": 4,
 "nbformat_minor": 0
}
