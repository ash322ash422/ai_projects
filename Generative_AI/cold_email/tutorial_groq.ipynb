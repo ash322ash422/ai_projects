{
 "cells": [
  {
   "cell_type": "code",
   "execution_count": 1,
   "id": "0f76f97c",
   "metadata": {},
   "outputs": [
    {
     "name": "stdout",
     "output_type": "stream",
     "text": [
      "Some synonyms of the word \"ecstatic\" include:\n",
      "\n",
      "1. Elated\n",
      "2. Euphoric\n",
      "3. Overjoyed\n",
      "4. Thrilled\n",
      "5. Delighted\n",
      "6. Enthusiastic\n",
      "7. Exuberant\n",
      "8. Jubilant\n",
      "9. Radiant\n",
      "10. Blissful\n",
      "11. Exhilarated\n",
      "12. Triumphant\n",
      "13. Cheerful\n",
      "14. Merry\n",
      "15. Rapturous\n",
      "\n",
      "These words all convey a strong sense of happiness, excitement, or joy.\n"
     ]
    }
   ],
   "source": [
    "from langchain_groq import ChatGroq\n",
    "\n",
    "llm = ChatGroq(\n",
    "    temperature=0, \n",
    "    groq_api_key=\"<your_key>\", \n",
    "    model_name=\"llama-3.1-70b-versatile\"\n",
    ")\n",
    "\n",
    "response = llm.invoke(\"Synonyms of word ecstatic ...\")\n",
    "print(response.content)"
   ]
  },
  {
   "cell_type": "code",
   "execution_count": null,
   "id": "8d973e7d-5767-4965-ada7-6d945a5c175d",
   "metadata": {},
   "outputs": [],
   "source": []
  }
 ],
 "metadata": {
  "kernelspec": {
   "display_name": "Python 3 (ipykernel)",
   "language": "python",
   "name": "python3"
  },
  "language_info": {
   "codemirror_mode": {
    "name": "ipython",
    "version": 3
   },
   "file_extension": ".py",
   "mimetype": "text/x-python",
   "name": "python",
   "nbconvert_exporter": "python",
   "pygments_lexer": "ipython3",
   "version": "3.11.2"
  }
 },
 "nbformat": 4,
 "nbformat_minor": 5
}
