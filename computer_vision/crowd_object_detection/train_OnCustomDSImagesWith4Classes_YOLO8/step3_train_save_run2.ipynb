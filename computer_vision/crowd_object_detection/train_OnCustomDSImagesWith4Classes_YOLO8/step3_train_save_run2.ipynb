{
 "cells": [
  {
   "cell_type": "code",
   "execution_count": 1,
   "metadata": {
    "colab": {
     "base_uri": "https://localhost:8080/"
    },
    "id": "-a5c6LR5lWFo",
    "outputId": "2db0bcfb-0a6f-436e-b6e0-d1e291c2e716"
   },
   "outputs": [
    {
     "name": "stdout",
     "output_type": "stream",
     "text": [
      "Collecting ultralytics\n",
      "  Downloading ultralytics-8.3.33-py3-none-any.whl.metadata (35 kB)\n",
      "Requirement already satisfied: numpy>=1.23.0 in /usr/local/lib/python3.10/dist-packages (from ultralytics) (1.26.4)\n",
      "Requirement already satisfied: matplotlib>=3.3.0 in /usr/local/lib/python3.10/dist-packages (from ultralytics) (3.8.0)\n",
      "Requirement already satisfied: opencv-python>=4.6.0 in /usr/local/lib/python3.10/dist-packages (from ultralytics) (4.10.0.84)\n",
      "Requirement already satisfied: pillow>=7.1.2 in /usr/local/lib/python3.10/dist-packages (from ultralytics) (11.0.0)\n",
      "Requirement already satisfied: pyyaml>=5.3.1 in /usr/local/lib/python3.10/dist-packages (from ultralytics) (6.0.2)\n",
      "Requirement already satisfied: requests>=2.23.0 in /usr/local/lib/python3.10/dist-packages (from ultralytics) (2.32.3)\n",
      "Requirement already satisfied: scipy>=1.4.1 in /usr/local/lib/python3.10/dist-packages (from ultralytics) (1.13.1)\n",
      "Requirement already satisfied: torch>=1.8.0 in /usr/local/lib/python3.10/dist-packages (from ultralytics) (2.5.1+cu121)\n",
      "Requirement already satisfied: torchvision>=0.9.0 in /usr/local/lib/python3.10/dist-packages (from ultralytics) (0.20.1+cu121)\n",
      "Requirement already satisfied: tqdm>=4.64.0 in /usr/local/lib/python3.10/dist-packages (from ultralytics) (4.66.6)\n",
      "Requirement already satisfied: psutil in /usr/local/lib/python3.10/dist-packages (from ultralytics) (5.9.5)\n",
      "Requirement already satisfied: py-cpuinfo in /usr/local/lib/python3.10/dist-packages (from ultralytics) (9.0.0)\n",
      "Requirement already satisfied: pandas>=1.1.4 in /usr/local/lib/python3.10/dist-packages (from ultralytics) (2.2.2)\n",
      "Requirement already satisfied: seaborn>=0.11.0 in /usr/local/lib/python3.10/dist-packages (from ultralytics) (0.13.2)\n",
      "Collecting ultralytics-thop>=2.0.0 (from ultralytics)\n",
      "  Downloading ultralytics_thop-2.0.12-py3-none-any.whl.metadata (9.4 kB)\n",
      "Requirement already satisfied: contourpy>=1.0.1 in /usr/local/lib/python3.10/dist-packages (from matplotlib>=3.3.0->ultralytics) (1.3.1)\n",
      "Requirement already satisfied: cycler>=0.10 in /usr/local/lib/python3.10/dist-packages (from matplotlib>=3.3.0->ultralytics) (0.12.1)\n",
      "Requirement already satisfied: fonttools>=4.22.0 in /usr/local/lib/python3.10/dist-packages (from matplotlib>=3.3.0->ultralytics) (4.54.1)\n",
      "Requirement already satisfied: kiwisolver>=1.0.1 in /usr/local/lib/python3.10/dist-packages (from matplotlib>=3.3.0->ultralytics) (1.4.7)\n",
      "Requirement already satisfied: packaging>=20.0 in /usr/local/lib/python3.10/dist-packages (from matplotlib>=3.3.0->ultralytics) (24.2)\n",
      "Requirement already satisfied: pyparsing>=2.3.1 in /usr/local/lib/python3.10/dist-packages (from matplotlib>=3.3.0->ultralytics) (3.2.0)\n",
      "Requirement already satisfied: python-dateutil>=2.7 in /usr/local/lib/python3.10/dist-packages (from matplotlib>=3.3.0->ultralytics) (2.8.2)\n",
      "Requirement already satisfied: pytz>=2020.1 in /usr/local/lib/python3.10/dist-packages (from pandas>=1.1.4->ultralytics) (2024.2)\n",
      "Requirement already satisfied: tzdata>=2022.7 in /usr/local/lib/python3.10/dist-packages (from pandas>=1.1.4->ultralytics) (2024.2)\n",
      "Requirement already satisfied: charset-normalizer<4,>=2 in /usr/local/lib/python3.10/dist-packages (from requests>=2.23.0->ultralytics) (3.4.0)\n",
      "Requirement already satisfied: idna<4,>=2.5 in /usr/local/lib/python3.10/dist-packages (from requests>=2.23.0->ultralytics) (3.10)\n",
      "Requirement already satisfied: urllib3<3,>=1.21.1 in /usr/local/lib/python3.10/dist-packages (from requests>=2.23.0->ultralytics) (2.2.3)\n",
      "Requirement already satisfied: certifi>=2017.4.17 in /usr/local/lib/python3.10/dist-packages (from requests>=2.23.0->ultralytics) (2024.8.30)\n",
      "Requirement already satisfied: filelock in /usr/local/lib/python3.10/dist-packages (from torch>=1.8.0->ultralytics) (3.16.1)\n",
      "Requirement already satisfied: typing-extensions>=4.8.0 in /usr/local/lib/python3.10/dist-packages (from torch>=1.8.0->ultralytics) (4.12.2)\n",
      "Requirement already satisfied: networkx in /usr/local/lib/python3.10/dist-packages (from torch>=1.8.0->ultralytics) (3.4.2)\n",
      "Requirement already satisfied: jinja2 in /usr/local/lib/python3.10/dist-packages (from torch>=1.8.0->ultralytics) (3.1.4)\n",
      "Requirement already satisfied: fsspec in /usr/local/lib/python3.10/dist-packages (from torch>=1.8.0->ultralytics) (2024.10.0)\n",
      "Requirement already satisfied: sympy==1.13.1 in /usr/local/lib/python3.10/dist-packages (from torch>=1.8.0->ultralytics) (1.13.1)\n",
      "Requirement already satisfied: mpmath<1.4,>=1.1.0 in /usr/local/lib/python3.10/dist-packages (from sympy==1.13.1->torch>=1.8.0->ultralytics) (1.3.0)\n",
      "Requirement already satisfied: six>=1.5 in /usr/local/lib/python3.10/dist-packages (from python-dateutil>=2.7->matplotlib>=3.3.0->ultralytics) (1.16.0)\n",
      "Requirement already satisfied: MarkupSafe>=2.0 in /usr/local/lib/python3.10/dist-packages (from jinja2->torch>=1.8.0->ultralytics) (3.0.2)\n",
      "Downloading ultralytics-8.3.33-py3-none-any.whl (887 kB)\n",
      "\u001b[2K   \u001b[90m━━━━━━━━━━━━━━━━━━━━━━━━━━━━━━━━━━━━━━━━\u001b[0m \u001b[32m887.2/887.2 kB\u001b[0m \u001b[31m48.5 MB/s\u001b[0m eta \u001b[36m0:00:00\u001b[0m\n",
      "\u001b[?25hDownloading ultralytics_thop-2.0.12-py3-none-any.whl (26 kB)\n",
      "Installing collected packages: ultralytics-thop, ultralytics\n",
      "Successfully installed ultralytics-8.3.33 ultralytics-thop-2.0.12\n"
     ]
    }
   ],
   "source": [
    "!pip install ultralytics"
   ]
  },
  {
   "cell_type": "code",
   "execution_count": 2,
   "metadata": {
    "colab": {
     "base_uri": "https://localhost:8080/"
    },
    "id": "FMSOymvNmOW3",
    "outputId": "a7b12125-8e5b-437f-b306-9bb34fe22265"
   },
   "outputs": [
    {
     "name": "stdout",
     "output_type": "stream",
     "text": [
      "Archive:  /content/sample_data/data_preprocessed_step2.zip\n",
      "   creating: /content/temp/data_preprocessed_step2/\n",
      "  inflating: /content/temp/data_preprocessed_step2/coco8.yaml  \n",
      "   creating: /content/temp/data_preprocessed_step2/test/\n",
      "   creating: /content/temp/data_preprocessed_step2/test/images/\n",
      "  inflating: /content/temp/data_preprocessed_step2/test/images/bisturi420.jpg  \n",
      "  inflating: /content/temp/data_preprocessed_step2/test/images/bisturi470.jpg  \n",
      "  inflating: /content/temp/data_preprocessed_step2/test/images/bisturi545.jpg  \n",
      "  inflating: /content/temp/data_preprocessed_step2/test/images/bisturi569.jpg  \n",
      "  inflating: /content/temp/data_preprocessed_step2/test/images/bisturi716.jpg  \n",
      "  inflating: /content/temp/data_preprocessed_step2/test/images/pinca10.jpg  \n",
      "  inflating: /content/temp/data_preprocessed_step2/test/images/pinca136.jpg  \n",
      "  inflating: /content/temp/data_preprocessed_step2/test/images/pinca150.jpg  \n",
      "  inflating: /content/temp/data_preprocessed_step2/test/images/pinca166.jpg  \n",
      "  inflating: /content/temp/data_preprocessed_step2/test/images/pinca219.jpg  \n",
      "  inflating: /content/temp/data_preprocessed_step2/test/images/pinca254.jpg  \n",
      "  inflating: /content/temp/data_preprocessed_step2/test/images/pinca300.jpg  \n",
      "  inflating: /content/temp/data_preprocessed_step2/test/images/pinca34.jpg  \n",
      "  inflating: /content/temp/data_preprocessed_step2/test/images/pinca417.jpg  \n",
      "  inflating: /content/temp/data_preprocessed_step2/test/images/pinca428.jpg  \n",
      "  inflating: /content/temp/data_preprocessed_step2/test/images/pinca451.jpg  \n",
      "  inflating: /content/temp/data_preprocessed_step2/test/images/pinca456.jpg  \n",
      "  inflating: /content/temp/data_preprocessed_step2/test/images/pinca500.jpg  \n",
      "  inflating: /content/temp/data_preprocessed_step2/test/images/pinca574.jpg  \n",
      "  inflating: /content/temp/data_preprocessed_step2/test/images/separado35.jpg  \n",
      "  inflating: /content/temp/data_preprocessed_step2/test/images/separado87.jpg  \n",
      "  inflating: /content/temp/data_preprocessed_step2/test/images/tesouracurva207.jpg  \n",
      "  inflating: /content/temp/data_preprocessed_step2/test/images/tesouracurva26.jpg  \n",
      "  inflating: /content/temp/data_preprocessed_step2/test/images/tesouracurva300.jpg  \n",
      "  inflating: /content/temp/data_preprocessed_step2/test/images/tesouracurva440.jpg  \n",
      "  inflating: /content/temp/data_preprocessed_step2/test/images/tesouracurva46.jpg  \n",
      "  inflating: /content/temp/data_preprocessed_step2/test/images/tesouracurva689.jpg  \n",
      "  inflating: /content/temp/data_preprocessed_step2/test/images/tesouracurva690.jpg  \n",
      "  inflating: /content/temp/data_preprocessed_step2/test/images/tesouracurva697.jpg  \n",
      "  inflating: /content/temp/data_preprocessed_step2/test/images/tesouracurva73.jpg  \n",
      "  inflating: /content/temp/data_preprocessed_step2/test/images/tesouracurva74.jpg  \n",
      "  inflating: /content/temp/data_preprocessed_step2/test/images/tesouracurva775.jpg  \n",
      "  inflating: /content/temp/data_preprocessed_step2/test/images/tesouracurva78.jpg  \n",
      "  inflating: /content/temp/data_preprocessed_step2/test/images/tesouracurva794.jpg  \n",
      "  inflating: /content/temp/data_preprocessed_step2/test/images/tesouracurva810.jpg  \n",
      "  inflating: /content/temp/data_preprocessed_step2/test/images/tesourareta102.jpg  \n",
      "  inflating: /content/temp/data_preprocessed_step2/test/images/tesourareta355.jpg  \n",
      "  inflating: /content/temp/data_preprocessed_step2/test/images/tesourareta479.jpg  \n",
      "  inflating: /content/temp/data_preprocessed_step2/test/images/tesourareta63.jpg  \n",
      "  inflating: /content/temp/data_preprocessed_step2/test/images/tesourareta647.jpg  \n",
      "   creating: /content/temp/data_preprocessed_step2/test/labels/\n",
      "  inflating: /content/temp/data_preprocessed_step2/test/labels/bisturi420.txt  \n",
      "  inflating: /content/temp/data_preprocessed_step2/test/labels/bisturi470.txt  \n",
      "  inflating: /content/temp/data_preprocessed_step2/test/labels/bisturi545.txt  \n",
      "  inflating: /content/temp/data_preprocessed_step2/test/labels/bisturi569.txt  \n",
      "  inflating: /content/temp/data_preprocessed_step2/test/labels/bisturi716.txt  \n",
      "  inflating: /content/temp/data_preprocessed_step2/test/labels/pinca10.txt  \n",
      "  inflating: /content/temp/data_preprocessed_step2/test/labels/pinca136.txt  \n",
      "  inflating: /content/temp/data_preprocessed_step2/test/labels/pinca150.txt  \n",
      "  inflating: /content/temp/data_preprocessed_step2/test/labels/pinca166.txt  \n",
      "  inflating: /content/temp/data_preprocessed_step2/test/labels/pinca219.txt  \n",
      "  inflating: /content/temp/data_preprocessed_step2/test/labels/pinca254.txt  \n",
      "  inflating: /content/temp/data_preprocessed_step2/test/labels/pinca300.txt  \n",
      "  inflating: /content/temp/data_preprocessed_step2/test/labels/pinca34.txt  \n",
      "  inflating: /content/temp/data_preprocessed_step2/test/labels/pinca417.txt  \n",
      "  inflating: /content/temp/data_preprocessed_step2/test/labels/pinca428.txt  \n",
      "  inflating: /content/temp/data_preprocessed_step2/test/labels/pinca451.txt  \n",
      "  inflating: /content/temp/data_preprocessed_step2/test/labels/pinca456.txt  \n",
      "  inflating: /content/temp/data_preprocessed_step2/test/labels/pinca500.txt  \n",
      "  inflating: /content/temp/data_preprocessed_step2/test/labels/pinca574.txt  \n",
      "  inflating: /content/temp/data_preprocessed_step2/test/labels/separado35.txt  \n",
      "  inflating: /content/temp/data_preprocessed_step2/test/labels/separado87.txt  \n",
      "  inflating: /content/temp/data_preprocessed_step2/test/labels/tesouracurva207.txt  \n",
      "  inflating: /content/temp/data_preprocessed_step2/test/labels/tesouracurva26.txt  \n",
      "  inflating: /content/temp/data_preprocessed_step2/test/labels/tesouracurva300.txt  \n",
      "  inflating: /content/temp/data_preprocessed_step2/test/labels/tesouracurva440.txt  \n",
      "  inflating: /content/temp/data_preprocessed_step2/test/labels/tesouracurva46.txt  \n",
      "  inflating: /content/temp/data_preprocessed_step2/test/labels/tesouracurva689.txt  \n",
      "  inflating: /content/temp/data_preprocessed_step2/test/labels/tesouracurva690.txt  \n",
      "  inflating: /content/temp/data_preprocessed_step2/test/labels/tesouracurva697.txt  \n",
      "  inflating: /content/temp/data_preprocessed_step2/test/labels/tesouracurva73.txt  \n",
      "  inflating: /content/temp/data_preprocessed_step2/test/labels/tesouracurva74.txt  \n",
      "  inflating: /content/temp/data_preprocessed_step2/test/labels/tesouracurva775.txt  \n",
      "  inflating: /content/temp/data_preprocessed_step2/test/labels/tesouracurva78.txt  \n",
      "  inflating: /content/temp/data_preprocessed_step2/test/labels/tesouracurva794.txt  \n",
      "  inflating: /content/temp/data_preprocessed_step2/test/labels/tesouracurva810.txt  \n",
      "  inflating: /content/temp/data_preprocessed_step2/test/labels/tesourareta102.txt  \n",
      "  inflating: /content/temp/data_preprocessed_step2/test/labels/tesourareta355.txt  \n",
      "  inflating: /content/temp/data_preprocessed_step2/test/labels/tesourareta479.txt  \n",
      "  inflating: /content/temp/data_preprocessed_step2/test/labels/tesourareta63.txt  \n",
      "  inflating: /content/temp/data_preprocessed_step2/test/labels/tesourareta647.txt  \n",
      "  inflating: /content/temp/data_preprocessed_step2/test/labels.cache  \n",
      "   creating: /content/temp/data_preprocessed_step2/train/\n",
      "   creating: /content/temp/data_preprocessed_step2/train/images/\n",
      "  inflating: /content/temp/data_preprocessed_step2/train/images/bisturi10.jpg  \n",
      "  inflating: /content/temp/data_preprocessed_step2/train/images/bisturi112.jpg  \n",
      "  inflating: /content/temp/data_preprocessed_step2/train/images/bisturi12.jpg  \n",
      "  inflating: /content/temp/data_preprocessed_step2/train/images/bisturi123.jpg  \n",
      "  inflating: /content/temp/data_preprocessed_step2/train/images/bisturi134.jpg  \n",
      "  inflating: /content/temp/data_preprocessed_step2/train/images/bisturi135.jpg  \n",
      "  inflating: /content/temp/data_preprocessed_step2/train/images/bisturi140.jpg  \n",
      "  inflating: /content/temp/data_preprocessed_step2/train/images/bisturi151.jpg  \n",
      "  inflating: /content/temp/data_preprocessed_step2/train/images/bisturi161.jpg  \n",
      "  inflating: /content/temp/data_preprocessed_step2/train/images/bisturi173.jpg  \n",
      "  inflating: /content/temp/data_preprocessed_step2/train/images/bisturi175.jpg  \n",
      "  inflating: /content/temp/data_preprocessed_step2/train/images/bisturi206.jpg  \n",
      "  inflating: /content/temp/data_preprocessed_step2/train/images/bisturi236.jpg  \n",
      "  inflating: /content/temp/data_preprocessed_step2/train/images/bisturi242.jpg  \n",
      "  inflating: /content/temp/data_preprocessed_step2/train/images/bisturi26.jpg  \n",
      "  inflating: /content/temp/data_preprocessed_step2/train/images/bisturi261.jpg  \n",
      "  inflating: /content/temp/data_preprocessed_step2/train/images/bisturi263.jpg  \n",
      "  inflating: /content/temp/data_preprocessed_step2/train/images/bisturi270.jpg  \n",
      "  inflating: /content/temp/data_preprocessed_step2/train/images/bisturi288.jpg  \n",
      "  inflating: /content/temp/data_preprocessed_step2/train/images/bisturi293.jpg  \n",
      "  inflating: /content/temp/data_preprocessed_step2/train/images/bisturi297.jpg  \n",
      "  inflating: /content/temp/data_preprocessed_step2/train/images/bisturi315.jpg  \n",
      "  inflating: /content/temp/data_preprocessed_step2/train/images/bisturi330.jpg  \n",
      "  inflating: /content/temp/data_preprocessed_step2/train/images/bisturi334.jpg  \n",
      "  inflating: /content/temp/data_preprocessed_step2/train/images/bisturi349.jpg  \n",
      "  inflating: /content/temp/data_preprocessed_step2/train/images/bisturi350.jpg  \n",
      "  inflating: /content/temp/data_preprocessed_step2/train/images/bisturi354.jpg  \n",
      "  inflating: /content/temp/data_preprocessed_step2/train/images/bisturi356.jpg  \n",
      "  inflating: /content/temp/data_preprocessed_step2/train/images/bisturi369.jpg  \n",
      "  inflating: /content/temp/data_preprocessed_step2/train/images/bisturi387.jpg  \n",
      "  inflating: /content/temp/data_preprocessed_step2/train/images/bisturi410.jpg  \n",
      "  inflating: /content/temp/data_preprocessed_step2/train/images/bisturi431.jpg  \n",
      "  inflating: /content/temp/data_preprocessed_step2/train/images/bisturi432.jpg  \n",
      "  inflating: /content/temp/data_preprocessed_step2/train/images/bisturi435.jpg  \n",
      "  inflating: /content/temp/data_preprocessed_step2/train/images/bisturi442.jpg  \n",
      "  inflating: /content/temp/data_preprocessed_step2/train/images/bisturi467.jpg  \n",
      "  inflating: /content/temp/data_preprocessed_step2/train/images/bisturi471.jpg  \n",
      "  inflating: /content/temp/data_preprocessed_step2/train/images/bisturi50.jpg  \n",
      "  inflating: /content/temp/data_preprocessed_step2/train/images/bisturi505.jpg  \n",
      "  inflating: /content/temp/data_preprocessed_step2/train/images/bisturi533.jpg  \n",
      "  inflating: /content/temp/data_preprocessed_step2/train/images/bisturi539.jpg  \n",
      "  inflating: /content/temp/data_preprocessed_step2/train/images/bisturi54.jpg  \n",
      "  inflating: /content/temp/data_preprocessed_step2/train/images/bisturi540.jpg  \n",
      "  inflating: /content/temp/data_preprocessed_step2/train/images/bisturi546.jpg  \n",
      "  inflating: /content/temp/data_preprocessed_step2/train/images/bisturi550.jpg  \n",
      "  inflating: /content/temp/data_preprocessed_step2/train/images/bisturi555.jpg  \n",
      "  inflating: /content/temp/data_preprocessed_step2/train/images/bisturi570.jpg  \n",
      "  inflating: /content/temp/data_preprocessed_step2/train/images/bisturi591.jpg  \n",
      "  inflating: /content/temp/data_preprocessed_step2/train/images/bisturi605.jpg  \n",
      "  inflating: /content/temp/data_preprocessed_step2/train/images/bisturi613.jpg  \n",
      "  inflating: /content/temp/data_preprocessed_step2/train/images/bisturi617.jpg  \n",
      "  inflating: /content/temp/data_preprocessed_step2/train/images/bisturi62.jpg  \n",
      "  inflating: /content/temp/data_preprocessed_step2/train/images/bisturi625.jpg  \n",
      "  inflating: /content/temp/data_preprocessed_step2/train/images/bisturi641.jpg  \n",
      "  inflating: /content/temp/data_preprocessed_step2/train/images/bisturi658.jpg  \n",
      "  inflating: /content/temp/data_preprocessed_step2/train/images/bisturi660.jpg  \n",
      "  inflating: /content/temp/data_preprocessed_step2/train/images/bisturi672.jpg  \n",
      "  inflating: /content/temp/data_preprocessed_step2/train/images/bisturi676.jpg  \n",
      "  inflating: /content/temp/data_preprocessed_step2/train/images/bisturi680.jpg  \n",
      "  inflating: /content/temp/data_preprocessed_step2/train/images/bisturi685.jpg  \n",
      "  inflating: /content/temp/data_preprocessed_step2/train/images/bisturi686.jpg  \n",
      "  inflating: /content/temp/data_preprocessed_step2/train/images/bisturi689.jpg  \n",
      "  inflating: /content/temp/data_preprocessed_step2/train/images/bisturi698.jpg  \n",
      "  inflating: /content/temp/data_preprocessed_step2/train/images/bisturi701.jpg  \n",
      "  inflating: /content/temp/data_preprocessed_step2/train/images/bisturi73.jpg  \n",
      "  inflating: /content/temp/data_preprocessed_step2/train/images/bisturi731.jpg  \n",
      "  inflating: /content/temp/data_preprocessed_step2/train/images/bisturi737.jpg  \n",
      "  inflating: /content/temp/data_preprocessed_step2/train/images/bisturi75.jpg  \n",
      "  inflating: /content/temp/data_preprocessed_step2/train/images/pinca155.jpg  \n",
      "  inflating: /content/temp/data_preprocessed_step2/train/images/pinca156.jpg  \n",
      "  inflating: /content/temp/data_preprocessed_step2/train/images/pinca176.jpg  \n",
      "  inflating: /content/temp/data_preprocessed_step2/train/images/pinca177.jpg  \n",
      "  inflating: /content/temp/data_preprocessed_step2/train/images/pinca179.jpg  \n",
      "  inflating: /content/temp/data_preprocessed_step2/train/images/pinca180.jpg  \n",
      "  inflating: /content/temp/data_preprocessed_step2/train/images/pinca190.jpg  \n",
      "  inflating: /content/temp/data_preprocessed_step2/train/images/pinca193.jpg  \n",
      "  inflating: /content/temp/data_preprocessed_step2/train/images/pinca194.jpg  \n",
      "  inflating: /content/temp/data_preprocessed_step2/train/images/pinca196.jpg  \n",
      "  inflating: /content/temp/data_preprocessed_step2/train/images/pinca197.jpg  \n",
      "  inflating: /content/temp/data_preprocessed_step2/train/images/pinca199.jpg  \n",
      "  inflating: /content/temp/data_preprocessed_step2/train/images/pinca203.jpg  \n",
      "  inflating: /content/temp/data_preprocessed_step2/train/images/pinca205.jpg  \n",
      "  inflating: /content/temp/data_preprocessed_step2/train/images/pinca212.jpg  \n",
      "  inflating: /content/temp/data_preprocessed_step2/train/images/pinca225.jpg  \n",
      "  inflating: /content/temp/data_preprocessed_step2/train/images/pinca234.jpg  \n",
      "  inflating: /content/temp/data_preprocessed_step2/train/images/pinca240.jpg  \n",
      "  inflating: /content/temp/data_preprocessed_step2/train/images/pinca244.jpg  \n",
      "  inflating: /content/temp/data_preprocessed_step2/train/images/pinca245.jpg  \n",
      "  inflating: /content/temp/data_preprocessed_step2/train/images/pinca246.jpg  \n",
      "  inflating: /content/temp/data_preprocessed_step2/train/images/pinca247.jpg  \n",
      "  inflating: /content/temp/data_preprocessed_step2/train/images/pinca258.jpg  \n",
      "  inflating: /content/temp/data_preprocessed_step2/train/images/pinca263.jpg  \n",
      "  inflating: /content/temp/data_preprocessed_step2/train/images/pinca272.jpg  \n",
      "  inflating: /content/temp/data_preprocessed_step2/train/images/pinca277.jpg  \n",
      "  inflating: /content/temp/data_preprocessed_step2/train/images/pinca28.jpg  \n",
      "  inflating: /content/temp/data_preprocessed_step2/train/images/pinca287.jpg  \n",
      "  inflating: /content/temp/data_preprocessed_step2/train/images/pinca290.jpg  \n",
      "  inflating: /content/temp/data_preprocessed_step2/train/images/pinca303.jpg  \n",
      "  inflating: /content/temp/data_preprocessed_step2/train/images/pinca305.jpg  \n",
      "  inflating: /content/temp/data_preprocessed_step2/train/images/pinca308.jpg  \n",
      "  inflating: /content/temp/data_preprocessed_step2/train/images/pinca318.jpg  \n",
      "  inflating: /content/temp/data_preprocessed_step2/train/images/pinca327.jpg  \n",
      "  inflating: /content/temp/data_preprocessed_step2/train/images/pinca33.jpg  \n",
      "  inflating: /content/temp/data_preprocessed_step2/train/images/pinca332.jpg  \n",
      "  inflating: /content/temp/data_preprocessed_step2/train/images/pinca333.jpg  \n",
      "  inflating: /content/temp/data_preprocessed_step2/train/images/pinca338.jpg  \n",
      "  inflating: /content/temp/data_preprocessed_step2/train/images/pinca345.jpg  \n",
      "  inflating: /content/temp/data_preprocessed_step2/train/images/pinca349.jpg  \n",
      "  inflating: /content/temp/data_preprocessed_step2/train/images/pinca354.jpg  \n",
      "  inflating: /content/temp/data_preprocessed_step2/train/images/pinca358.jpg  \n",
      "  inflating: /content/temp/data_preprocessed_step2/train/images/pinca363.jpg  \n",
      "  inflating: /content/temp/data_preprocessed_step2/train/images/pinca368.jpg  \n",
      "  inflating: /content/temp/data_preprocessed_step2/train/images/pinca37.jpg  \n",
      "  inflating: /content/temp/data_preprocessed_step2/train/images/pinca376.jpg  \n",
      "  inflating: /content/temp/data_preprocessed_step2/train/images/pinca394.jpg  \n",
      "  inflating: /content/temp/data_preprocessed_step2/train/images/pinca411.jpg  \n",
      "  inflating: /content/temp/data_preprocessed_step2/train/images/pinca414.jpg  \n",
      "  inflating: /content/temp/data_preprocessed_step2/train/images/pinca424.jpg  \n",
      "  inflating: /content/temp/data_preprocessed_step2/train/images/pinca429.jpg  \n",
      "  inflating: /content/temp/data_preprocessed_step2/train/images/pinca442.jpg  \n",
      "  inflating: /content/temp/data_preprocessed_step2/train/images/pinca446.jpg  \n",
      "  inflating: /content/temp/data_preprocessed_step2/train/images/pinca454.jpg  \n",
      "  inflating: /content/temp/data_preprocessed_step2/train/images/pinca455.jpg  \n",
      "  inflating: /content/temp/data_preprocessed_step2/train/images/pinca459.jpg  \n",
      "  inflating: /content/temp/data_preprocessed_step2/train/images/pinca469.jpg  \n",
      "  inflating: /content/temp/data_preprocessed_step2/train/images/pinca502.jpg  \n",
      "  inflating: /content/temp/data_preprocessed_step2/train/images/pinca506.jpg  \n",
      "  inflating: /content/temp/data_preprocessed_step2/train/images/pinca509.jpg  \n",
      "  inflating: /content/temp/data_preprocessed_step2/train/images/pinca511.jpg  \n",
      "  inflating: /content/temp/data_preprocessed_step2/train/images/pinca512.jpg  \n",
      "  inflating: /content/temp/data_preprocessed_step2/train/images/pinca534.jpg  \n",
      "  inflating: /content/temp/data_preprocessed_step2/train/images/pinca539.jpg  \n",
      "  inflating: /content/temp/data_preprocessed_step2/train/images/pinca540.jpg  \n",
      "  inflating: /content/temp/data_preprocessed_step2/train/images/pinca553.jpg  \n",
      "  inflating: /content/temp/data_preprocessed_step2/train/images/pinca556.jpg  \n",
      "  inflating: /content/temp/data_preprocessed_step2/train/images/pinca568.jpg  \n",
      "  inflating: /content/temp/data_preprocessed_step2/train/images/pinca570.jpg  \n",
      "  inflating: /content/temp/data_preprocessed_step2/train/images/pinca576.jpg  \n",
      "  inflating: /content/temp/data_preprocessed_step2/train/images/pinca581.jpg  \n",
      "  inflating: /content/temp/data_preprocessed_step2/train/images/pinca6.jpg  \n",
      "  inflating: /content/temp/data_preprocessed_step2/train/images/pinca610.jpg  \n",
      "  inflating: /content/temp/data_preprocessed_step2/train/images/pinca611.jpg  \n",
      "  inflating: /content/temp/data_preprocessed_step2/train/images/pinca613.jpg  \n",
      "  inflating: /content/temp/data_preprocessed_step2/train/images/pinca615.jpg  \n",
      "  inflating: /content/temp/data_preprocessed_step2/train/images/pinca618.jpg  \n",
      "  inflating: /content/temp/data_preprocessed_step2/train/images/pinca62.jpg  \n",
      "  inflating: /content/temp/data_preprocessed_step2/train/images/pinca629.jpg  \n",
      "  inflating: /content/temp/data_preprocessed_step2/train/images/pinca630.jpg  \n",
      "  inflating: /content/temp/data_preprocessed_step2/train/images/pinca632.jpg  \n",
      "  inflating: /content/temp/data_preprocessed_step2/train/images/pinca636.jpg  \n",
      "  inflating: /content/temp/data_preprocessed_step2/train/images/pinca637.jpg  \n",
      "  inflating: /content/temp/data_preprocessed_step2/train/images/pinca645.jpg  \n",
      "  inflating: /content/temp/data_preprocessed_step2/train/images/pinca669.jpg  \n",
      "  inflating: /content/temp/data_preprocessed_step2/train/images/pinca73.jpg  \n",
      "  inflating: /content/temp/data_preprocessed_step2/train/images/pinca78.jpg  \n",
      "  inflating: /content/temp/data_preprocessed_step2/train/images/pinca82.jpg  \n",
      "  inflating: /content/temp/data_preprocessed_step2/train/images/pinca85.jpg  \n",
      "  inflating: /content/temp/data_preprocessed_step2/train/images/pinca90.jpg  \n",
      "  inflating: /content/temp/data_preprocessed_step2/train/images/pinca92.jpg  \n",
      "  inflating: /content/temp/data_preprocessed_step2/train/images/separado10.jpg  \n",
      "  inflating: /content/temp/data_preprocessed_step2/train/images/separado11.jpg  \n",
      "  inflating: /content/temp/data_preprocessed_step2/train/images/separado14.jpg  \n",
      "  inflating: /content/temp/data_preprocessed_step2/train/images/separado23.jpg  \n",
      "  inflating: /content/temp/data_preprocessed_step2/train/images/separado27.jpg  \n",
      "  inflating: /content/temp/data_preprocessed_step2/train/images/separado30.jpg  \n",
      "  inflating: /content/temp/data_preprocessed_step2/train/images/separado32.jpg  \n",
      "  inflating: /content/temp/data_preprocessed_step2/train/images/separado38.jpg  \n",
      "  inflating: /content/temp/data_preprocessed_step2/train/images/separado43.jpg  \n",
      "  inflating: /content/temp/data_preprocessed_step2/train/images/separado57.jpg  \n",
      "  inflating: /content/temp/data_preprocessed_step2/train/images/separado59.jpg  \n",
      "  inflating: /content/temp/data_preprocessed_step2/train/images/separado61.jpg  \n",
      "  inflating: /content/temp/data_preprocessed_step2/train/images/separado71.jpg  \n",
      "  inflating: /content/temp/data_preprocessed_step2/train/images/separado72.jpg  \n",
      "  inflating: /content/temp/data_preprocessed_step2/train/images/separado89.jpg  \n",
      "  inflating: /content/temp/data_preprocessed_step2/train/images/separado95.jpg  \n",
      "  inflating: /content/temp/data_preprocessed_step2/train/images/tesouracurva10.jpg  \n",
      "  inflating: /content/temp/data_preprocessed_step2/train/images/tesouracurva102.jpg  \n",
      "  inflating: /content/temp/data_preprocessed_step2/train/images/tesouracurva107.jpg  \n",
      "  inflating: /content/temp/data_preprocessed_step2/train/images/tesouracurva114.jpg  \n",
      "  inflating: /content/temp/data_preprocessed_step2/train/images/tesouracurva120.jpg  \n",
      "  inflating: /content/temp/data_preprocessed_step2/train/images/tesouracurva132.jpg  \n",
      "  inflating: /content/temp/data_preprocessed_step2/train/images/tesouracurva136.jpg  \n",
      "  inflating: /content/temp/data_preprocessed_step2/train/images/tesouracurva138.jpg  \n",
      "  inflating: /content/temp/data_preprocessed_step2/train/images/tesouracurva161.jpg  \n",
      "  inflating: /content/temp/data_preprocessed_step2/train/images/tesouracurva213.jpg  \n",
      "  inflating: /content/temp/data_preprocessed_step2/train/images/tesouracurva214.jpg  \n",
      "  inflating: /content/temp/data_preprocessed_step2/train/images/tesouracurva226.jpg  \n",
      "  inflating: /content/temp/data_preprocessed_step2/train/images/tesouracurva229.jpg  \n",
      "  inflating: /content/temp/data_preprocessed_step2/train/images/tesouracurva23.jpg  \n",
      "  inflating: /content/temp/data_preprocessed_step2/train/images/tesouracurva240.jpg  \n",
      "  inflating: /content/temp/data_preprocessed_step2/train/images/tesouracurva274.jpg  \n",
      "  inflating: /content/temp/data_preprocessed_step2/train/images/tesouracurva284.jpg  \n",
      "  inflating: /content/temp/data_preprocessed_step2/train/images/tesouracurva286.jpg  \n",
      "  inflating: /content/temp/data_preprocessed_step2/train/images/tesouracurva293.jpg  \n",
      "  inflating: /content/temp/data_preprocessed_step2/train/images/tesouracurva302.jpg  \n",
      "  inflating: /content/temp/data_preprocessed_step2/train/images/tesouracurva317.jpg  \n",
      "  inflating: /content/temp/data_preprocessed_step2/train/images/tesouracurva332.jpg  \n",
      "  inflating: /content/temp/data_preprocessed_step2/train/images/tesouracurva335.jpg  \n",
      "  inflating: /content/temp/data_preprocessed_step2/train/images/tesouracurva347.jpg  \n",
      "  inflating: /content/temp/data_preprocessed_step2/train/images/tesouracurva366.jpg  \n",
      "  inflating: /content/temp/data_preprocessed_step2/train/images/tesouracurva369.jpg  \n",
      "  inflating: /content/temp/data_preprocessed_step2/train/images/tesouracurva374.jpg  \n",
      "  inflating: /content/temp/data_preprocessed_step2/train/images/tesouracurva400.jpg  \n",
      "  inflating: /content/temp/data_preprocessed_step2/train/images/tesouracurva434.jpg  \n",
      "  inflating: /content/temp/data_preprocessed_step2/train/images/tesouracurva435.jpg  \n",
      "  inflating: /content/temp/data_preprocessed_step2/train/images/tesouracurva456.jpg  \n",
      "  inflating: /content/temp/data_preprocessed_step2/train/images/tesouracurva470.jpg  \n",
      "  inflating: /content/temp/data_preprocessed_step2/train/images/tesouracurva481.jpg  \n",
      "  inflating: /content/temp/data_preprocessed_step2/train/images/tesouracurva493.jpg  \n",
      "  inflating: /content/temp/data_preprocessed_step2/train/images/tesouracurva500.jpg  \n",
      "  inflating: /content/temp/data_preprocessed_step2/train/images/tesouracurva514.jpg  \n",
      "  inflating: /content/temp/data_preprocessed_step2/train/images/tesouracurva535.jpg  \n",
      "  inflating: /content/temp/data_preprocessed_step2/train/images/tesouracurva537.jpg  \n",
      "  inflating: /content/temp/data_preprocessed_step2/train/images/tesouracurva548.jpg  \n",
      "  inflating: /content/temp/data_preprocessed_step2/train/images/tesouracurva554.jpg  \n",
      "  inflating: /content/temp/data_preprocessed_step2/train/images/tesouracurva557.jpg  \n",
      "  inflating: /content/temp/data_preprocessed_step2/train/images/tesouracurva562.jpg  \n",
      "  inflating: /content/temp/data_preprocessed_step2/train/images/tesouracurva601.jpg  \n",
      "  inflating: /content/temp/data_preprocessed_step2/train/images/tesouracurva62.jpg  \n",
      "  inflating: /content/temp/data_preprocessed_step2/train/images/tesouracurva638.jpg  \n",
      "  inflating: /content/temp/data_preprocessed_step2/train/images/tesouracurva639.jpg  \n",
      "  inflating: /content/temp/data_preprocessed_step2/train/images/tesouracurva643.jpg  \n",
      "  inflating: /content/temp/data_preprocessed_step2/train/images/tesouracurva647.jpg  \n",
      "  inflating: /content/temp/data_preprocessed_step2/train/images/tesouracurva648.jpg  \n",
      "  inflating: /content/temp/data_preprocessed_step2/train/images/tesouracurva65.jpg  \n",
      "  inflating: /content/temp/data_preprocessed_step2/train/images/tesouracurva653.jpg  \n",
      "  inflating: /content/temp/data_preprocessed_step2/train/images/tesouracurva687.jpg  \n",
      "  inflating: /content/temp/data_preprocessed_step2/train/images/tesouracurva701.jpg  \n",
      "  inflating: /content/temp/data_preprocessed_step2/train/images/tesouracurva705.jpg  \n",
      "  inflating: /content/temp/data_preprocessed_step2/train/images/tesouracurva719.jpg  \n",
      "  inflating: /content/temp/data_preprocessed_step2/train/images/tesouracurva76.jpg  \n",
      "  inflating: /content/temp/data_preprocessed_step2/train/images/tesouracurva761.jpg  \n",
      "  inflating: /content/temp/data_preprocessed_step2/train/images/tesouracurva765.jpg  \n",
      "  inflating: /content/temp/data_preprocessed_step2/train/images/tesouracurva790.jpg  \n",
      "  inflating: /content/temp/data_preprocessed_step2/train/images/tesouracurva792.jpg  \n",
      "  inflating: /content/temp/data_preprocessed_step2/train/images/tesouracurva798.jpg  \n",
      "  inflating: /content/temp/data_preprocessed_step2/train/images/tesouracurva812.jpg  \n",
      "  inflating: /content/temp/data_preprocessed_step2/train/images/tesouracurva85.jpg  \n",
      "  inflating: /content/temp/data_preprocessed_step2/train/images/tesouracurva87.jpg  \n",
      "  inflating: /content/temp/data_preprocessed_step2/train/images/tesourareta103.jpg  \n",
      "  inflating: /content/temp/data_preprocessed_step2/train/images/tesourareta11.jpg  \n",
      "  inflating: /content/temp/data_preprocessed_step2/train/images/tesourareta120.jpg  \n",
      "  inflating: /content/temp/data_preprocessed_step2/train/images/tesourareta128.jpg  \n",
      "  inflating: /content/temp/data_preprocessed_step2/train/images/tesourareta143.jpg  \n",
      "  inflating: /content/temp/data_preprocessed_step2/train/images/tesourareta146.jpg  \n",
      "  inflating: /content/temp/data_preprocessed_step2/train/images/tesourareta156.jpg  \n",
      "  inflating: /content/temp/data_preprocessed_step2/train/images/tesourareta158.jpg  \n",
      "  inflating: /content/temp/data_preprocessed_step2/train/images/tesourareta159.jpg  \n",
      "  inflating: /content/temp/data_preprocessed_step2/train/images/tesourareta179.jpg  \n",
      "  inflating: /content/temp/data_preprocessed_step2/train/images/tesourareta201.jpg  \n",
      "  inflating: /content/temp/data_preprocessed_step2/train/images/tesourareta209.jpg  \n",
      "  inflating: /content/temp/data_preprocessed_step2/train/images/tesourareta211.jpg  \n",
      "  inflating: /content/temp/data_preprocessed_step2/train/images/tesourareta213.jpg  \n",
      "  inflating: /content/temp/data_preprocessed_step2/train/images/tesourareta215.jpg  \n",
      "  inflating: /content/temp/data_preprocessed_step2/train/images/tesourareta218.jpg  \n",
      "  inflating: /content/temp/data_preprocessed_step2/train/images/tesourareta228.jpg  \n",
      "  inflating: /content/temp/data_preprocessed_step2/train/images/tesourareta232.jpg  \n",
      "  inflating: /content/temp/data_preprocessed_step2/train/images/tesourareta243.jpg  \n",
      "  inflating: /content/temp/data_preprocessed_step2/train/images/tesourareta25.jpg  \n",
      "  inflating: /content/temp/data_preprocessed_step2/train/images/tesourareta257.jpg  \n",
      "  inflating: /content/temp/data_preprocessed_step2/train/images/tesourareta259.jpg  \n",
      "  inflating: /content/temp/data_preprocessed_step2/train/images/tesourareta280.jpg  \n",
      "  inflating: /content/temp/data_preprocessed_step2/train/images/tesourareta30.jpg  \n",
      "  inflating: /content/temp/data_preprocessed_step2/train/images/tesourareta303.jpg  \n",
      "  inflating: /content/temp/data_preprocessed_step2/train/images/tesourareta313.jpg  \n",
      "  inflating: /content/temp/data_preprocessed_step2/train/images/tesourareta317.jpg  \n",
      "  inflating: /content/temp/data_preprocessed_step2/train/images/tesourareta321.jpg  \n",
      "  inflating: /content/temp/data_preprocessed_step2/train/images/tesourareta323.jpg  \n",
      "  inflating: /content/temp/data_preprocessed_step2/train/images/tesourareta333.jpg  \n",
      "  inflating: /content/temp/data_preprocessed_step2/train/images/tesourareta340.jpg  \n",
      "  inflating: /content/temp/data_preprocessed_step2/train/images/tesourareta341.jpg  \n",
      "  inflating: /content/temp/data_preprocessed_step2/train/images/tesourareta347.jpg  \n",
      "  inflating: /content/temp/data_preprocessed_step2/train/images/tesourareta354.jpg  \n",
      "  inflating: /content/temp/data_preprocessed_step2/train/images/tesourareta359.jpg  \n",
      "  inflating: /content/temp/data_preprocessed_step2/train/images/tesourareta366.jpg  \n",
      "  inflating: /content/temp/data_preprocessed_step2/train/images/tesourareta368.jpg  \n",
      "  inflating: /content/temp/data_preprocessed_step2/train/images/tesourareta373.jpg  \n",
      "  inflating: /content/temp/data_preprocessed_step2/train/images/tesourareta377.jpg  \n",
      "  inflating: /content/temp/data_preprocessed_step2/train/images/tesourareta38.jpg  \n",
      "  inflating: /content/temp/data_preprocessed_step2/train/images/tesourareta386.jpg  \n",
      "  inflating: /content/temp/data_preprocessed_step2/train/images/tesourareta395.jpg  \n",
      "  inflating: /content/temp/data_preprocessed_step2/train/images/tesourareta40.jpg  \n",
      "  inflating: /content/temp/data_preprocessed_step2/train/images/tesourareta414.jpg  \n",
      "  inflating: /content/temp/data_preprocessed_step2/train/images/tesourareta422.jpg  \n",
      "  inflating: /content/temp/data_preprocessed_step2/train/images/tesourareta436.jpg  \n",
      "  inflating: /content/temp/data_preprocessed_step2/train/images/tesourareta441.jpg  \n",
      "  inflating: /content/temp/data_preprocessed_step2/train/images/tesourareta452.jpg  \n",
      "  inflating: /content/temp/data_preprocessed_step2/train/images/tesourareta456.jpg  \n",
      "  inflating: /content/temp/data_preprocessed_step2/train/images/tesourareta457.jpg  \n",
      "  inflating: /content/temp/data_preprocessed_step2/train/images/tesourareta460.jpg  \n",
      "  inflating: /content/temp/data_preprocessed_step2/train/images/tesourareta489.jpg  \n",
      "  inflating: /content/temp/data_preprocessed_step2/train/images/tesourareta495.jpg  \n",
      "  inflating: /content/temp/data_preprocessed_step2/train/images/tesourareta503.jpg  \n",
      "  inflating: /content/temp/data_preprocessed_step2/train/images/tesourareta508.jpg  \n",
      "  inflating: /content/temp/data_preprocessed_step2/train/images/tesourareta533.jpg  \n",
      "  inflating: /content/temp/data_preprocessed_step2/train/images/tesourareta539.jpg  \n",
      "  inflating: /content/temp/data_preprocessed_step2/train/images/tesourareta546.jpg  \n",
      "  inflating: /content/temp/data_preprocessed_step2/train/images/tesourareta560.jpg  \n",
      "  inflating: /content/temp/data_preprocessed_step2/train/images/tesourareta568.jpg  \n",
      "  inflating: /content/temp/data_preprocessed_step2/train/images/tesourareta575.jpg  \n",
      "  inflating: /content/temp/data_preprocessed_step2/train/images/tesourareta581.jpg  \n",
      "  inflating: /content/temp/data_preprocessed_step2/train/images/tesourareta591.jpg  \n",
      "  inflating: /content/temp/data_preprocessed_step2/train/images/tesourareta595.jpg  \n",
      "  inflating: /content/temp/data_preprocessed_step2/train/images/tesourareta612.jpg  \n",
      "  inflating: /content/temp/data_preprocessed_step2/train/images/tesourareta619.jpg  \n",
      "  inflating: /content/temp/data_preprocessed_step2/train/images/tesourareta62.jpg  \n",
      "  inflating: /content/temp/data_preprocessed_step2/train/images/tesourareta622.jpg  \n",
      "  inflating: /content/temp/data_preprocessed_step2/train/images/tesourareta626.jpg  \n",
      "  inflating: /content/temp/data_preprocessed_step2/train/images/tesourareta629.jpg  \n",
      "  inflating: /content/temp/data_preprocessed_step2/train/images/tesourareta643.jpg  \n",
      "  inflating: /content/temp/data_preprocessed_step2/train/images/tesourareta651.jpg  \n",
      "  inflating: /content/temp/data_preprocessed_step2/train/images/tesourareta652.jpg  \n",
      "  inflating: /content/temp/data_preprocessed_step2/train/images/tesourareta66.jpg  \n",
      "  inflating: /content/temp/data_preprocessed_step2/train/images/tesourareta663.jpg  \n",
      "  inflating: /content/temp/data_preprocessed_step2/train/images/tesourareta78.jpg  \n",
      "  inflating: /content/temp/data_preprocessed_step2/train/images/tesourareta80.jpg  \n",
      "  inflating: /content/temp/data_preprocessed_step2/train/images/tesourareta9.jpg  \n",
      "  inflating: /content/temp/data_preprocessed_step2/train/images/tesourareta91.jpg  \n",
      "  inflating: /content/temp/data_preprocessed_step2/train/images/tesourareta94.jpg  \n",
      "  inflating: /content/temp/data_preprocessed_step2/train/images/tesourareta99.jpg  \n",
      "   creating: /content/temp/data_preprocessed_step2/train/labels/\n",
      "  inflating: /content/temp/data_preprocessed_step2/train/labels/bisturi10.txt  \n",
      "  inflating: /content/temp/data_preprocessed_step2/train/labels/bisturi112.txt  \n",
      "  inflating: /content/temp/data_preprocessed_step2/train/labels/bisturi12.txt  \n",
      "  inflating: /content/temp/data_preprocessed_step2/train/labels/bisturi123.txt  \n",
      "  inflating: /content/temp/data_preprocessed_step2/train/labels/bisturi134.txt  \n",
      "  inflating: /content/temp/data_preprocessed_step2/train/labels/bisturi135.txt  \n",
      "  inflating: /content/temp/data_preprocessed_step2/train/labels/bisturi140.txt  \n",
      "  inflating: /content/temp/data_preprocessed_step2/train/labels/bisturi151.txt  \n",
      "  inflating: /content/temp/data_preprocessed_step2/train/labels/bisturi161.txt  \n",
      "  inflating: /content/temp/data_preprocessed_step2/train/labels/bisturi173.txt  \n",
      "  inflating: /content/temp/data_preprocessed_step2/train/labels/bisturi175.txt  \n",
      "  inflating: /content/temp/data_preprocessed_step2/train/labels/bisturi206.txt  \n",
      "  inflating: /content/temp/data_preprocessed_step2/train/labels/bisturi236.txt  \n",
      "  inflating: /content/temp/data_preprocessed_step2/train/labels/bisturi242.txt  \n",
      "  inflating: /content/temp/data_preprocessed_step2/train/labels/bisturi26.txt  \n",
      "  inflating: /content/temp/data_preprocessed_step2/train/labels/bisturi261.txt  \n",
      "  inflating: /content/temp/data_preprocessed_step2/train/labels/bisturi263.txt  \n",
      "  inflating: /content/temp/data_preprocessed_step2/train/labels/bisturi270.txt  \n",
      "  inflating: /content/temp/data_preprocessed_step2/train/labels/bisturi288.txt  \n",
      "  inflating: /content/temp/data_preprocessed_step2/train/labels/bisturi293.txt  \n",
      "  inflating: /content/temp/data_preprocessed_step2/train/labels/bisturi297.txt  \n",
      "  inflating: /content/temp/data_preprocessed_step2/train/labels/bisturi315.txt  \n",
      "  inflating: /content/temp/data_preprocessed_step2/train/labels/bisturi330.txt  \n",
      "  inflating: /content/temp/data_preprocessed_step2/train/labels/bisturi334.txt  \n",
      "  inflating: /content/temp/data_preprocessed_step2/train/labels/bisturi349.txt  \n",
      "  inflating: /content/temp/data_preprocessed_step2/train/labels/bisturi350.txt  \n",
      "  inflating: /content/temp/data_preprocessed_step2/train/labels/bisturi354.txt  \n",
      "  inflating: /content/temp/data_preprocessed_step2/train/labels/bisturi356.txt  \n",
      "  inflating: /content/temp/data_preprocessed_step2/train/labels/bisturi369.txt  \n",
      "  inflating: /content/temp/data_preprocessed_step2/train/labels/bisturi387.txt  \n",
      "  inflating: /content/temp/data_preprocessed_step2/train/labels/bisturi410.txt  \n",
      "  inflating: /content/temp/data_preprocessed_step2/train/labels/bisturi431.txt  \n",
      "  inflating: /content/temp/data_preprocessed_step2/train/labels/bisturi432.txt  \n",
      "  inflating: /content/temp/data_preprocessed_step2/train/labels/bisturi435.txt  \n",
      "  inflating: /content/temp/data_preprocessed_step2/train/labels/bisturi442.txt  \n",
      "  inflating: /content/temp/data_preprocessed_step2/train/labels/bisturi467.txt  \n",
      "  inflating: /content/temp/data_preprocessed_step2/train/labels/bisturi471.txt  \n",
      "  inflating: /content/temp/data_preprocessed_step2/train/labels/bisturi50.txt  \n",
      "  inflating: /content/temp/data_preprocessed_step2/train/labels/bisturi505.txt  \n",
      "  inflating: /content/temp/data_preprocessed_step2/train/labels/bisturi533.txt  \n",
      "  inflating: /content/temp/data_preprocessed_step2/train/labels/bisturi539.txt  \n",
      "  inflating: /content/temp/data_preprocessed_step2/train/labels/bisturi54.txt  \n",
      "  inflating: /content/temp/data_preprocessed_step2/train/labels/bisturi540.txt  \n",
      "  inflating: /content/temp/data_preprocessed_step2/train/labels/bisturi546.txt  \n",
      "  inflating: /content/temp/data_preprocessed_step2/train/labels/bisturi550.txt  \n",
      "  inflating: /content/temp/data_preprocessed_step2/train/labels/bisturi555.txt  \n",
      "  inflating: /content/temp/data_preprocessed_step2/train/labels/bisturi570.txt  \n",
      "  inflating: /content/temp/data_preprocessed_step2/train/labels/bisturi591.txt  \n",
      "  inflating: /content/temp/data_preprocessed_step2/train/labels/bisturi605.txt  \n",
      "  inflating: /content/temp/data_preprocessed_step2/train/labels/bisturi613.txt  \n",
      "  inflating: /content/temp/data_preprocessed_step2/train/labels/bisturi617.txt  \n",
      "  inflating: /content/temp/data_preprocessed_step2/train/labels/bisturi62.txt  \n",
      "  inflating: /content/temp/data_preprocessed_step2/train/labels/bisturi625.txt  \n",
      "  inflating: /content/temp/data_preprocessed_step2/train/labels/bisturi641.txt  \n",
      "  inflating: /content/temp/data_preprocessed_step2/train/labels/bisturi658.txt  \n",
      "  inflating: /content/temp/data_preprocessed_step2/train/labels/bisturi660.txt  \n",
      "  inflating: /content/temp/data_preprocessed_step2/train/labels/bisturi672.txt  \n",
      "  inflating: /content/temp/data_preprocessed_step2/train/labels/bisturi676.txt  \n",
      "  inflating: /content/temp/data_preprocessed_step2/train/labels/bisturi680.txt  \n",
      "  inflating: /content/temp/data_preprocessed_step2/train/labels/bisturi685.txt  \n",
      "  inflating: /content/temp/data_preprocessed_step2/train/labels/bisturi686.txt  \n",
      "  inflating: /content/temp/data_preprocessed_step2/train/labels/bisturi689.txt  \n",
      "  inflating: /content/temp/data_preprocessed_step2/train/labels/bisturi698.txt  \n",
      "  inflating: /content/temp/data_preprocessed_step2/train/labels/bisturi701.txt  \n",
      "  inflating: /content/temp/data_preprocessed_step2/train/labels/bisturi73.txt  \n",
      "  inflating: /content/temp/data_preprocessed_step2/train/labels/bisturi731.txt  \n",
      "  inflating: /content/temp/data_preprocessed_step2/train/labels/bisturi737.txt  \n",
      "  inflating: /content/temp/data_preprocessed_step2/train/labels/bisturi75.txt  \n",
      "  inflating: /content/temp/data_preprocessed_step2/train/labels/pinca155.txt  \n",
      "  inflating: /content/temp/data_preprocessed_step2/train/labels/pinca156.txt  \n",
      "  inflating: /content/temp/data_preprocessed_step2/train/labels/pinca176.txt  \n",
      "  inflating: /content/temp/data_preprocessed_step2/train/labels/pinca177.txt  \n",
      "  inflating: /content/temp/data_preprocessed_step2/train/labels/pinca179.txt  \n",
      "  inflating: /content/temp/data_preprocessed_step2/train/labels/pinca180.txt  \n",
      "  inflating: /content/temp/data_preprocessed_step2/train/labels/pinca190.txt  \n",
      "  inflating: /content/temp/data_preprocessed_step2/train/labels/pinca193.txt  \n",
      "  inflating: /content/temp/data_preprocessed_step2/train/labels/pinca194.txt  \n",
      "  inflating: /content/temp/data_preprocessed_step2/train/labels/pinca196.txt  \n",
      "  inflating: /content/temp/data_preprocessed_step2/train/labels/pinca197.txt  \n",
      "  inflating: /content/temp/data_preprocessed_step2/train/labels/pinca199.txt  \n",
      "  inflating: /content/temp/data_preprocessed_step2/train/labels/pinca203.txt  \n",
      "  inflating: /content/temp/data_preprocessed_step2/train/labels/pinca205.txt  \n",
      "  inflating: /content/temp/data_preprocessed_step2/train/labels/pinca212.txt  \n",
      "  inflating: /content/temp/data_preprocessed_step2/train/labels/pinca225.txt  \n",
      "  inflating: /content/temp/data_preprocessed_step2/train/labels/pinca234.txt  \n",
      "  inflating: /content/temp/data_preprocessed_step2/train/labels/pinca240.txt  \n",
      "  inflating: /content/temp/data_preprocessed_step2/train/labels/pinca244.txt  \n",
      "  inflating: /content/temp/data_preprocessed_step2/train/labels/pinca245.txt  \n",
      "  inflating: /content/temp/data_preprocessed_step2/train/labels/pinca246.txt  \n",
      "  inflating: /content/temp/data_preprocessed_step2/train/labels/pinca247.txt  \n",
      "  inflating: /content/temp/data_preprocessed_step2/train/labels/pinca258.txt  \n",
      "  inflating: /content/temp/data_preprocessed_step2/train/labels/pinca263.txt  \n",
      "  inflating: /content/temp/data_preprocessed_step2/train/labels/pinca272.txt  \n",
      "  inflating: /content/temp/data_preprocessed_step2/train/labels/pinca277.txt  \n",
      "  inflating: /content/temp/data_preprocessed_step2/train/labels/pinca28.txt  \n",
      "  inflating: /content/temp/data_preprocessed_step2/train/labels/pinca287.txt  \n",
      "  inflating: /content/temp/data_preprocessed_step2/train/labels/pinca290.txt  \n",
      "  inflating: /content/temp/data_preprocessed_step2/train/labels/pinca303.txt  \n",
      "  inflating: /content/temp/data_preprocessed_step2/train/labels/pinca305.txt  \n",
      "  inflating: /content/temp/data_preprocessed_step2/train/labels/pinca308.txt  \n",
      "  inflating: /content/temp/data_preprocessed_step2/train/labels/pinca318.txt  \n",
      "  inflating: /content/temp/data_preprocessed_step2/train/labels/pinca327.txt  \n",
      "  inflating: /content/temp/data_preprocessed_step2/train/labels/pinca33.txt  \n",
      "  inflating: /content/temp/data_preprocessed_step2/train/labels/pinca332.txt  \n",
      "  inflating: /content/temp/data_preprocessed_step2/train/labels/pinca333.txt  \n",
      "  inflating: /content/temp/data_preprocessed_step2/train/labels/pinca338.txt  \n",
      "  inflating: /content/temp/data_preprocessed_step2/train/labels/pinca345.txt  \n",
      "  inflating: /content/temp/data_preprocessed_step2/train/labels/pinca349.txt  \n",
      "  inflating: /content/temp/data_preprocessed_step2/train/labels/pinca354.txt  \n",
      "  inflating: /content/temp/data_preprocessed_step2/train/labels/pinca358.txt  \n",
      "  inflating: /content/temp/data_preprocessed_step2/train/labels/pinca363.txt  \n",
      "  inflating: /content/temp/data_preprocessed_step2/train/labels/pinca368.txt  \n",
      "  inflating: /content/temp/data_preprocessed_step2/train/labels/pinca37.txt  \n",
      "  inflating: /content/temp/data_preprocessed_step2/train/labels/pinca376.txt  \n",
      "  inflating: /content/temp/data_preprocessed_step2/train/labels/pinca394.txt  \n",
      "  inflating: /content/temp/data_preprocessed_step2/train/labels/pinca411.txt  \n",
      "  inflating: /content/temp/data_preprocessed_step2/train/labels/pinca414.txt  \n",
      "  inflating: /content/temp/data_preprocessed_step2/train/labels/pinca424.txt  \n",
      "  inflating: /content/temp/data_preprocessed_step2/train/labels/pinca429.txt  \n",
      "  inflating: /content/temp/data_preprocessed_step2/train/labels/pinca442.txt  \n",
      "  inflating: /content/temp/data_preprocessed_step2/train/labels/pinca446.txt  \n",
      "  inflating: /content/temp/data_preprocessed_step2/train/labels/pinca454.txt  \n",
      "  inflating: /content/temp/data_preprocessed_step2/train/labels/pinca455.txt  \n",
      "  inflating: /content/temp/data_preprocessed_step2/train/labels/pinca459.txt  \n",
      "  inflating: /content/temp/data_preprocessed_step2/train/labels/pinca469.txt  \n",
      "  inflating: /content/temp/data_preprocessed_step2/train/labels/pinca502.txt  \n",
      "  inflating: /content/temp/data_preprocessed_step2/train/labels/pinca506.txt  \n",
      "  inflating: /content/temp/data_preprocessed_step2/train/labels/pinca509.txt  \n",
      "  inflating: /content/temp/data_preprocessed_step2/train/labels/pinca511.txt  \n",
      "  inflating: /content/temp/data_preprocessed_step2/train/labels/pinca512.txt  \n",
      "  inflating: /content/temp/data_preprocessed_step2/train/labels/pinca534.txt  \n",
      "  inflating: /content/temp/data_preprocessed_step2/train/labels/pinca539.txt  \n",
      "  inflating: /content/temp/data_preprocessed_step2/train/labels/pinca540.txt  \n",
      "  inflating: /content/temp/data_preprocessed_step2/train/labels/pinca553.txt  \n",
      "  inflating: /content/temp/data_preprocessed_step2/train/labels/pinca556.txt  \n",
      "  inflating: /content/temp/data_preprocessed_step2/train/labels/pinca568.txt  \n",
      "  inflating: /content/temp/data_preprocessed_step2/train/labels/pinca570.txt  \n",
      "  inflating: /content/temp/data_preprocessed_step2/train/labels/pinca576.txt  \n",
      "  inflating: /content/temp/data_preprocessed_step2/train/labels/pinca581.txt  \n",
      "  inflating: /content/temp/data_preprocessed_step2/train/labels/pinca6.txt  \n",
      "  inflating: /content/temp/data_preprocessed_step2/train/labels/pinca610.txt  \n",
      "  inflating: /content/temp/data_preprocessed_step2/train/labels/pinca611.txt  \n",
      "  inflating: /content/temp/data_preprocessed_step2/train/labels/pinca613.txt  \n",
      "  inflating: /content/temp/data_preprocessed_step2/train/labels/pinca615.txt  \n",
      "  inflating: /content/temp/data_preprocessed_step2/train/labels/pinca618.txt  \n",
      "  inflating: /content/temp/data_preprocessed_step2/train/labels/pinca62.txt  \n",
      "  inflating: /content/temp/data_preprocessed_step2/train/labels/pinca629.txt  \n",
      "  inflating: /content/temp/data_preprocessed_step2/train/labels/pinca630.txt  \n",
      "  inflating: /content/temp/data_preprocessed_step2/train/labels/pinca632.txt  \n",
      "  inflating: /content/temp/data_preprocessed_step2/train/labels/pinca636.txt  \n",
      "  inflating: /content/temp/data_preprocessed_step2/train/labels/pinca637.txt  \n",
      "  inflating: /content/temp/data_preprocessed_step2/train/labels/pinca645.txt  \n",
      "  inflating: /content/temp/data_preprocessed_step2/train/labels/pinca669.txt  \n",
      "  inflating: /content/temp/data_preprocessed_step2/train/labels/pinca73.txt  \n",
      "  inflating: /content/temp/data_preprocessed_step2/train/labels/pinca78.txt  \n",
      "  inflating: /content/temp/data_preprocessed_step2/train/labels/pinca82.txt  \n",
      "  inflating: /content/temp/data_preprocessed_step2/train/labels/pinca85.txt  \n",
      "  inflating: /content/temp/data_preprocessed_step2/train/labels/pinca90.txt  \n",
      "  inflating: /content/temp/data_preprocessed_step2/train/labels/pinca92.txt  \n",
      "  inflating: /content/temp/data_preprocessed_step2/train/labels/separado10.txt  \n",
      "  inflating: /content/temp/data_preprocessed_step2/train/labels/separado11.txt  \n",
      "  inflating: /content/temp/data_preprocessed_step2/train/labels/separado14.txt  \n",
      "  inflating: /content/temp/data_preprocessed_step2/train/labels/separado23.txt  \n",
      "  inflating: /content/temp/data_preprocessed_step2/train/labels/separado27.txt  \n",
      "  inflating: /content/temp/data_preprocessed_step2/train/labels/separado30.txt  \n",
      "  inflating: /content/temp/data_preprocessed_step2/train/labels/separado32.txt  \n",
      "  inflating: /content/temp/data_preprocessed_step2/train/labels/separado38.txt  \n",
      "  inflating: /content/temp/data_preprocessed_step2/train/labels/separado43.txt  \n",
      "  inflating: /content/temp/data_preprocessed_step2/train/labels/separado57.txt  \n",
      "  inflating: /content/temp/data_preprocessed_step2/train/labels/separado59.txt  \n",
      "  inflating: /content/temp/data_preprocessed_step2/train/labels/separado61.txt  \n",
      "  inflating: /content/temp/data_preprocessed_step2/train/labels/separado71.txt  \n",
      "  inflating: /content/temp/data_preprocessed_step2/train/labels/separado72.txt  \n",
      "  inflating: /content/temp/data_preprocessed_step2/train/labels/separado89.txt  \n",
      "  inflating: /content/temp/data_preprocessed_step2/train/labels/separado95.txt  \n",
      "  inflating: /content/temp/data_preprocessed_step2/train/labels/tesouracurva10.txt  \n",
      "  inflating: /content/temp/data_preprocessed_step2/train/labels/tesouracurva102.txt  \n",
      "  inflating: /content/temp/data_preprocessed_step2/train/labels/tesouracurva107.txt  \n",
      "  inflating: /content/temp/data_preprocessed_step2/train/labels/tesouracurva114.txt  \n",
      "  inflating: /content/temp/data_preprocessed_step2/train/labels/tesouracurva120.txt  \n",
      "  inflating: /content/temp/data_preprocessed_step2/train/labels/tesouracurva132.txt  \n",
      "  inflating: /content/temp/data_preprocessed_step2/train/labels/tesouracurva136.txt  \n",
      "  inflating: /content/temp/data_preprocessed_step2/train/labels/tesouracurva138.txt  \n",
      "  inflating: /content/temp/data_preprocessed_step2/train/labels/tesouracurva161.txt  \n",
      "  inflating: /content/temp/data_preprocessed_step2/train/labels/tesouracurva213.txt  \n",
      "  inflating: /content/temp/data_preprocessed_step2/train/labels/tesouracurva214.txt  \n",
      "  inflating: /content/temp/data_preprocessed_step2/train/labels/tesouracurva226.txt  \n",
      "  inflating: /content/temp/data_preprocessed_step2/train/labels/tesouracurva229.txt  \n",
      "  inflating: /content/temp/data_preprocessed_step2/train/labels/tesouracurva23.txt  \n",
      "  inflating: /content/temp/data_preprocessed_step2/train/labels/tesouracurva240.txt  \n",
      "  inflating: /content/temp/data_preprocessed_step2/train/labels/tesouracurva274.txt  \n",
      "  inflating: /content/temp/data_preprocessed_step2/train/labels/tesouracurva284.txt  \n",
      "  inflating: /content/temp/data_preprocessed_step2/train/labels/tesouracurva286.txt  \n",
      "  inflating: /content/temp/data_preprocessed_step2/train/labels/tesouracurva293.txt  \n",
      "  inflating: /content/temp/data_preprocessed_step2/train/labels/tesouracurva302.txt  \n",
      "  inflating: /content/temp/data_preprocessed_step2/train/labels/tesouracurva317.txt  \n",
      "  inflating: /content/temp/data_preprocessed_step2/train/labels/tesouracurva332.txt  \n",
      "  inflating: /content/temp/data_preprocessed_step2/train/labels/tesouracurva335.txt  \n",
      "  inflating: /content/temp/data_preprocessed_step2/train/labels/tesouracurva347.txt  \n",
      "  inflating: /content/temp/data_preprocessed_step2/train/labels/tesouracurva366.txt  \n",
      "  inflating: /content/temp/data_preprocessed_step2/train/labels/tesouracurva369.txt  \n",
      "  inflating: /content/temp/data_preprocessed_step2/train/labels/tesouracurva374.txt  \n",
      "  inflating: /content/temp/data_preprocessed_step2/train/labels/tesouracurva400.txt  \n",
      "  inflating: /content/temp/data_preprocessed_step2/train/labels/tesouracurva434.txt  \n",
      "  inflating: /content/temp/data_preprocessed_step2/train/labels/tesouracurva435.txt  \n",
      "  inflating: /content/temp/data_preprocessed_step2/train/labels/tesouracurva456.txt  \n",
      "  inflating: /content/temp/data_preprocessed_step2/train/labels/tesouracurva470.txt  \n",
      "  inflating: /content/temp/data_preprocessed_step2/train/labels/tesouracurva481.txt  \n",
      "  inflating: /content/temp/data_preprocessed_step2/train/labels/tesouracurva493.txt  \n",
      "  inflating: /content/temp/data_preprocessed_step2/train/labels/tesouracurva500.txt  \n",
      "  inflating: /content/temp/data_preprocessed_step2/train/labels/tesouracurva514.txt  \n",
      "  inflating: /content/temp/data_preprocessed_step2/train/labels/tesouracurva535.txt  \n",
      "  inflating: /content/temp/data_preprocessed_step2/train/labels/tesouracurva537.txt  \n",
      "  inflating: /content/temp/data_preprocessed_step2/train/labels/tesouracurva548.txt  \n",
      "  inflating: /content/temp/data_preprocessed_step2/train/labels/tesouracurva554.txt  \n",
      "  inflating: /content/temp/data_preprocessed_step2/train/labels/tesouracurva557.txt  \n",
      "  inflating: /content/temp/data_preprocessed_step2/train/labels/tesouracurva562.txt  \n",
      "  inflating: /content/temp/data_preprocessed_step2/train/labels/tesouracurva601.txt  \n",
      "  inflating: /content/temp/data_preprocessed_step2/train/labels/tesouracurva62.txt  \n",
      "  inflating: /content/temp/data_preprocessed_step2/train/labels/tesouracurva638.txt  \n",
      "  inflating: /content/temp/data_preprocessed_step2/train/labels/tesouracurva639.txt  \n",
      "  inflating: /content/temp/data_preprocessed_step2/train/labels/tesouracurva643.txt  \n",
      "  inflating: /content/temp/data_preprocessed_step2/train/labels/tesouracurva647.txt  \n",
      "  inflating: /content/temp/data_preprocessed_step2/train/labels/tesouracurva648.txt  \n",
      "  inflating: /content/temp/data_preprocessed_step2/train/labels/tesouracurva65.txt  \n",
      "  inflating: /content/temp/data_preprocessed_step2/train/labels/tesouracurva653.txt  \n",
      "  inflating: /content/temp/data_preprocessed_step2/train/labels/tesouracurva687.txt  \n",
      "  inflating: /content/temp/data_preprocessed_step2/train/labels/tesouracurva701.txt  \n",
      "  inflating: /content/temp/data_preprocessed_step2/train/labels/tesouracurva705.txt  \n",
      "  inflating: /content/temp/data_preprocessed_step2/train/labels/tesouracurva719.txt  \n",
      "  inflating: /content/temp/data_preprocessed_step2/train/labels/tesouracurva76.txt  \n",
      "  inflating: /content/temp/data_preprocessed_step2/train/labels/tesouracurva761.txt  \n",
      "  inflating: /content/temp/data_preprocessed_step2/train/labels/tesouracurva765.txt  \n",
      "  inflating: /content/temp/data_preprocessed_step2/train/labels/tesouracurva790.txt  \n",
      "  inflating: /content/temp/data_preprocessed_step2/train/labels/tesouracurva792.txt  \n",
      "  inflating: /content/temp/data_preprocessed_step2/train/labels/tesouracurva798.txt  \n",
      "  inflating: /content/temp/data_preprocessed_step2/train/labels/tesouracurva812.txt  \n",
      "  inflating: /content/temp/data_preprocessed_step2/train/labels/tesouracurva85.txt  \n",
      "  inflating: /content/temp/data_preprocessed_step2/train/labels/tesouracurva87.txt  \n",
      "  inflating: /content/temp/data_preprocessed_step2/train/labels/tesourareta103.txt  \n",
      "  inflating: /content/temp/data_preprocessed_step2/train/labels/tesourareta11.txt  \n",
      "  inflating: /content/temp/data_preprocessed_step2/train/labels/tesourareta120.txt  \n",
      "  inflating: /content/temp/data_preprocessed_step2/train/labels/tesourareta128.txt  \n",
      "  inflating: /content/temp/data_preprocessed_step2/train/labels/tesourareta143.txt  \n",
      "  inflating: /content/temp/data_preprocessed_step2/train/labels/tesourareta146.txt  \n",
      "  inflating: /content/temp/data_preprocessed_step2/train/labels/tesourareta156.txt  \n",
      "  inflating: /content/temp/data_preprocessed_step2/train/labels/tesourareta158.txt  \n",
      "  inflating: /content/temp/data_preprocessed_step2/train/labels/tesourareta159.txt  \n",
      "  inflating: /content/temp/data_preprocessed_step2/train/labels/tesourareta179.txt  \n",
      "  inflating: /content/temp/data_preprocessed_step2/train/labels/tesourareta201.txt  \n",
      "  inflating: /content/temp/data_preprocessed_step2/train/labels/tesourareta209.txt  \n",
      "  inflating: /content/temp/data_preprocessed_step2/train/labels/tesourareta211.txt  \n",
      "  inflating: /content/temp/data_preprocessed_step2/train/labels/tesourareta213.txt  \n",
      "  inflating: /content/temp/data_preprocessed_step2/train/labels/tesourareta215.txt  \n",
      "  inflating: /content/temp/data_preprocessed_step2/train/labels/tesourareta218.txt  \n",
      "  inflating: /content/temp/data_preprocessed_step2/train/labels/tesourareta228.txt  \n",
      "  inflating: /content/temp/data_preprocessed_step2/train/labels/tesourareta232.txt  \n",
      "  inflating: /content/temp/data_preprocessed_step2/train/labels/tesourareta243.txt  \n",
      "  inflating: /content/temp/data_preprocessed_step2/train/labels/tesourareta25.txt  \n",
      "  inflating: /content/temp/data_preprocessed_step2/train/labels/tesourareta257.txt  \n",
      "  inflating: /content/temp/data_preprocessed_step2/train/labels/tesourareta259.txt  \n",
      "  inflating: /content/temp/data_preprocessed_step2/train/labels/tesourareta280.txt  \n",
      "  inflating: /content/temp/data_preprocessed_step2/train/labels/tesourareta30.txt  \n",
      "  inflating: /content/temp/data_preprocessed_step2/train/labels/tesourareta303.txt  \n",
      "  inflating: /content/temp/data_preprocessed_step2/train/labels/tesourareta313.txt  \n",
      "  inflating: /content/temp/data_preprocessed_step2/train/labels/tesourareta317.txt  \n",
      "  inflating: /content/temp/data_preprocessed_step2/train/labels/tesourareta321.txt  \n",
      "  inflating: /content/temp/data_preprocessed_step2/train/labels/tesourareta323.txt  \n",
      "  inflating: /content/temp/data_preprocessed_step2/train/labels/tesourareta333.txt  \n",
      "  inflating: /content/temp/data_preprocessed_step2/train/labels/tesourareta340.txt  \n",
      "  inflating: /content/temp/data_preprocessed_step2/train/labels/tesourareta341.txt  \n",
      "  inflating: /content/temp/data_preprocessed_step2/train/labels/tesourareta347.txt  \n",
      "  inflating: /content/temp/data_preprocessed_step2/train/labels/tesourareta354.txt  \n",
      "  inflating: /content/temp/data_preprocessed_step2/train/labels/tesourareta359.txt  \n",
      "  inflating: /content/temp/data_preprocessed_step2/train/labels/tesourareta366.txt  \n",
      "  inflating: /content/temp/data_preprocessed_step2/train/labels/tesourareta368.txt  \n",
      "  inflating: /content/temp/data_preprocessed_step2/train/labels/tesourareta373.txt  \n",
      "  inflating: /content/temp/data_preprocessed_step2/train/labels/tesourareta377.txt  \n",
      "  inflating: /content/temp/data_preprocessed_step2/train/labels/tesourareta38.txt  \n",
      "  inflating: /content/temp/data_preprocessed_step2/train/labels/tesourareta386.txt  \n",
      "  inflating: /content/temp/data_preprocessed_step2/train/labels/tesourareta395.txt  \n",
      "  inflating: /content/temp/data_preprocessed_step2/train/labels/tesourareta40.txt  \n",
      "  inflating: /content/temp/data_preprocessed_step2/train/labels/tesourareta414.txt  \n",
      "  inflating: /content/temp/data_preprocessed_step2/train/labels/tesourareta422.txt  \n",
      "  inflating: /content/temp/data_preprocessed_step2/train/labels/tesourareta436.txt  \n",
      "  inflating: /content/temp/data_preprocessed_step2/train/labels/tesourareta441.txt  \n",
      "  inflating: /content/temp/data_preprocessed_step2/train/labels/tesourareta452.txt  \n",
      "  inflating: /content/temp/data_preprocessed_step2/train/labels/tesourareta456.txt  \n",
      "  inflating: /content/temp/data_preprocessed_step2/train/labels/tesourareta457.txt  \n",
      "  inflating: /content/temp/data_preprocessed_step2/train/labels/tesourareta460.txt  \n",
      "  inflating: /content/temp/data_preprocessed_step2/train/labels/tesourareta489.txt  \n",
      "  inflating: /content/temp/data_preprocessed_step2/train/labels/tesourareta495.txt  \n",
      "  inflating: /content/temp/data_preprocessed_step2/train/labels/tesourareta503.txt  \n",
      "  inflating: /content/temp/data_preprocessed_step2/train/labels/tesourareta508.txt  \n",
      "  inflating: /content/temp/data_preprocessed_step2/train/labels/tesourareta533.txt  \n",
      "  inflating: /content/temp/data_preprocessed_step2/train/labels/tesourareta539.txt  \n",
      "  inflating: /content/temp/data_preprocessed_step2/train/labels/tesourareta546.txt  \n",
      "  inflating: /content/temp/data_preprocessed_step2/train/labels/tesourareta560.txt  \n",
      "  inflating: /content/temp/data_preprocessed_step2/train/labels/tesourareta568.txt  \n",
      "  inflating: /content/temp/data_preprocessed_step2/train/labels/tesourareta575.txt  \n",
      "  inflating: /content/temp/data_preprocessed_step2/train/labels/tesourareta581.txt  \n",
      "  inflating: /content/temp/data_preprocessed_step2/train/labels/tesourareta591.txt  \n",
      "  inflating: /content/temp/data_preprocessed_step2/train/labels/tesourareta595.txt  \n",
      "  inflating: /content/temp/data_preprocessed_step2/train/labels/tesourareta612.txt  \n",
      "  inflating: /content/temp/data_preprocessed_step2/train/labels/tesourareta619.txt  \n",
      "  inflating: /content/temp/data_preprocessed_step2/train/labels/tesourareta62.txt  \n",
      "  inflating: /content/temp/data_preprocessed_step2/train/labels/tesourareta622.txt  \n",
      "  inflating: /content/temp/data_preprocessed_step2/train/labels/tesourareta626.txt  \n",
      "  inflating: /content/temp/data_preprocessed_step2/train/labels/tesourareta629.txt  \n",
      "  inflating: /content/temp/data_preprocessed_step2/train/labels/tesourareta643.txt  \n",
      "  inflating: /content/temp/data_preprocessed_step2/train/labels/tesourareta651.txt  \n",
      "  inflating: /content/temp/data_preprocessed_step2/train/labels/tesourareta652.txt  \n",
      "  inflating: /content/temp/data_preprocessed_step2/train/labels/tesourareta66.txt  \n",
      "  inflating: /content/temp/data_preprocessed_step2/train/labels/tesourareta663.txt  \n",
      "  inflating: /content/temp/data_preprocessed_step2/train/labels/tesourareta78.txt  \n",
      "  inflating: /content/temp/data_preprocessed_step2/train/labels/tesourareta80.txt  \n",
      "  inflating: /content/temp/data_preprocessed_step2/train/labels/tesourareta9.txt  \n",
      "  inflating: /content/temp/data_preprocessed_step2/train/labels/tesourareta91.txt  \n",
      "  inflating: /content/temp/data_preprocessed_step2/train/labels/tesourareta94.txt  \n",
      "  inflating: /content/temp/data_preprocessed_step2/train/labels/tesourareta99.txt  \n",
      "  inflating: /content/temp/data_preprocessed_step2/train/labels.cache  \n",
      "   creating: /content/temp/data_preprocessed_step2/valid/\n",
      "   creating: /content/temp/data_preprocessed_step2/valid/images/\n",
      "  inflating: /content/temp/data_preprocessed_step2/valid/images/bisturi118.jpg  \n",
      "  inflating: /content/temp/data_preprocessed_step2/valid/images/bisturi124.jpg  \n",
      "  inflating: /content/temp/data_preprocessed_step2/valid/images/bisturi148.jpg  \n",
      "  inflating: /content/temp/data_preprocessed_step2/valid/images/bisturi152.jpg  \n",
      "  inflating: /content/temp/data_preprocessed_step2/valid/images/bisturi181.jpg  \n",
      "  inflating: /content/temp/data_preprocessed_step2/valid/images/bisturi259.jpg  \n",
      "  inflating: /content/temp/data_preprocessed_step2/valid/images/bisturi285.jpg  \n",
      "  inflating: /content/temp/data_preprocessed_step2/valid/images/bisturi386.jpg  \n",
      "  inflating: /content/temp/data_preprocessed_step2/valid/images/bisturi389.jpg  \n",
      "  inflating: /content/temp/data_preprocessed_step2/valid/images/bisturi430.jpg  \n",
      "  inflating: /content/temp/data_preprocessed_step2/valid/images/bisturi490.jpg  \n",
      "  inflating: /content/temp/data_preprocessed_step2/valid/images/bisturi541.jpg  \n",
      "  inflating: /content/temp/data_preprocessed_step2/valid/images/bisturi56.jpg  \n",
      "  inflating: /content/temp/data_preprocessed_step2/valid/images/bisturi574.jpg  \n",
      "  inflating: /content/temp/data_preprocessed_step2/valid/images/bisturi679.jpg  \n",
      "  inflating: /content/temp/data_preprocessed_step2/valid/images/bisturi699.jpg  \n",
      "  inflating: /content/temp/data_preprocessed_step2/valid/images/bisturi704.jpg  \n",
      "  inflating: /content/temp/data_preprocessed_step2/valid/images/pinca135.jpg  \n",
      "  inflating: /content/temp/data_preprocessed_step2/valid/images/pinca15.jpg  \n",
      "  inflating: /content/temp/data_preprocessed_step2/valid/images/pinca231.jpg  \n",
      "  inflating: /content/temp/data_preprocessed_step2/valid/images/pinca274.jpg  \n",
      "  inflating: /content/temp/data_preprocessed_step2/valid/images/pinca30.jpg  \n",
      "  inflating: /content/temp/data_preprocessed_step2/valid/images/pinca324.jpg  \n",
      "  inflating: /content/temp/data_preprocessed_step2/valid/images/pinca339.jpg  \n",
      "  inflating: /content/temp/data_preprocessed_step2/valid/images/pinca419.jpg  \n",
      "  inflating: /content/temp/data_preprocessed_step2/valid/images/pinca510.jpg  \n",
      "  inflating: /content/temp/data_preprocessed_step2/valid/images/pinca578.jpg  \n",
      "  inflating: /content/temp/data_preprocessed_step2/valid/images/pinca602.jpg  \n",
      "  inflating: /content/temp/data_preprocessed_step2/valid/images/pinca641.jpg  \n",
      "  inflating: /content/temp/data_preprocessed_step2/valid/images/pinca648.jpg  \n",
      "  inflating: /content/temp/data_preprocessed_step2/valid/images/pinca666.jpg  \n",
      "  inflating: /content/temp/data_preprocessed_step2/valid/images/pinca7.jpg  \n",
      "  inflating: /content/temp/data_preprocessed_step2/valid/images/pinca98.jpg  \n",
      "  inflating: /content/temp/data_preprocessed_step2/valid/images/separado1.jpg  \n",
      "  inflating: /content/temp/data_preprocessed_step2/valid/images/separado29.jpg  \n",
      "  inflating: /content/temp/data_preprocessed_step2/valid/images/tesouracurva165.jpg  \n",
      "  inflating: /content/temp/data_preprocessed_step2/valid/images/tesouracurva195.jpg  \n",
      "  inflating: /content/temp/data_preprocessed_step2/valid/images/tesouracurva217.jpg  \n",
      "  inflating: /content/temp/data_preprocessed_step2/valid/images/tesouracurva218.jpg  \n",
      "  inflating: /content/temp/data_preprocessed_step2/valid/images/tesouracurva231.jpg  \n",
      "  inflating: /content/temp/data_preprocessed_step2/valid/images/tesouracurva249.jpg  \n",
      "  inflating: /content/temp/data_preprocessed_step2/valid/images/tesouracurva25.jpg  \n",
      "  inflating: /content/temp/data_preprocessed_step2/valid/images/tesouracurva256.jpg  \n",
      "  inflating: /content/temp/data_preprocessed_step2/valid/images/tesouracurva414.jpg  \n",
      "  inflating: /content/temp/data_preprocessed_step2/valid/images/tesouracurva438.jpg  \n",
      "  inflating: /content/temp/data_preprocessed_step2/valid/images/tesouracurva465.jpg  \n",
      "  inflating: /content/temp/data_preprocessed_step2/valid/images/tesouracurva585.jpg  \n",
      "  inflating: /content/temp/data_preprocessed_step2/valid/images/tesouracurva616.jpg  \n",
      "  inflating: /content/temp/data_preprocessed_step2/valid/images/tesouracurva646.jpg  \n",
      "  inflating: /content/temp/data_preprocessed_step2/valid/images/tesouracurva649.jpg  \n",
      "  inflating: /content/temp/data_preprocessed_step2/valid/images/tesouracurva671.jpg  \n",
      "  inflating: /content/temp/data_preprocessed_step2/valid/images/tesouracurva713.jpg  \n",
      "  inflating: /content/temp/data_preprocessed_step2/valid/images/tesouracurva724.jpg  \n",
      "  inflating: /content/temp/data_preprocessed_step2/valid/images/tesouracurva79.jpg  \n",
      "  inflating: /content/temp/data_preprocessed_step2/valid/images/tesouracurva791.jpg  \n",
      "  inflating: /content/temp/data_preprocessed_step2/valid/images/tesourareta113.jpg  \n",
      "  inflating: /content/temp/data_preprocessed_step2/valid/images/tesourareta12.jpg  \n",
      "  inflating: /content/temp/data_preprocessed_step2/valid/images/tesourareta139.jpg  \n",
      "  inflating: /content/temp/data_preprocessed_step2/valid/images/tesourareta142.jpg  \n",
      "  inflating: /content/temp/data_preprocessed_step2/valid/images/tesourareta164.jpg  \n",
      "  inflating: /content/temp/data_preprocessed_step2/valid/images/tesourareta219.jpg  \n",
      "  inflating: /content/temp/data_preprocessed_step2/valid/images/tesourareta221.jpg  \n",
      "  inflating: /content/temp/data_preprocessed_step2/valid/images/tesourareta233.jpg  \n",
      "  inflating: /content/temp/data_preprocessed_step2/valid/images/tesourareta251.jpg  \n",
      "  inflating: /content/temp/data_preprocessed_step2/valid/images/tesourareta295.jpg  \n",
      "  inflating: /content/temp/data_preprocessed_step2/valid/images/tesourareta332.jpg  \n",
      "  inflating: /content/temp/data_preprocessed_step2/valid/images/tesourareta383.jpg  \n",
      "  inflating: /content/temp/data_preprocessed_step2/valid/images/tesourareta397.jpg  \n",
      "  inflating: /content/temp/data_preprocessed_step2/valid/images/tesourareta418.jpg  \n",
      "  inflating: /content/temp/data_preprocessed_step2/valid/images/tesourareta446.jpg  \n",
      "  inflating: /content/temp/data_preprocessed_step2/valid/images/tesourareta522.jpg  \n",
      "  inflating: /content/temp/data_preprocessed_step2/valid/images/tesourareta523.jpg  \n",
      "  inflating: /content/temp/data_preprocessed_step2/valid/images/tesourareta550.jpg  \n",
      "  inflating: /content/temp/data_preprocessed_step2/valid/images/tesourareta557.jpg  \n",
      "  inflating: /content/temp/data_preprocessed_step2/valid/images/tesourareta558.jpg  \n",
      "  inflating: /content/temp/data_preprocessed_step2/valid/images/tesourareta61.jpg  \n",
      "  inflating: /content/temp/data_preprocessed_step2/valid/images/tesourareta625.jpg  \n",
      "  inflating: /content/temp/data_preprocessed_step2/valid/images/tesourareta664.jpg  \n",
      "  inflating: /content/temp/data_preprocessed_step2/valid/images/tesourareta69.jpg  \n",
      "  inflating: /content/temp/data_preprocessed_step2/valid/images/tesourareta95.jpg  \n",
      "   creating: /content/temp/data_preprocessed_step2/valid/labels/\n",
      "  inflating: /content/temp/data_preprocessed_step2/valid/labels/bisturi118.txt  \n",
      "  inflating: /content/temp/data_preprocessed_step2/valid/labels/bisturi124.txt  \n",
      "  inflating: /content/temp/data_preprocessed_step2/valid/labels/bisturi148.txt  \n",
      "  inflating: /content/temp/data_preprocessed_step2/valid/labels/bisturi152.txt  \n",
      "  inflating: /content/temp/data_preprocessed_step2/valid/labels/bisturi181.txt  \n",
      "  inflating: /content/temp/data_preprocessed_step2/valid/labels/bisturi259.txt  \n",
      "  inflating: /content/temp/data_preprocessed_step2/valid/labels/bisturi285.txt  \n",
      "  inflating: /content/temp/data_preprocessed_step2/valid/labels/bisturi386.txt  \n",
      "  inflating: /content/temp/data_preprocessed_step2/valid/labels/bisturi389.txt  \n",
      "  inflating: /content/temp/data_preprocessed_step2/valid/labels/bisturi430.txt  \n",
      "  inflating: /content/temp/data_preprocessed_step2/valid/labels/bisturi490.txt  \n",
      "  inflating: /content/temp/data_preprocessed_step2/valid/labels/bisturi541.txt  \n",
      "  inflating: /content/temp/data_preprocessed_step2/valid/labels/bisturi56.txt  \n",
      "  inflating: /content/temp/data_preprocessed_step2/valid/labels/bisturi574.txt  \n",
      "  inflating: /content/temp/data_preprocessed_step2/valid/labels/bisturi679.txt  \n",
      "  inflating: /content/temp/data_preprocessed_step2/valid/labels/bisturi699.txt  \n",
      "  inflating: /content/temp/data_preprocessed_step2/valid/labels/bisturi704.txt  \n",
      "  inflating: /content/temp/data_preprocessed_step2/valid/labels/pinca135.txt  \n",
      "  inflating: /content/temp/data_preprocessed_step2/valid/labels/pinca15.txt  \n",
      "  inflating: /content/temp/data_preprocessed_step2/valid/labels/pinca231.txt  \n",
      "  inflating: /content/temp/data_preprocessed_step2/valid/labels/pinca274.txt  \n",
      "  inflating: /content/temp/data_preprocessed_step2/valid/labels/pinca30.txt  \n",
      "  inflating: /content/temp/data_preprocessed_step2/valid/labels/pinca324.txt  \n",
      "  inflating: /content/temp/data_preprocessed_step2/valid/labels/pinca339.txt  \n",
      "  inflating: /content/temp/data_preprocessed_step2/valid/labels/pinca419.txt  \n",
      "  inflating: /content/temp/data_preprocessed_step2/valid/labels/pinca510.txt  \n",
      "  inflating: /content/temp/data_preprocessed_step2/valid/labels/pinca578.txt  \n",
      "  inflating: /content/temp/data_preprocessed_step2/valid/labels/pinca602.txt  \n",
      "  inflating: /content/temp/data_preprocessed_step2/valid/labels/pinca641.txt  \n",
      "  inflating: /content/temp/data_preprocessed_step2/valid/labels/pinca648.txt  \n",
      "  inflating: /content/temp/data_preprocessed_step2/valid/labels/pinca666.txt  \n",
      "  inflating: /content/temp/data_preprocessed_step2/valid/labels/pinca7.txt  \n",
      "  inflating: /content/temp/data_preprocessed_step2/valid/labels/pinca98.txt  \n",
      "  inflating: /content/temp/data_preprocessed_step2/valid/labels/separado1.txt  \n",
      "  inflating: /content/temp/data_preprocessed_step2/valid/labels/separado29.txt  \n",
      "  inflating: /content/temp/data_preprocessed_step2/valid/labels/tesouracurva165.txt  \n",
      "  inflating: /content/temp/data_preprocessed_step2/valid/labels/tesouracurva195.txt  \n",
      "  inflating: /content/temp/data_preprocessed_step2/valid/labels/tesouracurva217.txt  \n",
      "  inflating: /content/temp/data_preprocessed_step2/valid/labels/tesouracurva218.txt  \n",
      "  inflating: /content/temp/data_preprocessed_step2/valid/labels/tesouracurva231.txt  \n",
      "  inflating: /content/temp/data_preprocessed_step2/valid/labels/tesouracurva249.txt  \n",
      "  inflating: /content/temp/data_preprocessed_step2/valid/labels/tesouracurva25.txt  \n",
      "  inflating: /content/temp/data_preprocessed_step2/valid/labels/tesouracurva256.txt  \n",
      "  inflating: /content/temp/data_preprocessed_step2/valid/labels/tesouracurva414.txt  \n",
      "  inflating: /content/temp/data_preprocessed_step2/valid/labels/tesouracurva438.txt  \n",
      "  inflating: /content/temp/data_preprocessed_step2/valid/labels/tesouracurva465.txt  \n",
      "  inflating: /content/temp/data_preprocessed_step2/valid/labels/tesouracurva585.txt  \n",
      "  inflating: /content/temp/data_preprocessed_step2/valid/labels/tesouracurva616.txt  \n",
      "  inflating: /content/temp/data_preprocessed_step2/valid/labels/tesouracurva646.txt  \n",
      "  inflating: /content/temp/data_preprocessed_step2/valid/labels/tesouracurva649.txt  \n",
      "  inflating: /content/temp/data_preprocessed_step2/valid/labels/tesouracurva671.txt  \n",
      "  inflating: /content/temp/data_preprocessed_step2/valid/labels/tesouracurva713.txt  \n",
      "  inflating: /content/temp/data_preprocessed_step2/valid/labels/tesouracurva724.txt  \n",
      "  inflating: /content/temp/data_preprocessed_step2/valid/labels/tesouracurva79.txt  \n",
      "  inflating: /content/temp/data_preprocessed_step2/valid/labels/tesouracurva791.txt  \n",
      "  inflating: /content/temp/data_preprocessed_step2/valid/labels/tesourareta113.txt  \n",
      "  inflating: /content/temp/data_preprocessed_step2/valid/labels/tesourareta12.txt  \n",
      "  inflating: /content/temp/data_preprocessed_step2/valid/labels/tesourareta139.txt  \n",
      "  inflating: /content/temp/data_preprocessed_step2/valid/labels/tesourareta142.txt  \n",
      "  inflating: /content/temp/data_preprocessed_step2/valid/labels/tesourareta164.txt  \n",
      "  inflating: /content/temp/data_preprocessed_step2/valid/labels/tesourareta219.txt  \n",
      "  inflating: /content/temp/data_preprocessed_step2/valid/labels/tesourareta221.txt  \n",
      "  inflating: /content/temp/data_preprocessed_step2/valid/labels/tesourareta233.txt  \n",
      "  inflating: /content/temp/data_preprocessed_step2/valid/labels/tesourareta251.txt  \n",
      "  inflating: /content/temp/data_preprocessed_step2/valid/labels/tesourareta295.txt  \n",
      "  inflating: /content/temp/data_preprocessed_step2/valid/labels/tesourareta332.txt  \n",
      "  inflating: /content/temp/data_preprocessed_step2/valid/labels/tesourareta383.txt  \n",
      "  inflating: /content/temp/data_preprocessed_step2/valid/labels/tesourareta397.txt  \n",
      "  inflating: /content/temp/data_preprocessed_step2/valid/labels/tesourareta418.txt  \n",
      "  inflating: /content/temp/data_preprocessed_step2/valid/labels/tesourareta446.txt  \n",
      "  inflating: /content/temp/data_preprocessed_step2/valid/labels/tesourareta522.txt  \n",
      "  inflating: /content/temp/data_preprocessed_step2/valid/labels/tesourareta523.txt  \n",
      "  inflating: /content/temp/data_preprocessed_step2/valid/labels/tesourareta550.txt  \n",
      "  inflating: /content/temp/data_preprocessed_step2/valid/labels/tesourareta557.txt  \n",
      "  inflating: /content/temp/data_preprocessed_step2/valid/labels/tesourareta558.txt  \n",
      "  inflating: /content/temp/data_preprocessed_step2/valid/labels/tesourareta61.txt  \n",
      "  inflating: /content/temp/data_preprocessed_step2/valid/labels/tesourareta625.txt  \n",
      "  inflating: /content/temp/data_preprocessed_step2/valid/labels/tesourareta664.txt  \n",
      "  inflating: /content/temp/data_preprocessed_step2/valid/labels/tesourareta69.txt  \n",
      "  inflating: /content/temp/data_preprocessed_step2/valid/labels/tesourareta95.txt  \n",
      "  inflating: /content/temp/data_preprocessed_step2/valid/labels.cache  \n"
     ]
    }
   ],
   "source": [
    "!rm -rf /content/temp/data_preprocessed_step2\n",
    "!unzip /content/sample_data/data_preprocessed_step2.zip -d /content/temp"
   ]
  },
  {
   "cell_type": "code",
   "execution_count": null,
   "metadata": {
    "colab": {
     "base_uri": "https://localhost:8080/"
    },
    "id": "FqEHUr1plDZq",
    "outputId": "8d153c7f-ad03-4aa4-e352-e542cf94c7d9"
   },
   "outputs": [
    {
     "name": "stdout",
     "output_type": "stream",
     "text": [
      "Creating new Ultralytics Settings v0.0.6 file ✅ \n",
      "View Ultralytics Settings with 'yolo settings' or at '/root/.config/Ultralytics/settings.json'\n",
      "Update Settings with 'yolo settings key=value', i.e. 'yolo settings runs_dir=path/to/dir'. For help see https://docs.ultralytics.com/quickstart/#ultralytics-settings.\n",
      "Downloading https://github.com/ultralytics/assets/releases/download/v8.3.0/yolov8n.pt to '/content/temp/models/yolov8n.pt'...\n"
     ]
    },
    {
     "name": "stderr",
     "output_type": "stream",
     "text": [
      "100%|██████████| 6.25M/6.25M [00:00<00:00, 308MB/s]\n"
     ]
    },
    {
     "name": "stdout",
     "output_type": "stream",
     "text": [
      "Ultralytics 8.3.33 🚀 Python-3.10.12 torch-2.5.1+cu121 CUDA:0 (Tesla T4, 15102MiB)\n",
      "\u001b[34m\u001b[1mengine/trainer: \u001b[0mtask=detect, mode=train, model=/content/temp/models/yolov8n.pt, data=/content/temp/data_preprocessed_step2/coco8.yaml, epochs=30, time=None, patience=100, batch=16, imgsz=640, save=True, save_period=-1, cache=False, device=None, workers=8, project=None, name=train, exist_ok=False, pretrained=True, optimizer=auto, verbose=True, seed=0, deterministic=True, single_cls=False, rect=False, cos_lr=False, close_mosaic=10, resume=False, amp=True, fraction=1.0, profile=False, freeze=None, multi_scale=False, overlap_mask=True, mask_ratio=4, dropout=0.0, val=True, split=val, save_json=False, save_hybrid=False, conf=None, iou=0.7, max_det=300, half=False, dnn=False, plots=True, source=None, vid_stride=1, stream_buffer=False, visualize=False, augment=False, agnostic_nms=False, classes=None, retina_masks=False, embed=None, show=False, save_frames=False, save_txt=False, save_conf=False, save_crop=False, show_labels=True, show_conf=True, show_boxes=True, line_width=None, format=torchscript, keras=False, optimize=False, int8=False, dynamic=False, simplify=True, opset=None, workspace=4, nms=False, lr0=0.01, lrf=0.01, momentum=0.937, weight_decay=0.0005, warmup_epochs=3.0, warmup_momentum=0.8, warmup_bias_lr=0.1, box=7.5, cls=0.5, dfl=1.5, pose=12.0, kobj=1.0, label_smoothing=0.0, nbs=64, hsv_h=0.015, hsv_s=0.7, hsv_v=0.4, degrees=0.0, translate=0.1, scale=0.5, shear=0.0, perspective=0.0, flipud=0.0, fliplr=0.5, bgr=0.0, mosaic=1.0, mixup=0.0, copy_paste=0.0, copy_paste_mode=flip, auto_augment=randaugment, erasing=0.4, crop_fraction=1.0, cfg=None, tracker=botsort.yaml, save_dir=runs/detect/train\n",
      "Downloading https://ultralytics.com/assets/Arial.Unicode.ttf to '/root/.config/Ultralytics/Arial.Unicode.ttf'...\n"
     ]
    },
    {
     "name": "stderr",
     "output_type": "stream",
     "text": [
      "100%|██████████| 22.2M/22.2M [00:00<00:00, 387MB/s]\n"
     ]
    },
    {
     "name": "stdout",
     "output_type": "stream",
     "text": [
      "Overriding model.yaml nc=80 with nc=4\n",
      "\n",
      "                   from  n    params  module                                       arguments                     \n",
      "  0                  -1  1       464  ultralytics.nn.modules.conv.Conv             [3, 16, 3, 2]                 \n",
      "  1                  -1  1      4672  ultralytics.nn.modules.conv.Conv             [16, 32, 3, 2]                \n",
      "  2                  -1  1      7360  ultralytics.nn.modules.block.C2f             [32, 32, 1, True]             \n",
      "  3                  -1  1     18560  ultralytics.nn.modules.conv.Conv             [32, 64, 3, 2]                \n",
      "  4                  -1  2     49664  ultralytics.nn.modules.block.C2f             [64, 64, 2, True]             \n",
      "  5                  -1  1     73984  ultralytics.nn.modules.conv.Conv             [64, 128, 3, 2]               \n",
      "  6                  -1  2    197632  ultralytics.nn.modules.block.C2f             [128, 128, 2, True]           \n",
      "  7                  -1  1    295424  ultralytics.nn.modules.conv.Conv             [128, 256, 3, 2]              \n",
      "  8                  -1  1    460288  ultralytics.nn.modules.block.C2f             [256, 256, 1, True]           \n",
      "  9                  -1  1    164608  ultralytics.nn.modules.block.SPPF            [256, 256, 5]                 \n",
      " 10                  -1  1         0  torch.nn.modules.upsampling.Upsample         [None, 2, 'nearest']          \n",
      " 11             [-1, 6]  1         0  ultralytics.nn.modules.conv.Concat           [1]                           \n",
      " 12                  -1  1    148224  ultralytics.nn.modules.block.C2f             [384, 128, 1]                 \n",
      " 13                  -1  1         0  torch.nn.modules.upsampling.Upsample         [None, 2, 'nearest']          \n",
      " 14             [-1, 4]  1         0  ultralytics.nn.modules.conv.Concat           [1]                           \n",
      " 15                  -1  1     37248  ultralytics.nn.modules.block.C2f             [192, 64, 1]                  \n",
      " 16                  -1  1     36992  ultralytics.nn.modules.conv.Conv             [64, 64, 3, 2]                \n",
      " 17            [-1, 12]  1         0  ultralytics.nn.modules.conv.Concat           [1]                           \n",
      " 18                  -1  1    123648  ultralytics.nn.modules.block.C2f             [192, 128, 1]                 \n",
      " 19                  -1  1    147712  ultralytics.nn.modules.conv.Conv             [128, 128, 3, 2]              \n",
      " 20             [-1, 9]  1         0  ultralytics.nn.modules.conv.Concat           [1]                           \n",
      " 21                  -1  1    493056  ultralytics.nn.modules.block.C2f             [384, 256, 1]                 \n",
      " 22        [15, 18, 21]  1    752092  ultralytics.nn.modules.head.Detect           [4, [64, 128, 256]]           \n",
      "Model summary: 225 layers, 3,011,628 parameters, 3,011,612 gradients, 8.2 GFLOPs\n",
      "\n",
      "Transferred 319/355 items from pretrained weights\n",
      "\u001b[34m\u001b[1mTensorBoard: \u001b[0mStart with 'tensorboard --logdir runs/detect/train', view at http://localhost:6006/\n",
      "Freezing layer 'model.22.dfl.conv.weight'\n",
      "\u001b[34m\u001b[1mAMP: \u001b[0mrunning Automatic Mixed Precision (AMP) checks...\n",
      "Downloading https://github.com/ultralytics/assets/releases/download/v8.3.0/yolo11n.pt to 'yolo11n.pt'...\n"
     ]
    },
    {
     "name": "stderr",
     "output_type": "stream",
     "text": [
      "100%|██████████| 5.35M/5.35M [00:00<00:00, 299MB/s]\n"
     ]
    },
    {
     "name": "stdout",
     "output_type": "stream",
     "text": [
      "\u001b[34m\u001b[1mAMP: \u001b[0mchecks passed ✅\n"
     ]
    },
    {
     "name": "stderr",
     "output_type": "stream",
     "text": [
      "\u001b[34m\u001b[1mtrain: \u001b[0mScanning /content/temp/data_preprocessed_step2/train/labels... 320 images, 0 backgrounds, 0 corrupt: 100%|██████████| 320/320 [00:00<00:00, 1753.38it/s]"
     ]
    },
    {
     "name": "stdout",
     "output_type": "stream",
     "text": [
      "\u001b[34m\u001b[1mtrain: \u001b[0mNew cache created: /content/temp/data_preprocessed_step2/train/labels.cache\n"
     ]
    },
    {
     "name": "stderr",
     "output_type": "stream",
     "text": [
      "\n"
     ]
    },
    {
     "name": "stdout",
     "output_type": "stream",
     "text": [
      "\u001b[34m\u001b[1malbumentations: \u001b[0mBlur(p=0.01, blur_limit=(3, 7)), MedianBlur(p=0.01, blur_limit=(3, 7)), ToGray(p=0.01, num_output_channels=3, method='weighted_average'), CLAHE(p=0.01, clip_limit=(1.0, 4.0), tile_grid_size=(8, 8))\n"
     ]
    },
    {
     "name": "stderr",
     "output_type": "stream",
     "text": [
      "/usr/local/lib/python3.10/dist-packages/albumentations/__init__.py:24: UserWarning: A new version of Albumentations is available: 1.4.21 (you have 1.4.20). Upgrade using: pip install -U albumentations. To disable automatic update checks, set the environment variable NO_ALBUMENTATIONS_UPDATE to 1.\n",
      "  check_for_updates()\n",
      "\u001b[34m\u001b[1mval: \u001b[0mScanning /content/temp/data_preprocessed_step2/valid/labels... 80 images, 0 backgrounds, 0 corrupt: 100%|██████████| 80/80 [00:00<00:00, 1553.33it/s]"
     ]
    },
    {
     "name": "stdout",
     "output_type": "stream",
     "text": [
      "\u001b[34m\u001b[1mval: \u001b[0mNew cache created: /content/temp/data_preprocessed_step2/valid/labels.cache\n"
     ]
    },
    {
     "name": "stderr",
     "output_type": "stream",
     "text": [
      "\n"
     ]
    },
    {
     "name": "stdout",
     "output_type": "stream",
     "text": [
      "Plotting labels to runs/detect/train/labels.jpg... \n",
      "\u001b[34m\u001b[1moptimizer:\u001b[0m 'optimizer=auto' found, ignoring 'lr0=0.01' and 'momentum=0.937' and determining best 'optimizer', 'lr0' and 'momentum' automatically... \n",
      "\u001b[34m\u001b[1moptimizer:\u001b[0m AdamW(lr=0.00125, momentum=0.9) with parameter groups 57 weight(decay=0.0), 64 weight(decay=0.0005), 63 bias(decay=0.0)\n",
      "\u001b[34m\u001b[1mTensorBoard: \u001b[0mmodel graph visualization added ✅\n",
      "Image sizes 640 train, 640 val\n",
      "Using 2 dataloader workers\n",
      "Logging results to \u001b[1mruns/detect/train\u001b[0m\n",
      "Starting training for 30 epochs...\n",
      "\n",
      "      Epoch    GPU_mem   box_loss   cls_loss   dfl_loss  Instances       Size\n"
     ]
    },
    {
     "name": "stderr",
     "output_type": "stream",
     "text": [
      "       1/30      2.49G      1.677      4.022      1.608         42        640:  30%|███       | 6/20 [00:03<00:05,  2.69it/s]"
     ]
    },
    {
     "name": "stdout",
     "output_type": "stream",
     "text": [
      "Downloading https://ultralytics.com/assets/Arial.ttf to '/root/.config/Ultralytics/Arial.ttf'...\n"
     ]
    },
    {
     "name": "stderr",
     "output_type": "stream",
     "text": [
      "       1/30      2.49G      1.559      3.941      1.546         56        640:  45%|████▌     | 9/20 [00:04<00:04,  2.59it/s]\n",
      "100%|██████████| 755k/755k [00:00<00:00, 79.3MB/s]\n",
      "       1/30       2.5G      1.395      3.632      1.458         40        640: 100%|██████████| 20/20 [00:07<00:00,  2.66it/s]\n",
      "                 Class     Images  Instances      Box(P          R      mAP50  mAP50-95): 100%|██████████| 3/3 [00:03<00:00,  1.16s/it]"
     ]
    },
    {
     "name": "stdout",
     "output_type": "stream",
     "text": [
      "                   all         80        111    0.00446      0.909      0.266      0.193\n"
     ]
    },
    {
     "name": "stderr",
     "output_type": "stream",
     "text": [
      "\n"
     ]
    },
    {
     "name": "stdout",
     "output_type": "stream",
     "text": [
      "\n",
      "      Epoch    GPU_mem   box_loss   cls_loss   dfl_loss  Instances       Size\n"
     ]
    },
    {
     "name": "stderr",
     "output_type": "stream",
     "text": [
      "       2/30      2.15G      1.191      2.685       1.29         41        640: 100%|██████████| 20/20 [00:04<00:00,  4.03it/s]\n",
      "                 Class     Images  Instances      Box(P          R      mAP50  mAP50-95): 100%|██████████| 3/3 [00:00<00:00,  3.10it/s]"
     ]
    },
    {
     "name": "stdout",
     "output_type": "stream",
     "text": [
      "                   all         80        111      0.633      0.114      0.235      0.177\n"
     ]
    },
    {
     "name": "stderr",
     "output_type": "stream",
     "text": [
      "\n"
     ]
    },
    {
     "name": "stdout",
     "output_type": "stream",
     "text": [
      "\n",
      "      Epoch    GPU_mem   box_loss   cls_loss   dfl_loss  Instances       Size\n"
     ]
    },
    {
     "name": "stderr",
     "output_type": "stream",
     "text": [
      "       3/30      2.17G      1.145      2.441      1.246         42        640: 100%|██████████| 20/20 [00:05<00:00,  3.38it/s]\n",
      "                 Class     Images  Instances      Box(P          R      mAP50  mAP50-95): 100%|██████████| 3/3 [00:01<00:00,  1.74it/s]"
     ]
    },
    {
     "name": "stdout",
     "output_type": "stream",
     "text": [
      "                   all         80        111       0.65      0.438      0.362      0.271\n"
     ]
    },
    {
     "name": "stderr",
     "output_type": "stream",
     "text": [
      "\n"
     ]
    },
    {
     "name": "stdout",
     "output_type": "stream",
     "text": [
      "\n",
      "      Epoch    GPU_mem   box_loss   cls_loss   dfl_loss  Instances       Size\n"
     ]
    },
    {
     "name": "stderr",
     "output_type": "stream",
     "text": [
      "       4/30      2.17G      1.176      2.377      1.243         45        640: 100%|██████████| 20/20 [00:05<00:00,  3.62it/s]\n",
      "                 Class     Images  Instances      Box(P          R      mAP50  mAP50-95): 100%|██████████| 3/3 [00:00<00:00,  3.39it/s]"
     ]
    },
    {
     "name": "stdout",
     "output_type": "stream",
     "text": [
      "                   all         80        111      0.395      0.422       0.34       0.23\n"
     ]
    },
    {
     "name": "stderr",
     "output_type": "stream",
     "text": [
      "\n"
     ]
    },
    {
     "name": "stdout",
     "output_type": "stream",
     "text": [
      "\n",
      "      Epoch    GPU_mem   box_loss   cls_loss   dfl_loss  Instances       Size\n"
     ]
    },
    {
     "name": "stderr",
     "output_type": "stream",
     "text": [
      "       5/30      2.15G      1.166      2.313      1.242         45        640: 100%|██████████| 20/20 [00:06<00:00,  3.18it/s]\n",
      "                 Class     Images  Instances      Box(P          R      mAP50  mAP50-95): 100%|██████████| 3/3 [00:01<00:00,  2.02it/s]"
     ]
    },
    {
     "name": "stdout",
     "output_type": "stream",
     "text": [
      "                   all         80        111      0.304      0.415      0.303      0.202\n"
     ]
    },
    {
     "name": "stderr",
     "output_type": "stream",
     "text": [
      "\n"
     ]
    },
    {
     "name": "stdout",
     "output_type": "stream",
     "text": [
      "\n",
      "      Epoch    GPU_mem   box_loss   cls_loss   dfl_loss  Instances       Size\n"
     ]
    },
    {
     "name": "stderr",
     "output_type": "stream",
     "text": [
      "       6/30      2.17G      1.147      2.321      1.258         43        640: 100%|██████████| 20/20 [00:05<00:00,  3.41it/s]\n",
      "                 Class     Images  Instances      Box(P          R      mAP50  mAP50-95): 100%|██████████| 3/3 [00:00<00:00,  3.39it/s]"
     ]
    },
    {
     "name": "stdout",
     "output_type": "stream",
     "text": [
      "                   all         80        111      0.416      0.437      0.397      0.277\n"
     ]
    },
    {
     "name": "stderr",
     "output_type": "stream",
     "text": [
      "\n"
     ]
    },
    {
     "name": "stdout",
     "output_type": "stream",
     "text": [
      "\n",
      "      Epoch    GPU_mem   box_loss   cls_loss   dfl_loss  Instances       Size\n"
     ]
    },
    {
     "name": "stderr",
     "output_type": "stream",
     "text": [
      "       7/30      2.17G      1.116      2.164      1.208         47        640: 100%|██████████| 20/20 [00:05<00:00,  3.96it/s]\n",
      "                 Class     Images  Instances      Box(P          R      mAP50  mAP50-95): 100%|██████████| 3/3 [00:01<00:00,  2.22it/s]"
     ]
    },
    {
     "name": "stdout",
     "output_type": "stream",
     "text": [
      "                   all         80        111      0.332      0.661      0.408      0.301\n"
     ]
    },
    {
     "name": "stderr",
     "output_type": "stream",
     "text": [
      "\n"
     ]
    },
    {
     "name": "stdout",
     "output_type": "stream",
     "text": [
      "\n",
      "      Epoch    GPU_mem   box_loss   cls_loss   dfl_loss  Instances       Size\n"
     ]
    },
    {
     "name": "stderr",
     "output_type": "stream",
     "text": [
      "       8/30      2.15G      1.103      2.123      1.217         42        640: 100%|██████████| 20/20 [00:07<00:00,  2.84it/s]\n",
      "                 Class     Images  Instances      Box(P          R      mAP50  mAP50-95): 100%|██████████| 3/3 [00:00<00:00,  3.77it/s]"
     ]
    },
    {
     "name": "stdout",
     "output_type": "stream",
     "text": [
      "                   all         80        111      0.338      0.623      0.431      0.311\n"
     ]
    },
    {
     "name": "stderr",
     "output_type": "stream",
     "text": [
      "\n"
     ]
    },
    {
     "name": "stdout",
     "output_type": "stream",
     "text": [
      "\n",
      "      Epoch    GPU_mem   box_loss   cls_loss   dfl_loss  Instances       Size\n"
     ]
    },
    {
     "name": "stderr",
     "output_type": "stream",
     "text": [
      "       9/30      2.15G      1.081      2.019      1.191         55        640: 100%|██████████| 20/20 [00:04<00:00,  4.01it/s]\n",
      "                 Class     Images  Instances      Box(P          R      mAP50  mAP50-95): 100%|██████████| 3/3 [00:00<00:00,  4.44it/s]"
     ]
    },
    {
     "name": "stdout",
     "output_type": "stream",
     "text": [
      "                   all         80        111      0.492      0.567       0.47      0.335\n"
     ]
    },
    {
     "name": "stderr",
     "output_type": "stream",
     "text": [
      "\n"
     ]
    },
    {
     "name": "stdout",
     "output_type": "stream",
     "text": [
      "\n",
      "      Epoch    GPU_mem   box_loss   cls_loss   dfl_loss  Instances       Size\n"
     ]
    },
    {
     "name": "stderr",
     "output_type": "stream",
     "text": [
      "      10/30      2.17G      1.045      1.895      1.176         52        640: 100%|██████████| 20/20 [00:07<00:00,  2.58it/s]\n",
      "                 Class     Images  Instances      Box(P          R      mAP50  mAP50-95): 100%|██████████| 3/3 [00:00<00:00,  3.87it/s]"
     ]
    },
    {
     "name": "stdout",
     "output_type": "stream",
     "text": [
      "                   all         80        111      0.482      0.674      0.592      0.425\n"
     ]
    },
    {
     "name": "stderr",
     "output_type": "stream",
     "text": [
      "\n"
     ]
    },
    {
     "name": "stdout",
     "output_type": "stream",
     "text": [
      "\n",
      "      Epoch    GPU_mem   box_loss   cls_loss   dfl_loss  Instances       Size\n"
     ]
    },
    {
     "name": "stderr",
     "output_type": "stream",
     "text": [
      "      11/30      2.15G      1.042      1.896      1.177         39        640: 100%|██████████| 20/20 [00:04<00:00,  4.09it/s]\n",
      "                 Class     Images  Instances      Box(P          R      mAP50  mAP50-95): 100%|██████████| 3/3 [00:00<00:00,  3.63it/s]"
     ]
    },
    {
     "name": "stdout",
     "output_type": "stream",
     "text": [
      "                   all         80        111      0.504      0.653      0.566      0.442\n"
     ]
    },
    {
     "name": "stderr",
     "output_type": "stream",
     "text": [
      "\n"
     ]
    },
    {
     "name": "stdout",
     "output_type": "stream",
     "text": [
      "\n",
      "      Epoch    GPU_mem   box_loss   cls_loss   dfl_loss  Instances       Size\n"
     ]
    },
    {
     "name": "stderr",
     "output_type": "stream",
     "text": [
      "      12/30      2.15G      1.026      1.781      1.167         39        640: 100%|██████████| 20/20 [00:07<00:00,  2.77it/s]\n",
      "                 Class     Images  Instances      Box(P          R      mAP50  mAP50-95): 100%|██████████| 3/3 [00:01<00:00,  1.96it/s]"
     ]
    },
    {
     "name": "stdout",
     "output_type": "stream",
     "text": [
      "                   all         80        111      0.571      0.667       0.64      0.478\n"
     ]
    },
    {
     "name": "stderr",
     "output_type": "stream",
     "text": [
      "\n"
     ]
    },
    {
     "name": "stdout",
     "output_type": "stream",
     "text": [
      "\n",
      "      Epoch    GPU_mem   box_loss   cls_loss   dfl_loss  Instances       Size\n"
     ]
    },
    {
     "name": "stderr",
     "output_type": "stream",
     "text": [
      "      13/30      2.17G      1.014      1.756       1.15         54        640: 100%|██████████| 20/20 [00:04<00:00,  4.08it/s]\n",
      "                 Class     Images  Instances      Box(P          R      mAP50  mAP50-95): 100%|██████████| 3/3 [00:00<00:00,  3.59it/s]"
     ]
    },
    {
     "name": "stdout",
     "output_type": "stream",
     "text": [
      "                   all         80        111      0.507      0.803      0.666      0.521\n"
     ]
    },
    {
     "name": "stderr",
     "output_type": "stream",
     "text": [
      "\n"
     ]
    },
    {
     "name": "stdout",
     "output_type": "stream",
     "text": [
      "\n",
      "      Epoch    GPU_mem   box_loss   cls_loss   dfl_loss  Instances       Size\n"
     ]
    },
    {
     "name": "stderr",
     "output_type": "stream",
     "text": [
      "      14/30      2.17G     0.9642      1.646      1.132         34        640: 100%|██████████| 20/20 [00:06<00:00,  3.11it/s]\n",
      "                 Class     Images  Instances      Box(P          R      mAP50  mAP50-95): 100%|██████████| 3/3 [00:01<00:00,  2.32it/s]"
     ]
    },
    {
     "name": "stdout",
     "output_type": "stream",
     "text": [
      "                   all         80        111      0.581      0.705       0.62      0.488\n"
     ]
    },
    {
     "name": "stderr",
     "output_type": "stream",
     "text": [
      "\n"
     ]
    },
    {
     "name": "stdout",
     "output_type": "stream",
     "text": [
      "\n",
      "      Epoch    GPU_mem   box_loss   cls_loss   dfl_loss  Instances       Size\n"
     ]
    },
    {
     "name": "stderr",
     "output_type": "stream",
     "text": [
      "      15/30      2.15G     0.9715      1.608      1.138         35        640: 100%|██████████| 20/20 [00:05<00:00,  3.74it/s]\n",
      "                 Class     Images  Instances      Box(P          R      mAP50  mAP50-95): 100%|██████████| 3/3 [00:00<00:00,  3.28it/s]"
     ]
    },
    {
     "name": "stdout",
     "output_type": "stream",
     "text": [
      "                   all         80        111      0.559      0.704        0.6      0.472\n"
     ]
    },
    {
     "name": "stderr",
     "output_type": "stream",
     "text": [
      "\n"
     ]
    },
    {
     "name": "stdout",
     "output_type": "stream",
     "text": [
      "\n",
      "      Epoch    GPU_mem   box_loss   cls_loss   dfl_loss  Instances       Size\n"
     ]
    },
    {
     "name": "stderr",
     "output_type": "stream",
     "text": [
      "      16/30      2.17G     0.9767      1.608      1.136         29        640: 100%|██████████| 20/20 [00:05<00:00,  3.90it/s]\n",
      "                 Class     Images  Instances      Box(P          R      mAP50  mAP50-95): 100%|██████████| 3/3 [00:01<00:00,  1.95it/s]"
     ]
    },
    {
     "name": "stdout",
     "output_type": "stream",
     "text": [
      "                   all         80        111      0.512      0.761      0.637      0.499\n"
     ]
    },
    {
     "name": "stderr",
     "output_type": "stream",
     "text": [
      "\n"
     ]
    },
    {
     "name": "stdout",
     "output_type": "stream",
     "text": [
      "\n",
      "      Epoch    GPU_mem   box_loss   cls_loss   dfl_loss  Instances       Size\n"
     ]
    },
    {
     "name": "stderr",
     "output_type": "stream",
     "text": [
      "      17/30      2.17G     0.9146      1.547      1.112         43        640: 100%|██████████| 20/20 [00:06<00:00,  2.93it/s]\n",
      "                 Class     Images  Instances      Box(P          R      mAP50  mAP50-95): 100%|██████████| 3/3 [00:00<00:00,  3.70it/s]"
     ]
    },
    {
     "name": "stdout",
     "output_type": "stream",
     "text": [
      "                   all         80        111      0.636      0.681      0.669      0.538\n"
     ]
    },
    {
     "name": "stderr",
     "output_type": "stream",
     "text": [
      "\n"
     ]
    },
    {
     "name": "stdout",
     "output_type": "stream",
     "text": [
      "\n",
      "      Epoch    GPU_mem   box_loss   cls_loss   dfl_loss  Instances       Size\n"
     ]
    },
    {
     "name": "stderr",
     "output_type": "stream",
     "text": [
      "      18/30      2.17G     0.9281      1.584      1.126         41        640: 100%|██████████| 20/20 [00:04<00:00,  4.14it/s]\n",
      "                 Class     Images  Instances      Box(P          R      mAP50  mAP50-95): 100%|██████████| 3/3 [00:00<00:00,  3.36it/s]\n"
     ]
    },
    {
     "name": "stdout",
     "output_type": "stream",
     "text": [
      "                   all         80        111      0.479       0.71      0.661      0.531\n",
      "\n",
      "      Epoch    GPU_mem   box_loss   cls_loss   dfl_loss  Instances       Size\n"
     ]
    },
    {
     "name": "stderr",
     "output_type": "stream",
     "text": [
      "      19/30      2.15G      0.874      1.472      1.071         50        640: 100%|██████████| 20/20 [00:07<00:00,  2.69it/s]\n",
      "                 Class     Images  Instances      Box(P          R      mAP50  mAP50-95): 100%|██████████| 3/3 [00:00<00:00,  3.50it/s]"
     ]
    },
    {
     "name": "stdout",
     "output_type": "stream",
     "text": [
      "                   all         80        111      0.631      0.753      0.697      0.557\n"
     ]
    },
    {
     "name": "stderr",
     "output_type": "stream",
     "text": [
      "\n"
     ]
    },
    {
     "name": "stdout",
     "output_type": "stream",
     "text": [
      "\n",
      "      Epoch    GPU_mem   box_loss   cls_loss   dfl_loss  Instances       Size\n"
     ]
    },
    {
     "name": "stderr",
     "output_type": "stream",
     "text": [
      "      20/30      2.15G     0.8854      1.456       1.09         38        640: 100%|██████████| 20/20 [00:04<00:00,  4.17it/s]\n",
      "                 Class     Images  Instances      Box(P          R      mAP50  mAP50-95): 100%|██████████| 3/3 [00:00<00:00,  3.53it/s]"
     ]
    },
    {
     "name": "stdout",
     "output_type": "stream",
     "text": [
      "                   all         80        111      0.635      0.757      0.713      0.578\n"
     ]
    },
    {
     "name": "stderr",
     "output_type": "stream",
     "text": [
      "\n"
     ]
    },
    {
     "name": "stdout",
     "output_type": "stream",
     "text": [
      "Closing dataloader mosaic\n",
      "\u001b[34m\u001b[1malbumentations: \u001b[0mBlur(p=0.01, blur_limit=(3, 7)), MedianBlur(p=0.01, blur_limit=(3, 7)), ToGray(p=0.01, num_output_channels=3, method='weighted_average'), CLAHE(p=0.01, clip_limit=(1.0, 4.0), tile_grid_size=(8, 8))\n",
      "\n",
      "      Epoch    GPU_mem   box_loss   cls_loss   dfl_loss  Instances       Size\n"
     ]
    },
    {
     "name": "stderr",
     "output_type": "stream",
     "text": [
      "      21/30      2.15G     0.6552      1.379     0.9538         29        640: 100%|██████████| 20/20 [00:09<00:00,  2.14it/s]\n",
      "                 Class     Images  Instances      Box(P          R      mAP50  mAP50-95): 100%|██████████| 3/3 [00:00<00:00,  3.97it/s]"
     ]
    },
    {
     "name": "stdout",
     "output_type": "stream",
     "text": [
      "                   all         80        111      0.628      0.787      0.728      0.573\n"
     ]
    },
    {
     "name": "stderr",
     "output_type": "stream",
     "text": [
      "\n"
     ]
    },
    {
     "name": "stdout",
     "output_type": "stream",
     "text": [
      "\n",
      "      Epoch    GPU_mem   box_loss   cls_loss   dfl_loss  Instances       Size\n"
     ]
    },
    {
     "name": "stderr",
     "output_type": "stream",
     "text": [
      "      22/30      2.15G     0.6567      1.292      0.978         20        640: 100%|██████████| 20/20 [00:04<00:00,  4.27it/s]\n",
      "                 Class     Images  Instances      Box(P          R      mAP50  mAP50-95): 100%|██████████| 3/3 [00:00<00:00,  3.71it/s]"
     ]
    },
    {
     "name": "stdout",
     "output_type": "stream",
     "text": [
      "                   all         80        111      0.681      0.731      0.722       0.59\n"
     ]
    },
    {
     "name": "stderr",
     "output_type": "stream",
     "text": [
      "\n"
     ]
    },
    {
     "name": "stdout",
     "output_type": "stream",
     "text": [
      "\n",
      "      Epoch    GPU_mem   box_loss   cls_loss   dfl_loss  Instances       Size\n"
     ]
    },
    {
     "name": "stderr",
     "output_type": "stream",
     "text": [
      "      23/30      2.15G     0.6258      1.218     0.9577         21        640: 100%|██████████| 20/20 [00:07<00:00,  2.78it/s]\n",
      "                 Class     Images  Instances      Box(P          R      mAP50  mAP50-95): 100%|██████████| 3/3 [00:01<00:00,  2.61it/s]"
     ]
    },
    {
     "name": "stdout",
     "output_type": "stream",
     "text": [
      "                   all         80        111      0.592      0.813      0.702      0.542\n"
     ]
    },
    {
     "name": "stderr",
     "output_type": "stream",
     "text": [
      "\n"
     ]
    },
    {
     "name": "stdout",
     "output_type": "stream",
     "text": [
      "\n",
      "      Epoch    GPU_mem   box_loss   cls_loss   dfl_loss  Instances       Size\n"
     ]
    },
    {
     "name": "stderr",
     "output_type": "stream",
     "text": [
      "      24/30      2.15G     0.6297      1.209      0.941         20        640: 100%|██████████| 20/20 [00:04<00:00,  4.37it/s]\n",
      "                 Class     Images  Instances      Box(P          R      mAP50  mAP50-95): 100%|██████████| 3/3 [00:00<00:00,  4.01it/s]"
     ]
    },
    {
     "name": "stdout",
     "output_type": "stream",
     "text": [
      "                   all         80        111      0.597      0.812        0.7       0.56\n"
     ]
    },
    {
     "name": "stderr",
     "output_type": "stream",
     "text": [
      "\n"
     ]
    },
    {
     "name": "stdout",
     "output_type": "stream",
     "text": [
      "\n",
      "      Epoch    GPU_mem   box_loss   cls_loss   dfl_loss  Instances       Size\n"
     ]
    },
    {
     "name": "stderr",
     "output_type": "stream",
     "text": [
      "      25/30      2.15G      0.604      1.136       0.94         24        640: 100%|██████████| 20/20 [00:05<00:00,  3.60it/s]\n",
      "                 Class     Images  Instances      Box(P          R      mAP50  mAP50-95): 100%|██████████| 3/3 [00:01<00:00,  2.01it/s]"
     ]
    },
    {
     "name": "stdout",
     "output_type": "stream",
     "text": [
      "                   all         80        111      0.604      0.763      0.733      0.594\n"
     ]
    },
    {
     "name": "stderr",
     "output_type": "stream",
     "text": [
      "\n"
     ]
    },
    {
     "name": "stdout",
     "output_type": "stream",
     "text": [
      "\n",
      "      Epoch    GPU_mem   box_loss   cls_loss   dfl_loss  Instances       Size\n"
     ]
    },
    {
     "name": "stderr",
     "output_type": "stream",
     "text": [
      "      26/30      2.15G     0.5684      1.121     0.9203         20        640: 100%|██████████| 20/20 [00:05<00:00,  3.55it/s]\n",
      "                 Class     Images  Instances      Box(P          R      mAP50  mAP50-95): 100%|██████████| 3/3 [00:00<00:00,  4.08it/s]"
     ]
    },
    {
     "name": "stdout",
     "output_type": "stream",
     "text": [
      "                   all         80        111      0.687      0.716      0.735      0.597\n"
     ]
    },
    {
     "name": "stderr",
     "output_type": "stream",
     "text": [
      "\n"
     ]
    },
    {
     "name": "stdout",
     "output_type": "stream",
     "text": [
      "\n",
      "      Epoch    GPU_mem   box_loss   cls_loss   dfl_loss  Instances       Size\n"
     ]
    },
    {
     "name": "stderr",
     "output_type": "stream",
     "text": [
      "      27/30      2.15G     0.5638      1.099     0.9315         24        640: 100%|██████████| 20/20 [00:04<00:00,  4.22it/s]\n",
      "                 Class     Images  Instances      Box(P          R      mAP50  mAP50-95): 100%|██████████| 3/3 [00:01<00:00,  2.81it/s]"
     ]
    },
    {
     "name": "stdout",
     "output_type": "stream",
     "text": [
      "                   all         80        111      0.689      0.746      0.755      0.618\n"
     ]
    },
    {
     "name": "stderr",
     "output_type": "stream",
     "text": [
      "\n"
     ]
    },
    {
     "name": "stdout",
     "output_type": "stream",
     "text": [
      "\n",
      "      Epoch    GPU_mem   box_loss   cls_loss   dfl_loss  Instances       Size\n"
     ]
    },
    {
     "name": "stderr",
     "output_type": "stream",
     "text": [
      "      28/30      2.15G     0.5423      1.078     0.9178         26        640: 100%|██████████| 20/20 [00:07<00:00,  2.67it/s]\n",
      "                 Class     Images  Instances      Box(P          R      mAP50  mAP50-95): 100%|██████████| 3/3 [00:00<00:00,  3.47it/s]"
     ]
    },
    {
     "name": "stdout",
     "output_type": "stream",
     "text": [
      "                   all         80        111      0.644      0.817      0.779       0.63\n"
     ]
    },
    {
     "name": "stderr",
     "output_type": "stream",
     "text": [
      "\n"
     ]
    },
    {
     "name": "stdout",
     "output_type": "stream",
     "text": [
      "\n",
      "      Epoch    GPU_mem   box_loss   cls_loss   dfl_loss  Instances       Size\n"
     ]
    },
    {
     "name": "stderr",
     "output_type": "stream",
     "text": [
      "      29/30      2.15G     0.5402       1.08     0.9245         18        640: 100%|██████████| 20/20 [00:04<00:00,  4.28it/s]\n",
      "                 Class     Images  Instances      Box(P          R      mAP50  mAP50-95): 100%|██████████| 3/3 [00:00<00:00,  3.78it/s]"
     ]
    },
    {
     "name": "stdout",
     "output_type": "stream",
     "text": [
      "                   all         80        111      0.659      0.824      0.767      0.607\n"
     ]
    },
    {
     "name": "stderr",
     "output_type": "stream",
     "text": [
      "\n"
     ]
    },
    {
     "name": "stdout",
     "output_type": "stream",
     "text": [
      "\n",
      "      Epoch    GPU_mem   box_loss   cls_loss   dfl_loss  Instances       Size\n"
     ]
    },
    {
     "name": "stderr",
     "output_type": "stream",
     "text": [
      "      30/30      2.15G     0.5229      1.009     0.9215         21        640: 100%|██████████| 20/20 [00:07<00:00,  2.72it/s]\n",
      "                 Class     Images  Instances      Box(P          R      mAP50  mAP50-95): 100%|██████████| 3/3 [00:01<00:00,  1.88it/s]"
     ]
    },
    {
     "name": "stdout",
     "output_type": "stream",
     "text": [
      "                   all         80        111      0.639      0.827      0.771      0.626\n"
     ]
    },
    {
     "name": "stderr",
     "output_type": "stream",
     "text": [
      "\n"
     ]
    },
    {
     "name": "stdout",
     "output_type": "stream",
     "text": [
      "\n",
      "30 epochs completed in 0.067 hours.\n",
      "Optimizer stripped from runs/detect/train/weights/last.pt, 6.2MB\n",
      "Optimizer stripped from runs/detect/train/weights/best.pt, 6.2MB\n",
      "\n",
      "Validating runs/detect/train/weights/best.pt...\n",
      "Ultralytics 8.3.33 🚀 Python-3.10.12 torch-2.5.1+cu121 CUDA:0 (Tesla T4, 15102MiB)\n",
      "Model summary (fused): 168 layers, 3,006,428 parameters, 0 gradients, 8.1 GFLOPs\n"
     ]
    },
    {
     "name": "stderr",
     "output_type": "stream",
     "text": [
      "                 Class     Images  Instances      Box(P          R      mAP50  mAP50-95): 100%|██████████| 3/3 [00:01<00:00,  2.60it/s]\n"
     ]
    },
    {
     "name": "stdout",
     "output_type": "stream",
     "text": [
      "                   all         80        111      0.643      0.817      0.779       0.63\n",
      "   curved mayo scissor         29         29      0.564      0.724      0.629      0.558\n",
      " straight mayo scissor         34         34      0.524      0.971      0.727      0.645\n",
      " {'scalpel nº4': None}         26         26      0.722      0.846      0.902      0.697\n",
      "straight dissection clamp         22         22      0.763      0.727      0.859      0.622\n",
      "Speed: 0.2ms preprocess, 2.5ms inference, 0.0ms loss, 2.7ms postprocess per image\n",
      "Results saved to \u001b[1mruns/detect/train\u001b[0m\n",
      "Trained model saved to: /content/temp/models/yolov8n_trained.pt\n",
      "Total execution time: 274.92 seconds (4.58 minutes)\n"
     ]
    }
   ],
   "source": [
    "from ultralytics import YOLO\n",
    "from pathlib import Path\n",
    "import shutil\n",
    "import time\n",
    "\n",
    "# Timing starts here\n",
    "start_time = time.time()\n",
    "\n",
    "MODEL_PATH = Path.cwd() / 'temp'/ 'models' / 'yolov8n.pt'\n",
    "COCO_YAML_PATH = Path.cwd() / 'temp'/ 'data_preprocessed_step2' / 'coco8.yaml'\n",
    "SAVED_MODEL_PATH = Path.cwd() / 'temp' / 'models' / 'yolov8n_trained.pt'  # Path to save trained model\n",
    "EPOCHS=30 # TODO run1(15) and run2(30)\n",
    "\n",
    "# Load a COCO-pretrained YOLOv8n model\n",
    "model = YOLO(MODEL_PATH)\n",
    "# print(f\"Using path {MODEL_PATH} to load model {model}\")\n",
    "\n",
    "# Train the model on the COCO8 example dataset for 100 epochs\n",
    "results = model.train(data=COCO_YAML_PATH, epochs=EPOCHS, imgsz=640) # augment=True, \n",
    "\n",
    "# Find and copy the best weights after training\n",
    "trained_weights_path = Path(results.save_dir) / \"weights\" / \"best.pt\"  # Default path for best weights\n",
    "shutil.copy(trained_weights_path, SAVED_MODEL_PATH)\n",
    "print(f\"Trained model saved to: {SAVED_MODEL_PATH}\")\n",
    "\n",
    "# Run inference with the YOLOv8n model on the 'bus.jpg' image\n",
    "# results = model(\"path/to/bus.jpg\")\n",
    "\n",
    "# Timing ends here\n",
    "end_time = time.time()\n",
    "\n",
    "# Calculate total time\n",
    "total_time = end_time - start_time\n",
    "print(f\"Total execution time: {total_time:.2f} seconds ({total_time / 60:.2f} minutes)\")"
   ]
  },
  {
   "cell_type": "code",
   "execution_count": 4,
   "metadata": {
    "colab": {
     "base_uri": "https://localhost:8080/",
     "height": 36
    },
    "id": "qqRtIl62wcz5",
    "outputId": "359a66e7-0d55-4355-e406-9e3f2220c99c"
   },
   "outputs": [
    {
     "data": {
      "application/vnd.google.colaboratory.intrinsic+json": {
       "type": "string"
      },
      "text/plain": [
       "'/content/runs.zip'"
      ]
     },
     "execution_count": 4,
     "metadata": {},
     "output_type": "execute_result"
    }
   ],
   "source": [
    "import shutil\n",
    "# from google.colab import files\n",
    "\n",
    "# Create a zip archive of the directory\n",
    "directory_to_download = '/content/runs'  # Replace with your directory path\n",
    "shutil.make_archive('/content/runs', 'zip', directory_to_download)\n"
   ]
  }
 ],
 "metadata": {
  "accelerator": "GPU",
  "colab": {
   "gpuType": "T4",
   "provenance": []
  },
  "kernelspec": {
   "display_name": "Python 3",
   "name": "python3"
  },
  "language_info": {
   "name": "python"
  }
 },
 "nbformat": 4,
 "nbformat_minor": 0
}
