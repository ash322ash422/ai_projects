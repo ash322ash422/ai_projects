{
 "cells": [
  {
   "cell_type": "code",
   "execution_count": 3,
   "metadata": {
    "colab": {
     "base_uri": "https://localhost:8080/"
    },
    "id": "-a5c6LR5lWFo",
    "outputId": "c98206af-b6d6-44b2-da58-58e8457b9257"
   },
   "outputs": [
    {
     "name": "stdout",
     "output_type": "stream",
     "text": [
      "Collecting ultralytics\n",
      "  Downloading ultralytics-8.3.33-py3-none-any.whl.metadata (35 kB)\n",
      "Requirement already satisfied: numpy>=1.23.0 in /usr/local/lib/python3.10/dist-packages (from ultralytics) (1.26.4)\n",
      "Requirement already satisfied: matplotlib>=3.3.0 in /usr/local/lib/python3.10/dist-packages (from ultralytics) (3.8.0)\n",
      "Requirement already satisfied: opencv-python>=4.6.0 in /usr/local/lib/python3.10/dist-packages (from ultralytics) (4.10.0.84)\n",
      "Requirement already satisfied: pillow>=7.1.2 in /usr/local/lib/python3.10/dist-packages (from ultralytics) (11.0.0)\n",
      "Requirement already satisfied: pyyaml>=5.3.1 in /usr/local/lib/python3.10/dist-packages (from ultralytics) (6.0.2)\n",
      "Requirement already satisfied: requests>=2.23.0 in /usr/local/lib/python3.10/dist-packages (from ultralytics) (2.32.3)\n",
      "Requirement already satisfied: scipy>=1.4.1 in /usr/local/lib/python3.10/dist-packages (from ultralytics) (1.13.1)\n",
      "Requirement already satisfied: torch>=1.8.0 in /usr/local/lib/python3.10/dist-packages (from ultralytics) (2.5.1+cu121)\n",
      "Requirement already satisfied: torchvision>=0.9.0 in /usr/local/lib/python3.10/dist-packages (from ultralytics) (0.20.1+cu121)\n",
      "Requirement already satisfied: tqdm>=4.64.0 in /usr/local/lib/python3.10/dist-packages (from ultralytics) (4.66.6)\n",
      "Requirement already satisfied: psutil in /usr/local/lib/python3.10/dist-packages (from ultralytics) (5.9.5)\n",
      "Requirement already satisfied: py-cpuinfo in /usr/local/lib/python3.10/dist-packages (from ultralytics) (9.0.0)\n",
      "Requirement already satisfied: pandas>=1.1.4 in /usr/local/lib/python3.10/dist-packages (from ultralytics) (2.2.2)\n",
      "Requirement already satisfied: seaborn>=0.11.0 in /usr/local/lib/python3.10/dist-packages (from ultralytics) (0.13.2)\n",
      "Collecting ultralytics-thop>=2.0.0 (from ultralytics)\n",
      "  Downloading ultralytics_thop-2.0.11-py3-none-any.whl.metadata (9.4 kB)\n",
      "Requirement already satisfied: contourpy>=1.0.1 in /usr/local/lib/python3.10/dist-packages (from matplotlib>=3.3.0->ultralytics) (1.3.1)\n",
      "Requirement already satisfied: cycler>=0.10 in /usr/local/lib/python3.10/dist-packages (from matplotlib>=3.3.0->ultralytics) (0.12.1)\n",
      "Requirement already satisfied: fonttools>=4.22.0 in /usr/local/lib/python3.10/dist-packages (from matplotlib>=3.3.0->ultralytics) (4.54.1)\n",
      "Requirement already satisfied: kiwisolver>=1.0.1 in /usr/local/lib/python3.10/dist-packages (from matplotlib>=3.3.0->ultralytics) (1.4.7)\n",
      "Requirement already satisfied: packaging>=20.0 in /usr/local/lib/python3.10/dist-packages (from matplotlib>=3.3.0->ultralytics) (24.2)\n",
      "Requirement already satisfied: pyparsing>=2.3.1 in /usr/local/lib/python3.10/dist-packages (from matplotlib>=3.3.0->ultralytics) (3.2.0)\n",
      "Requirement already satisfied: python-dateutil>=2.7 in /usr/local/lib/python3.10/dist-packages (from matplotlib>=3.3.0->ultralytics) (2.8.2)\n",
      "Requirement already satisfied: pytz>=2020.1 in /usr/local/lib/python3.10/dist-packages (from pandas>=1.1.4->ultralytics) (2024.2)\n",
      "Requirement already satisfied: tzdata>=2022.7 in /usr/local/lib/python3.10/dist-packages (from pandas>=1.1.4->ultralytics) (2024.2)\n",
      "Requirement already satisfied: charset-normalizer<4,>=2 in /usr/local/lib/python3.10/dist-packages (from requests>=2.23.0->ultralytics) (3.4.0)\n",
      "Requirement already satisfied: idna<4,>=2.5 in /usr/local/lib/python3.10/dist-packages (from requests>=2.23.0->ultralytics) (3.10)\n",
      "Requirement already satisfied: urllib3<3,>=1.21.1 in /usr/local/lib/python3.10/dist-packages (from requests>=2.23.0->ultralytics) (2.2.3)\n",
      "Requirement already satisfied: certifi>=2017.4.17 in /usr/local/lib/python3.10/dist-packages (from requests>=2.23.0->ultralytics) (2024.8.30)\n",
      "Requirement already satisfied: filelock in /usr/local/lib/python3.10/dist-packages (from torch>=1.8.0->ultralytics) (3.16.1)\n",
      "Requirement already satisfied: typing-extensions>=4.8.0 in /usr/local/lib/python3.10/dist-packages (from torch>=1.8.0->ultralytics) (4.12.2)\n",
      "Requirement already satisfied: networkx in /usr/local/lib/python3.10/dist-packages (from torch>=1.8.0->ultralytics) (3.4.2)\n",
      "Requirement already satisfied: jinja2 in /usr/local/lib/python3.10/dist-packages (from torch>=1.8.0->ultralytics) (3.1.4)\n",
      "Requirement already satisfied: fsspec in /usr/local/lib/python3.10/dist-packages (from torch>=1.8.0->ultralytics) (2024.10.0)\n",
      "Requirement already satisfied: sympy==1.13.1 in /usr/local/lib/python3.10/dist-packages (from torch>=1.8.0->ultralytics) (1.13.1)\n",
      "Requirement already satisfied: mpmath<1.4,>=1.1.0 in /usr/local/lib/python3.10/dist-packages (from sympy==1.13.1->torch>=1.8.0->ultralytics) (1.3.0)\n",
      "Requirement already satisfied: six>=1.5 in /usr/local/lib/python3.10/dist-packages (from python-dateutil>=2.7->matplotlib>=3.3.0->ultralytics) (1.16.0)\n",
      "Requirement already satisfied: MarkupSafe>=2.0 in /usr/local/lib/python3.10/dist-packages (from jinja2->torch>=1.8.0->ultralytics) (3.0.2)\n",
      "Downloading ultralytics-8.3.33-py3-none-any.whl (887 kB)\n",
      "\u001b[2K   \u001b[90m━━━━━━━━━━━━━━━━━━━━━━━━━━━━━━━━━━━━━━━━\u001b[0m \u001b[32m887.2/887.2 kB\u001b[0m \u001b[31m26.9 MB/s\u001b[0m eta \u001b[36m0:00:00\u001b[0m\n",
      "\u001b[?25hDownloading ultralytics_thop-2.0.11-py3-none-any.whl (26 kB)\n",
      "Installing collected packages: ultralytics-thop, ultralytics\n",
      "Successfully installed ultralytics-8.3.33 ultralytics-thop-2.0.11\n"
     ]
    }
   ],
   "source": [
    "!pip install ultralytics"
   ]
  },
  {
   "cell_type": "code",
   "execution_count": 1,
   "metadata": {
    "colab": {
     "base_uri": "https://localhost:8080/"
    },
    "id": "FMSOymvNmOW3",
    "outputId": "180c5177-a5e7-461f-9fa1-842649a2b8ae"
   },
   "outputs": [
    {
     "name": "stdout",
     "output_type": "stream",
     "text": [
      "Archive:  /content/sample_data/data_preprocessed_step2.zip\n",
      "   creating: /content/temp/data_preprocessed_step2/\n",
      "  inflating: /content/temp/data_preprocessed_step2/coco8.yaml  \n",
      "   creating: /content/temp/data_preprocessed_step2/test/\n",
      "   creating: /content/temp/data_preprocessed_step2/test/images/\n",
      "  inflating: /content/temp/data_preprocessed_step2/test/images/bisturi166.jpg  \n",
      "  inflating: /content/temp/data_preprocessed_step2/test/images/bisturi511.jpg  \n",
      "  inflating: /content/temp/data_preprocessed_step2/test/images/bisturi720.jpg  \n",
      "  inflating: /content/temp/data_preprocessed_step2/test/images/pinca161.jpg  \n",
      "  inflating: /content/temp/data_preprocessed_step2/test/images/pinca252.jpg  \n",
      "  inflating: /content/temp/data_preprocessed_step2/test/images/pinca301.jpg  \n",
      "  inflating: /content/temp/data_preprocessed_step2/test/images/pinca319.jpg  \n",
      "  inflating: /content/temp/data_preprocessed_step2/test/images/pinca359.jpg  \n",
      "  inflating: /content/temp/data_preprocessed_step2/test/images/pinca477.jpg  \n",
      "  inflating: /content/temp/data_preprocessed_step2/test/images/pinca53.jpg  \n",
      "  inflating: /content/temp/data_preprocessed_step2/test/images/pinca542.jpg  \n",
      "  inflating: /content/temp/data_preprocessed_step2/test/images/pinca552.jpg  \n",
      "  inflating: /content/temp/data_preprocessed_step2/test/images/pinca579.jpg  \n",
      "  inflating: /content/temp/data_preprocessed_step2/test/images/pinca87.jpg  \n",
      "  inflating: /content/temp/data_preprocessed_step2/test/images/pinca94.jpg  \n",
      "  inflating: /content/temp/data_preprocessed_step2/test/images/separado26.jpg  \n",
      "  inflating: /content/temp/data_preprocessed_step2/test/images/tesouracurva170.jpg  \n",
      "  inflating: /content/temp/data_preprocessed_step2/test/images/tesouracurva318.jpg  \n",
      "  inflating: /content/temp/data_preprocessed_step2/test/images/tesouracurva326.jpg  \n",
      "  inflating: /content/temp/data_preprocessed_step2/test/images/tesouracurva37.jpg  \n",
      "  inflating: /content/temp/data_preprocessed_step2/test/images/tesouracurva420.jpg  \n",
      "  inflating: /content/temp/data_preprocessed_step2/test/images/tesouracurva443.jpg  \n",
      "  inflating: /content/temp/data_preprocessed_step2/test/images/tesouracurva673.jpg  \n",
      "  inflating: /content/temp/data_preprocessed_step2/test/images/tesouracurva697.jpg  \n",
      "  inflating: /content/temp/data_preprocessed_step2/test/images/tesouracurva78.jpg  \n",
      "  inflating: /content/temp/data_preprocessed_step2/test/images/tesourareta102.jpg  \n",
      "  inflating: /content/temp/data_preprocessed_step2/test/images/tesourareta258.jpg  \n",
      "  inflating: /content/temp/data_preprocessed_step2/test/images/tesourareta426.jpg  \n",
      "  inflating: /content/temp/data_preprocessed_step2/test/images/tesourareta433.jpg  \n",
      "  inflating: /content/temp/data_preprocessed_step2/test/images/tesourareta438.jpg  \n",
      "   creating: /content/temp/data_preprocessed_step2/test/labels/\n",
      "  inflating: /content/temp/data_preprocessed_step2/test/labels/bisturi166.txt  \n",
      "  inflating: /content/temp/data_preprocessed_step2/test/labels/bisturi511.txt  \n",
      "  inflating: /content/temp/data_preprocessed_step2/test/labels/bisturi720.txt  \n",
      "  inflating: /content/temp/data_preprocessed_step2/test/labels/pinca161.txt  \n",
      "  inflating: /content/temp/data_preprocessed_step2/test/labels/pinca252.txt  \n",
      "  inflating: /content/temp/data_preprocessed_step2/test/labels/pinca301.txt  \n",
      "  inflating: /content/temp/data_preprocessed_step2/test/labels/pinca319.txt  \n",
      "  inflating: /content/temp/data_preprocessed_step2/test/labels/pinca359.txt  \n",
      "  inflating: /content/temp/data_preprocessed_step2/test/labels/pinca477.txt  \n",
      "  inflating: /content/temp/data_preprocessed_step2/test/labels/pinca53.txt  \n",
      "  inflating: /content/temp/data_preprocessed_step2/test/labels/pinca542.txt  \n",
      "  inflating: /content/temp/data_preprocessed_step2/test/labels/pinca552.txt  \n",
      "  inflating: /content/temp/data_preprocessed_step2/test/labels/pinca579.txt  \n",
      "  inflating: /content/temp/data_preprocessed_step2/test/labels/pinca87.txt  \n",
      "  inflating: /content/temp/data_preprocessed_step2/test/labels/pinca94.txt  \n",
      "  inflating: /content/temp/data_preprocessed_step2/test/labels/separado26.txt  \n",
      "  inflating: /content/temp/data_preprocessed_step2/test/labels/tesouracurva170.txt  \n",
      "  inflating: /content/temp/data_preprocessed_step2/test/labels/tesouracurva318.txt  \n",
      "  inflating: /content/temp/data_preprocessed_step2/test/labels/tesouracurva326.txt  \n",
      "  inflating: /content/temp/data_preprocessed_step2/test/labels/tesouracurva37.txt  \n",
      "  inflating: /content/temp/data_preprocessed_step2/test/labels/tesouracurva420.txt  \n",
      "  inflating: /content/temp/data_preprocessed_step2/test/labels/tesouracurva443.txt  \n",
      "  inflating: /content/temp/data_preprocessed_step2/test/labels/tesouracurva673.txt  \n",
      "  inflating: /content/temp/data_preprocessed_step2/test/labels/tesouracurva697.txt  \n",
      "  inflating: /content/temp/data_preprocessed_step2/test/labels/tesouracurva78.txt  \n",
      "  inflating: /content/temp/data_preprocessed_step2/test/labels/tesourareta102.txt  \n",
      "  inflating: /content/temp/data_preprocessed_step2/test/labels/tesourareta258.txt  \n",
      "  inflating: /content/temp/data_preprocessed_step2/test/labels/tesourareta426.txt  \n",
      "  inflating: /content/temp/data_preprocessed_step2/test/labels/tesourareta433.txt  \n",
      "  inflating: /content/temp/data_preprocessed_step2/test/labels/tesourareta438.txt  \n",
      "  inflating: /content/temp/data_preprocessed_step2/test/labels.cache  \n",
      "   creating: /content/temp/data_preprocessed_step2/train/\n",
      "   creating: /content/temp/data_preprocessed_step2/train/images/\n",
      "  inflating: /content/temp/data_preprocessed_step2/train/images/bisturi10.jpg  \n",
      "  inflating: /content/temp/data_preprocessed_step2/train/images/bisturi115.jpg  \n",
      "  inflating: /content/temp/data_preprocessed_step2/train/images/bisturi122.jpg  \n",
      "  inflating: /content/temp/data_preprocessed_step2/train/images/bisturi134.jpg  \n",
      "  inflating: /content/temp/data_preprocessed_step2/train/images/bisturi174.jpg  \n",
      "  inflating: /content/temp/data_preprocessed_step2/train/images/bisturi18.jpg  \n",
      "  inflating: /content/temp/data_preprocessed_step2/train/images/bisturi181.jpg  \n",
      "  inflating: /content/temp/data_preprocessed_step2/train/images/bisturi193.jpg  \n",
      "  inflating: /content/temp/data_preprocessed_step2/train/images/bisturi195.jpg  \n",
      "  inflating: /content/temp/data_preprocessed_step2/train/images/bisturi197.jpg  \n",
      "  inflating: /content/temp/data_preprocessed_step2/train/images/bisturi199.jpg  \n",
      "  inflating: /content/temp/data_preprocessed_step2/train/images/bisturi207.jpg  \n",
      "  inflating: /content/temp/data_preprocessed_step2/train/images/bisturi210.jpg  \n",
      "  inflating: /content/temp/data_preprocessed_step2/train/images/bisturi219.jpg  \n",
      "  inflating: /content/temp/data_preprocessed_step2/train/images/bisturi259.jpg  \n",
      "  inflating: /content/temp/data_preprocessed_step2/train/images/bisturi261.jpg  \n",
      "  inflating: /content/temp/data_preprocessed_step2/train/images/bisturi269.jpg  \n",
      "  inflating: /content/temp/data_preprocessed_step2/train/images/bisturi273.jpg  \n",
      "  inflating: /content/temp/data_preprocessed_step2/train/images/bisturi28.jpg  \n",
      "  inflating: /content/temp/data_preprocessed_step2/train/images/bisturi283.jpg  \n",
      "  inflating: /content/temp/data_preprocessed_step2/train/images/bisturi333.jpg  \n",
      "  inflating: /content/temp/data_preprocessed_step2/train/images/bisturi356.jpg  \n",
      "  inflating: /content/temp/data_preprocessed_step2/train/images/bisturi391.jpg  \n",
      "  inflating: /content/temp/data_preprocessed_step2/train/images/bisturi41.jpg  \n",
      "  inflating: /content/temp/data_preprocessed_step2/train/images/bisturi411.jpg  \n",
      "  inflating: /content/temp/data_preprocessed_step2/train/images/bisturi412.jpg  \n",
      "  inflating: /content/temp/data_preprocessed_step2/train/images/bisturi42.jpg  \n",
      "  inflating: /content/temp/data_preprocessed_step2/train/images/bisturi425.jpg  \n",
      "  inflating: /content/temp/data_preprocessed_step2/train/images/bisturi43.jpg  \n",
      "  inflating: /content/temp/data_preprocessed_step2/train/images/bisturi471.jpg  \n",
      "  inflating: /content/temp/data_preprocessed_step2/train/images/bisturi472.jpg  \n",
      "  inflating: /content/temp/data_preprocessed_step2/train/images/bisturi473.jpg  \n",
      "  inflating: /content/temp/data_preprocessed_step2/train/images/bisturi479.jpg  \n",
      "  inflating: /content/temp/data_preprocessed_step2/train/images/bisturi493.jpg  \n",
      "  inflating: /content/temp/data_preprocessed_step2/train/images/bisturi513.jpg  \n",
      "  inflating: /content/temp/data_preprocessed_step2/train/images/bisturi514.jpg  \n",
      "  inflating: /content/temp/data_preprocessed_step2/train/images/bisturi56.jpg  \n",
      "  inflating: /content/temp/data_preprocessed_step2/train/images/bisturi568.jpg  \n",
      "  inflating: /content/temp/data_preprocessed_step2/train/images/bisturi573.jpg  \n",
      "  inflating: /content/temp/data_preprocessed_step2/train/images/bisturi582.jpg  \n",
      "  inflating: /content/temp/data_preprocessed_step2/train/images/bisturi588.jpg  \n",
      "  inflating: /content/temp/data_preprocessed_step2/train/images/bisturi615.jpg  \n",
      "  inflating: /content/temp/data_preprocessed_step2/train/images/bisturi619.jpg  \n",
      "  inflating: /content/temp/data_preprocessed_step2/train/images/bisturi639.jpg  \n",
      "  inflating: /content/temp/data_preprocessed_step2/train/images/bisturi656.jpg  \n",
      "  inflating: /content/temp/data_preprocessed_step2/train/images/bisturi659.jpg  \n",
      "  inflating: /content/temp/data_preprocessed_step2/train/images/bisturi672.jpg  \n",
      "  inflating: /content/temp/data_preprocessed_step2/train/images/bisturi675.jpg  \n",
      "  inflating: /content/temp/data_preprocessed_step2/train/images/bisturi676.jpg  \n",
      "  inflating: /content/temp/data_preprocessed_step2/train/images/bisturi689.jpg  \n",
      "  inflating: /content/temp/data_preprocessed_step2/train/images/bisturi692.jpg  \n",
      "  inflating: /content/temp/data_preprocessed_step2/train/images/bisturi698.jpg  \n",
      "  inflating: /content/temp/data_preprocessed_step2/train/images/bisturi703.jpg  \n",
      "  inflating: /content/temp/data_preprocessed_step2/train/images/bisturi706.jpg  \n",
      "  inflating: /content/temp/data_preprocessed_step2/train/images/bisturi709.jpg  \n",
      "  inflating: /content/temp/data_preprocessed_step2/train/images/bisturi710.jpg  \n",
      "  inflating: /content/temp/data_preprocessed_step2/train/images/bisturi712.jpg  \n",
      "  inflating: /content/temp/data_preprocessed_step2/train/images/bisturi729.jpg  \n",
      "  inflating: /content/temp/data_preprocessed_step2/train/images/bisturi739.jpg  \n",
      "  inflating: /content/temp/data_preprocessed_step2/train/images/bisturi88.jpg  \n",
      "  inflating: /content/temp/data_preprocessed_step2/train/images/bisturi92.jpg  \n",
      "  inflating: /content/temp/data_preprocessed_step2/train/images/bisturi98.jpg  \n",
      "  inflating: /content/temp/data_preprocessed_step2/train/images/pinca113.jpg  \n",
      "  inflating: /content/temp/data_preprocessed_step2/train/images/pinca156.jpg  \n",
      "  inflating: /content/temp/data_preprocessed_step2/train/images/pinca167.jpg  \n",
      "  inflating: /content/temp/data_preprocessed_step2/train/images/pinca17.jpg  \n",
      "  inflating: /content/temp/data_preprocessed_step2/train/images/pinca178.jpg  \n",
      "  inflating: /content/temp/data_preprocessed_step2/train/images/pinca179.jpg  \n",
      "  inflating: /content/temp/data_preprocessed_step2/train/images/pinca19.jpg  \n",
      "  inflating: /content/temp/data_preprocessed_step2/train/images/pinca192.jpg  \n",
      "  inflating: /content/temp/data_preprocessed_step2/train/images/pinca193.jpg  \n",
      "  inflating: /content/temp/data_preprocessed_step2/train/images/pinca213.jpg  \n",
      "  inflating: /content/temp/data_preprocessed_step2/train/images/pinca214.jpg  \n",
      "  inflating: /content/temp/data_preprocessed_step2/train/images/pinca230.jpg  \n",
      "  inflating: /content/temp/data_preprocessed_step2/train/images/pinca24.jpg  \n",
      "  inflating: /content/temp/data_preprocessed_step2/train/images/pinca248.jpg  \n",
      "  inflating: /content/temp/data_preprocessed_step2/train/images/pinca288.jpg  \n",
      "  inflating: /content/temp/data_preprocessed_step2/train/images/pinca308.jpg  \n",
      "  inflating: /content/temp/data_preprocessed_step2/train/images/pinca329.jpg  \n",
      "  inflating: /content/temp/data_preprocessed_step2/train/images/pinca341.jpg  \n",
      "  inflating: /content/temp/data_preprocessed_step2/train/images/pinca346.jpg  \n",
      "  inflating: /content/temp/data_preprocessed_step2/train/images/pinca356.jpg  \n",
      "  inflating: /content/temp/data_preprocessed_step2/train/images/pinca36.jpg  \n",
      "  inflating: /content/temp/data_preprocessed_step2/train/images/pinca365.jpg  \n",
      "  inflating: /content/temp/data_preprocessed_step2/train/images/pinca366.jpg  \n",
      "  inflating: /content/temp/data_preprocessed_step2/train/images/pinca374.jpg  \n",
      "  inflating: /content/temp/data_preprocessed_step2/train/images/pinca397.jpg  \n",
      "  inflating: /content/temp/data_preprocessed_step2/train/images/pinca407.jpg  \n",
      "  inflating: /content/temp/data_preprocessed_step2/train/images/pinca430.jpg  \n",
      "  inflating: /content/temp/data_preprocessed_step2/train/images/pinca449.jpg  \n",
      "  inflating: /content/temp/data_preprocessed_step2/train/images/pinca450.jpg  \n",
      "  inflating: /content/temp/data_preprocessed_step2/train/images/pinca459.jpg  \n",
      "  inflating: /content/temp/data_preprocessed_step2/train/images/pinca47.jpg  \n",
      "  inflating: /content/temp/data_preprocessed_step2/train/images/pinca482.jpg  \n",
      "  inflating: /content/temp/data_preprocessed_step2/train/images/pinca487.jpg  \n",
      "  inflating: /content/temp/data_preprocessed_step2/train/images/pinca497.jpg  \n",
      "  inflating: /content/temp/data_preprocessed_step2/train/images/pinca499.jpg  \n",
      "  inflating: /content/temp/data_preprocessed_step2/train/images/pinca513.jpg  \n",
      "  inflating: /content/temp/data_preprocessed_step2/train/images/pinca514.jpg  \n",
      "  inflating: /content/temp/data_preprocessed_step2/train/images/pinca515.jpg  \n",
      "  inflating: /content/temp/data_preprocessed_step2/train/images/pinca516.jpg  \n",
      "  inflating: /content/temp/data_preprocessed_step2/train/images/pinca536.jpg  \n",
      "  inflating: /content/temp/data_preprocessed_step2/train/images/pinca537.jpg  \n",
      "  inflating: /content/temp/data_preprocessed_step2/train/images/pinca539.jpg  \n",
      "  inflating: /content/temp/data_preprocessed_step2/train/images/pinca543.jpg  \n",
      "  inflating: /content/temp/data_preprocessed_step2/train/images/pinca554.jpg  \n",
      "  inflating: /content/temp/data_preprocessed_step2/train/images/pinca588.jpg  \n",
      "  inflating: /content/temp/data_preprocessed_step2/train/images/pinca597.jpg  \n",
      "  inflating: /content/temp/data_preprocessed_step2/train/images/pinca638.jpg  \n",
      "  inflating: /content/temp/data_preprocessed_step2/train/images/pinca639.jpg  \n",
      "  inflating: /content/temp/data_preprocessed_step2/train/images/pinca644.jpg  \n",
      "  inflating: /content/temp/data_preprocessed_step2/train/images/pinca648.jpg  \n",
      "  inflating: /content/temp/data_preprocessed_step2/train/images/pinca657.jpg  \n",
      "  inflating: /content/temp/data_preprocessed_step2/train/images/pinca66.jpg  \n",
      "  inflating: /content/temp/data_preprocessed_step2/train/images/pinca679.jpg  \n",
      "  inflating: /content/temp/data_preprocessed_step2/train/images/pinca80.jpg  \n",
      "  inflating: /content/temp/data_preprocessed_step2/train/images/pinca82.jpg  \n",
      "  inflating: /content/temp/data_preprocessed_step2/train/images/pinca85.jpg  \n",
      "  inflating: /content/temp/data_preprocessed_step2/train/images/pinca95.jpg  \n",
      "  inflating: /content/temp/data_preprocessed_step2/train/images/separado10.jpg  \n",
      "  inflating: /content/temp/data_preprocessed_step2/train/images/separado12.jpg  \n",
      "  inflating: /content/temp/data_preprocessed_step2/train/images/separado17.jpg  \n",
      "  inflating: /content/temp/data_preprocessed_step2/train/images/separado42.jpg  \n",
      "  inflating: /content/temp/data_preprocessed_step2/train/images/separado62.jpg  \n",
      "  inflating: /content/temp/data_preprocessed_step2/train/images/separado76.jpg  \n",
      "  inflating: /content/temp/data_preprocessed_step2/train/images/separado79.jpg  \n",
      "  inflating: /content/temp/data_preprocessed_step2/train/images/separado82.jpg  \n",
      "  inflating: /content/temp/data_preprocessed_step2/train/images/separado86.jpg  \n",
      "  inflating: /content/temp/data_preprocessed_step2/train/images/separado94.jpg  \n",
      "  inflating: /content/temp/data_preprocessed_step2/train/images/tesouracurva10.jpg  \n",
      "  inflating: /content/temp/data_preprocessed_step2/train/images/tesouracurva110.jpg  \n",
      "  inflating: /content/temp/data_preprocessed_step2/train/images/tesouracurva119.jpg  \n",
      "  inflating: /content/temp/data_preprocessed_step2/train/images/tesouracurva120.jpg  \n",
      "  inflating: /content/temp/data_preprocessed_step2/train/images/tesouracurva128.jpg  \n",
      "  inflating: /content/temp/data_preprocessed_step2/train/images/tesouracurva132.jpg  \n",
      "  inflating: /content/temp/data_preprocessed_step2/train/images/tesouracurva188.jpg  \n",
      "  inflating: /content/temp/data_preprocessed_step2/train/images/tesouracurva225.jpg  \n",
      "  inflating: /content/temp/data_preprocessed_step2/train/images/tesouracurva227.jpg  \n",
      "  inflating: /content/temp/data_preprocessed_step2/train/images/tesouracurva250.jpg  \n",
      "  inflating: /content/temp/data_preprocessed_step2/train/images/tesouracurva262.jpg  \n",
      "  inflating: /content/temp/data_preprocessed_step2/train/images/tesouracurva263.jpg  \n",
      "  inflating: /content/temp/data_preprocessed_step2/train/images/tesouracurva279.jpg  \n",
      "  inflating: /content/temp/data_preprocessed_step2/train/images/tesouracurva287.jpg  \n",
      "  inflating: /content/temp/data_preprocessed_step2/train/images/tesouracurva290.jpg  \n",
      "  inflating: /content/temp/data_preprocessed_step2/train/images/tesouracurva317.jpg  \n",
      "  inflating: /content/temp/data_preprocessed_step2/train/images/tesouracurva320.jpg  \n",
      "  inflating: /content/temp/data_preprocessed_step2/train/images/tesouracurva333.jpg  \n",
      "  inflating: /content/temp/data_preprocessed_step2/train/images/tesouracurva35.jpg  \n",
      "  inflating: /content/temp/data_preprocessed_step2/train/images/tesouracurva359.jpg  \n",
      "  inflating: /content/temp/data_preprocessed_step2/train/images/tesouracurva360.jpg  \n",
      "  inflating: /content/temp/data_preprocessed_step2/train/images/tesouracurva392.jpg  \n",
      "  inflating: /content/temp/data_preprocessed_step2/train/images/tesouracurva408.jpg  \n",
      "  inflating: /content/temp/data_preprocessed_step2/train/images/tesouracurva409.jpg  \n",
      "  inflating: /content/temp/data_preprocessed_step2/train/images/tesouracurva441.jpg  \n",
      "  inflating: /content/temp/data_preprocessed_step2/train/images/tesouracurva449.jpg  \n",
      "  inflating: /content/temp/data_preprocessed_step2/train/images/tesouracurva463.jpg  \n",
      "  inflating: /content/temp/data_preprocessed_step2/train/images/tesouracurva464.jpg  \n",
      "  inflating: /content/temp/data_preprocessed_step2/train/images/tesouracurva465.jpg  \n",
      "  inflating: /content/temp/data_preprocessed_step2/train/images/tesouracurva470.jpg  \n",
      "  inflating: /content/temp/data_preprocessed_step2/train/images/tesouracurva471.jpg  \n",
      "  inflating: /content/temp/data_preprocessed_step2/train/images/tesouracurva478.jpg  \n",
      "  inflating: /content/temp/data_preprocessed_step2/train/images/tesouracurva481.jpg  \n",
      "  inflating: /content/temp/data_preprocessed_step2/train/images/tesouracurva487.jpg  \n",
      "  inflating: /content/temp/data_preprocessed_step2/train/images/tesouracurva492.jpg  \n",
      "  inflating: /content/temp/data_preprocessed_step2/train/images/tesouracurva512.jpg  \n",
      "  inflating: /content/temp/data_preprocessed_step2/train/images/tesouracurva517.jpg  \n",
      "  inflating: /content/temp/data_preprocessed_step2/train/images/tesouracurva521.jpg  \n",
      "  inflating: /content/temp/data_preprocessed_step2/train/images/tesouracurva522.jpg  \n",
      "  inflating: /content/temp/data_preprocessed_step2/train/images/tesouracurva543.jpg  \n",
      "  inflating: /content/temp/data_preprocessed_step2/train/images/tesouracurva554.jpg  \n",
      "  inflating: /content/temp/data_preprocessed_step2/train/images/tesouracurva568.jpg  \n",
      "  inflating: /content/temp/data_preprocessed_step2/train/images/tesouracurva587.jpg  \n",
      "  inflating: /content/temp/data_preprocessed_step2/train/images/tesouracurva594.jpg  \n",
      "  inflating: /content/temp/data_preprocessed_step2/train/images/tesouracurva633.jpg  \n",
      "  inflating: /content/temp/data_preprocessed_step2/train/images/tesouracurva638.jpg  \n",
      "  inflating: /content/temp/data_preprocessed_step2/train/images/tesouracurva642.jpg  \n",
      "  inflating: /content/temp/data_preprocessed_step2/train/images/tesouracurva653.jpg  \n",
      "  inflating: /content/temp/data_preprocessed_step2/train/images/tesouracurva671.jpg  \n",
      "  inflating: /content/temp/data_preprocessed_step2/train/images/tesouracurva69.jpg  \n",
      "  inflating: /content/temp/data_preprocessed_step2/train/images/tesouracurva692.jpg  \n",
      "  inflating: /content/temp/data_preprocessed_step2/train/images/tesouracurva723.jpg  \n",
      "  inflating: /content/temp/data_preprocessed_step2/train/images/tesouracurva724.jpg  \n",
      "  inflating: /content/temp/data_preprocessed_step2/train/images/tesouracurva725.jpg  \n",
      "  inflating: /content/temp/data_preprocessed_step2/train/images/tesouracurva771.jpg  \n",
      "  inflating: /content/temp/data_preprocessed_step2/train/images/tesouracurva773.jpg  \n",
      "  inflating: /content/temp/data_preprocessed_step2/train/images/tesouracurva777.jpg  \n",
      "  inflating: /content/temp/data_preprocessed_step2/train/images/tesouracurva780.jpg  \n",
      "  inflating: /content/temp/data_preprocessed_step2/train/images/tesouracurva782.jpg  \n",
      "  inflating: /content/temp/data_preprocessed_step2/train/images/tesouracurva92.jpg  \n",
      "  inflating: /content/temp/data_preprocessed_step2/train/images/tesouracurva96.jpg  \n",
      "  inflating: /content/temp/data_preprocessed_step2/train/images/tesourareta109.jpg  \n",
      "  inflating: /content/temp/data_preprocessed_step2/train/images/tesourareta126.jpg  \n",
      "  inflating: /content/temp/data_preprocessed_step2/train/images/tesourareta127.jpg  \n",
      "  inflating: /content/temp/data_preprocessed_step2/train/images/tesourareta143.jpg  \n",
      "  inflating: /content/temp/data_preprocessed_step2/train/images/tesourareta150.jpg  \n",
      "  inflating: /content/temp/data_preprocessed_step2/train/images/tesourareta16.jpg  \n",
      "  inflating: /content/temp/data_preprocessed_step2/train/images/tesourareta170.jpg  \n",
      "  inflating: /content/temp/data_preprocessed_step2/train/images/tesourareta181.jpg  \n",
      "  inflating: /content/temp/data_preprocessed_step2/train/images/tesourareta19.jpg  \n",
      "  inflating: /content/temp/data_preprocessed_step2/train/images/tesourareta190.jpg  \n",
      "  inflating: /content/temp/data_preprocessed_step2/train/images/tesourareta198.jpg  \n",
      "  inflating: /content/temp/data_preprocessed_step2/train/images/tesourareta215.jpg  \n",
      "  inflating: /content/temp/data_preprocessed_step2/train/images/tesourareta231.jpg  \n",
      "  inflating: /content/temp/data_preprocessed_step2/train/images/tesourareta232.jpg  \n",
      "  inflating: /content/temp/data_preprocessed_step2/train/images/tesourareta268.jpg  \n",
      "  inflating: /content/temp/data_preprocessed_step2/train/images/tesourareta303.jpg  \n",
      "  inflating: /content/temp/data_preprocessed_step2/train/images/tesourareta31.jpg  \n",
      "  inflating: /content/temp/data_preprocessed_step2/train/images/tesourareta329.jpg  \n",
      "  inflating: /content/temp/data_preprocessed_step2/train/images/tesourareta333.jpg  \n",
      "  inflating: /content/temp/data_preprocessed_step2/train/images/tesourareta342.jpg  \n",
      "  inflating: /content/temp/data_preprocessed_step2/train/images/tesourareta358.jpg  \n",
      "  inflating: /content/temp/data_preprocessed_step2/train/images/tesourareta363.jpg  \n",
      "  inflating: /content/temp/data_preprocessed_step2/train/images/tesourareta39.jpg  \n",
      "  inflating: /content/temp/data_preprocessed_step2/train/images/tesourareta401.jpg  \n",
      "  inflating: /content/temp/data_preprocessed_step2/train/images/tesourareta404.jpg  \n",
      "  inflating: /content/temp/data_preprocessed_step2/train/images/tesourareta412.jpg  \n",
      "  inflating: /content/temp/data_preprocessed_step2/train/images/tesourareta418.jpg  \n",
      "  inflating: /content/temp/data_preprocessed_step2/train/images/tesourareta440.jpg  \n",
      "  inflating: /content/temp/data_preprocessed_step2/train/images/tesourareta447.jpg  \n",
      "  inflating: /content/temp/data_preprocessed_step2/train/images/tesourareta452.jpg  \n",
      "  inflating: /content/temp/data_preprocessed_step2/train/images/tesourareta459.jpg  \n",
      "  inflating: /content/temp/data_preprocessed_step2/train/images/tesourareta46.jpg  \n",
      "  inflating: /content/temp/data_preprocessed_step2/train/images/tesourareta462.jpg  \n",
      "  inflating: /content/temp/data_preprocessed_step2/train/images/tesourareta466.jpg  \n",
      "  inflating: /content/temp/data_preprocessed_step2/train/images/tesourareta481.jpg  \n",
      "  inflating: /content/temp/data_preprocessed_step2/train/images/tesourareta490.jpg  \n",
      "  inflating: /content/temp/data_preprocessed_step2/train/images/tesourareta5.jpg  \n",
      "  inflating: /content/temp/data_preprocessed_step2/train/images/tesourareta514.jpg  \n",
      "  inflating: /content/temp/data_preprocessed_step2/train/images/tesourareta526.jpg  \n",
      "  inflating: /content/temp/data_preprocessed_step2/train/images/tesourareta533.jpg  \n",
      "  inflating: /content/temp/data_preprocessed_step2/train/images/tesourareta545.jpg  \n",
      "  inflating: /content/temp/data_preprocessed_step2/train/images/tesourareta605.jpg  \n",
      "  inflating: /content/temp/data_preprocessed_step2/train/images/tesourareta64.jpg  \n",
      "  inflating: /content/temp/data_preprocessed_step2/train/images/tesourareta646.jpg  \n",
      "  inflating: /content/temp/data_preprocessed_step2/train/images/tesourareta656.jpg  \n",
      "  inflating: /content/temp/data_preprocessed_step2/train/images/tesourareta7.jpg  \n",
      "  inflating: /content/temp/data_preprocessed_step2/train/images/tesourareta70.jpg  \n",
      "  inflating: /content/temp/data_preprocessed_step2/train/images/tesourareta88.jpg  \n",
      "  inflating: /content/temp/data_preprocessed_step2/train/images/tesourareta9.jpg  \n",
      "  inflating: /content/temp/data_preprocessed_step2/train/images/tesourareta93.jpg  \n",
      "   creating: /content/temp/data_preprocessed_step2/train/labels/\n",
      "  inflating: /content/temp/data_preprocessed_step2/train/labels/bisturi10.txt  \n",
      "  inflating: /content/temp/data_preprocessed_step2/train/labels/bisturi115.txt  \n",
      "  inflating: /content/temp/data_preprocessed_step2/train/labels/bisturi122.txt  \n",
      "  inflating: /content/temp/data_preprocessed_step2/train/labels/bisturi134.txt  \n",
      "  inflating: /content/temp/data_preprocessed_step2/train/labels/bisturi174.txt  \n",
      "  inflating: /content/temp/data_preprocessed_step2/train/labels/bisturi18.txt  \n",
      "  inflating: /content/temp/data_preprocessed_step2/train/labels/bisturi181.txt  \n",
      "  inflating: /content/temp/data_preprocessed_step2/train/labels/bisturi193.txt  \n",
      "  inflating: /content/temp/data_preprocessed_step2/train/labels/bisturi195.txt  \n",
      "  inflating: /content/temp/data_preprocessed_step2/train/labels/bisturi197.txt  \n",
      "  inflating: /content/temp/data_preprocessed_step2/train/labels/bisturi199.txt  \n",
      "  inflating: /content/temp/data_preprocessed_step2/train/labels/bisturi207.txt  \n",
      "  inflating: /content/temp/data_preprocessed_step2/train/labels/bisturi210.txt  \n",
      "  inflating: /content/temp/data_preprocessed_step2/train/labels/bisturi219.txt  \n",
      "  inflating: /content/temp/data_preprocessed_step2/train/labels/bisturi259.txt  \n",
      "  inflating: /content/temp/data_preprocessed_step2/train/labels/bisturi261.txt  \n",
      "  inflating: /content/temp/data_preprocessed_step2/train/labels/bisturi269.txt  \n",
      "  inflating: /content/temp/data_preprocessed_step2/train/labels/bisturi273.txt  \n",
      "  inflating: /content/temp/data_preprocessed_step2/train/labels/bisturi28.txt  \n",
      "  inflating: /content/temp/data_preprocessed_step2/train/labels/bisturi283.txt  \n",
      "  inflating: /content/temp/data_preprocessed_step2/train/labels/bisturi333.txt  \n",
      "  inflating: /content/temp/data_preprocessed_step2/train/labels/bisturi356.txt  \n",
      "  inflating: /content/temp/data_preprocessed_step2/train/labels/bisturi391.txt  \n",
      "  inflating: /content/temp/data_preprocessed_step2/train/labels/bisturi41.txt  \n",
      "  inflating: /content/temp/data_preprocessed_step2/train/labels/bisturi411.txt  \n",
      "  inflating: /content/temp/data_preprocessed_step2/train/labels/bisturi412.txt  \n",
      "  inflating: /content/temp/data_preprocessed_step2/train/labels/bisturi42.txt  \n",
      "  inflating: /content/temp/data_preprocessed_step2/train/labels/bisturi425.txt  \n",
      "  inflating: /content/temp/data_preprocessed_step2/train/labels/bisturi43.txt  \n",
      "  inflating: /content/temp/data_preprocessed_step2/train/labels/bisturi471.txt  \n",
      "  inflating: /content/temp/data_preprocessed_step2/train/labels/bisturi472.txt  \n",
      "  inflating: /content/temp/data_preprocessed_step2/train/labels/bisturi473.txt  \n",
      "  inflating: /content/temp/data_preprocessed_step2/train/labels/bisturi479.txt  \n",
      "  inflating: /content/temp/data_preprocessed_step2/train/labels/bisturi493.txt  \n",
      "  inflating: /content/temp/data_preprocessed_step2/train/labels/bisturi513.txt  \n",
      "  inflating: /content/temp/data_preprocessed_step2/train/labels/bisturi514.txt  \n",
      "  inflating: /content/temp/data_preprocessed_step2/train/labels/bisturi56.txt  \n",
      "  inflating: /content/temp/data_preprocessed_step2/train/labels/bisturi568.txt  \n",
      "  inflating: /content/temp/data_preprocessed_step2/train/labels/bisturi573.txt  \n",
      "  inflating: /content/temp/data_preprocessed_step2/train/labels/bisturi582.txt  \n",
      "  inflating: /content/temp/data_preprocessed_step2/train/labels/bisturi588.txt  \n",
      "  inflating: /content/temp/data_preprocessed_step2/train/labels/bisturi615.txt  \n",
      "  inflating: /content/temp/data_preprocessed_step2/train/labels/bisturi619.txt  \n",
      "  inflating: /content/temp/data_preprocessed_step2/train/labels/bisturi639.txt  \n",
      "  inflating: /content/temp/data_preprocessed_step2/train/labels/bisturi656.txt  \n",
      "  inflating: /content/temp/data_preprocessed_step2/train/labels/bisturi659.txt  \n",
      "  inflating: /content/temp/data_preprocessed_step2/train/labels/bisturi672.txt  \n",
      "  inflating: /content/temp/data_preprocessed_step2/train/labels/bisturi675.txt  \n",
      "  inflating: /content/temp/data_preprocessed_step2/train/labels/bisturi676.txt  \n",
      "  inflating: /content/temp/data_preprocessed_step2/train/labels/bisturi689.txt  \n",
      "  inflating: /content/temp/data_preprocessed_step2/train/labels/bisturi692.txt  \n",
      "  inflating: /content/temp/data_preprocessed_step2/train/labels/bisturi698.txt  \n",
      "  inflating: /content/temp/data_preprocessed_step2/train/labels/bisturi703.txt  \n",
      "  inflating: /content/temp/data_preprocessed_step2/train/labels/bisturi706.txt  \n",
      "  inflating: /content/temp/data_preprocessed_step2/train/labels/bisturi709.txt  \n",
      "  inflating: /content/temp/data_preprocessed_step2/train/labels/bisturi710.txt  \n",
      "  inflating: /content/temp/data_preprocessed_step2/train/labels/bisturi712.txt  \n",
      "  inflating: /content/temp/data_preprocessed_step2/train/labels/bisturi729.txt  \n",
      "  inflating: /content/temp/data_preprocessed_step2/train/labels/bisturi739.txt  \n",
      "  inflating: /content/temp/data_preprocessed_step2/train/labels/bisturi88.txt  \n",
      "  inflating: /content/temp/data_preprocessed_step2/train/labels/bisturi92.txt  \n",
      "  inflating: /content/temp/data_preprocessed_step2/train/labels/bisturi98.txt  \n",
      "  inflating: /content/temp/data_preprocessed_step2/train/labels/pinca113.txt  \n",
      "  inflating: /content/temp/data_preprocessed_step2/train/labels/pinca156.txt  \n",
      "  inflating: /content/temp/data_preprocessed_step2/train/labels/pinca167.txt  \n",
      "  inflating: /content/temp/data_preprocessed_step2/train/labels/pinca17.txt  \n",
      "  inflating: /content/temp/data_preprocessed_step2/train/labels/pinca178.txt  \n",
      "  inflating: /content/temp/data_preprocessed_step2/train/labels/pinca179.txt  \n",
      "  inflating: /content/temp/data_preprocessed_step2/train/labels/pinca19.txt  \n",
      "  inflating: /content/temp/data_preprocessed_step2/train/labels/pinca192.txt  \n",
      "  inflating: /content/temp/data_preprocessed_step2/train/labels/pinca193.txt  \n",
      "  inflating: /content/temp/data_preprocessed_step2/train/labels/pinca213.txt  \n",
      "  inflating: /content/temp/data_preprocessed_step2/train/labels/pinca214.txt  \n",
      "  inflating: /content/temp/data_preprocessed_step2/train/labels/pinca230.txt  \n",
      "  inflating: /content/temp/data_preprocessed_step2/train/labels/pinca24.txt  \n",
      "  inflating: /content/temp/data_preprocessed_step2/train/labels/pinca248.txt  \n",
      "  inflating: /content/temp/data_preprocessed_step2/train/labels/pinca288.txt  \n",
      "  inflating: /content/temp/data_preprocessed_step2/train/labels/pinca308.txt  \n",
      "  inflating: /content/temp/data_preprocessed_step2/train/labels/pinca329.txt  \n",
      "  inflating: /content/temp/data_preprocessed_step2/train/labels/pinca341.txt  \n",
      "  inflating: /content/temp/data_preprocessed_step2/train/labels/pinca346.txt  \n",
      "  inflating: /content/temp/data_preprocessed_step2/train/labels/pinca356.txt  \n",
      "  inflating: /content/temp/data_preprocessed_step2/train/labels/pinca36.txt  \n",
      "  inflating: /content/temp/data_preprocessed_step2/train/labels/pinca365.txt  \n",
      "  inflating: /content/temp/data_preprocessed_step2/train/labels/pinca366.txt  \n",
      "  inflating: /content/temp/data_preprocessed_step2/train/labels/pinca374.txt  \n",
      "  inflating: /content/temp/data_preprocessed_step2/train/labels/pinca397.txt  \n",
      "  inflating: /content/temp/data_preprocessed_step2/train/labels/pinca407.txt  \n",
      "  inflating: /content/temp/data_preprocessed_step2/train/labels/pinca430.txt  \n",
      "  inflating: /content/temp/data_preprocessed_step2/train/labels/pinca449.txt  \n",
      "  inflating: /content/temp/data_preprocessed_step2/train/labels/pinca450.txt  \n",
      "  inflating: /content/temp/data_preprocessed_step2/train/labels/pinca459.txt  \n",
      "  inflating: /content/temp/data_preprocessed_step2/train/labels/pinca47.txt  \n",
      "  inflating: /content/temp/data_preprocessed_step2/train/labels/pinca482.txt  \n",
      "  inflating: /content/temp/data_preprocessed_step2/train/labels/pinca487.txt  \n",
      "  inflating: /content/temp/data_preprocessed_step2/train/labels/pinca497.txt  \n",
      "  inflating: /content/temp/data_preprocessed_step2/train/labels/pinca499.txt  \n",
      "  inflating: /content/temp/data_preprocessed_step2/train/labels/pinca513.txt  \n",
      "  inflating: /content/temp/data_preprocessed_step2/train/labels/pinca514.txt  \n",
      "  inflating: /content/temp/data_preprocessed_step2/train/labels/pinca515.txt  \n",
      "  inflating: /content/temp/data_preprocessed_step2/train/labels/pinca516.txt  \n",
      "  inflating: /content/temp/data_preprocessed_step2/train/labels/pinca536.txt  \n",
      "  inflating: /content/temp/data_preprocessed_step2/train/labels/pinca537.txt  \n",
      "  inflating: /content/temp/data_preprocessed_step2/train/labels/pinca539.txt  \n",
      "  inflating: /content/temp/data_preprocessed_step2/train/labels/pinca543.txt  \n",
      "  inflating: /content/temp/data_preprocessed_step2/train/labels/pinca554.txt  \n",
      "  inflating: /content/temp/data_preprocessed_step2/train/labels/pinca588.txt  \n",
      "  inflating: /content/temp/data_preprocessed_step2/train/labels/pinca597.txt  \n",
      "  inflating: /content/temp/data_preprocessed_step2/train/labels/pinca638.txt  \n",
      "  inflating: /content/temp/data_preprocessed_step2/train/labels/pinca639.txt  \n",
      "  inflating: /content/temp/data_preprocessed_step2/train/labels/pinca644.txt  \n",
      "  inflating: /content/temp/data_preprocessed_step2/train/labels/pinca648.txt  \n",
      "  inflating: /content/temp/data_preprocessed_step2/train/labels/pinca657.txt  \n",
      "  inflating: /content/temp/data_preprocessed_step2/train/labels/pinca66.txt  \n",
      "  inflating: /content/temp/data_preprocessed_step2/train/labels/pinca679.txt  \n",
      "  inflating: /content/temp/data_preprocessed_step2/train/labels/pinca80.txt  \n",
      "  inflating: /content/temp/data_preprocessed_step2/train/labels/pinca82.txt  \n",
      "  inflating: /content/temp/data_preprocessed_step2/train/labels/pinca85.txt  \n",
      "  inflating: /content/temp/data_preprocessed_step2/train/labels/pinca95.txt  \n",
      "  inflating: /content/temp/data_preprocessed_step2/train/labels/separado10.txt  \n",
      "  inflating: /content/temp/data_preprocessed_step2/train/labels/separado12.txt  \n",
      "  inflating: /content/temp/data_preprocessed_step2/train/labels/separado17.txt  \n",
      "  inflating: /content/temp/data_preprocessed_step2/train/labels/separado42.txt  \n",
      "  inflating: /content/temp/data_preprocessed_step2/train/labels/separado62.txt  \n",
      "  inflating: /content/temp/data_preprocessed_step2/train/labels/separado76.txt  \n",
      "  inflating: /content/temp/data_preprocessed_step2/train/labels/separado79.txt  \n",
      "  inflating: /content/temp/data_preprocessed_step2/train/labels/separado82.txt  \n",
      "  inflating: /content/temp/data_preprocessed_step2/train/labels/separado86.txt  \n",
      "  inflating: /content/temp/data_preprocessed_step2/train/labels/separado94.txt  \n",
      "  inflating: /content/temp/data_preprocessed_step2/train/labels/tesouracurva10.txt  \n",
      "  inflating: /content/temp/data_preprocessed_step2/train/labels/tesouracurva110.txt  \n",
      "  inflating: /content/temp/data_preprocessed_step2/train/labels/tesouracurva119.txt  \n",
      "  inflating: /content/temp/data_preprocessed_step2/train/labels/tesouracurva120.txt  \n",
      "  inflating: /content/temp/data_preprocessed_step2/train/labels/tesouracurva128.txt  \n",
      "  inflating: /content/temp/data_preprocessed_step2/train/labels/tesouracurva132.txt  \n",
      "  inflating: /content/temp/data_preprocessed_step2/train/labels/tesouracurva188.txt  \n",
      "  inflating: /content/temp/data_preprocessed_step2/train/labels/tesouracurva225.txt  \n",
      "  inflating: /content/temp/data_preprocessed_step2/train/labels/tesouracurva227.txt  \n",
      "  inflating: /content/temp/data_preprocessed_step2/train/labels/tesouracurva250.txt  \n",
      "  inflating: /content/temp/data_preprocessed_step2/train/labels/tesouracurva262.txt  \n",
      "  inflating: /content/temp/data_preprocessed_step2/train/labels/tesouracurva263.txt  \n",
      "  inflating: /content/temp/data_preprocessed_step2/train/labels/tesouracurva279.txt  \n",
      "  inflating: /content/temp/data_preprocessed_step2/train/labels/tesouracurva287.txt  \n",
      "  inflating: /content/temp/data_preprocessed_step2/train/labels/tesouracurva290.txt  \n",
      "  inflating: /content/temp/data_preprocessed_step2/train/labels/tesouracurva317.txt  \n",
      "  inflating: /content/temp/data_preprocessed_step2/train/labels/tesouracurva320.txt  \n",
      "  inflating: /content/temp/data_preprocessed_step2/train/labels/tesouracurva333.txt  \n",
      "  inflating: /content/temp/data_preprocessed_step2/train/labels/tesouracurva35.txt  \n",
      "  inflating: /content/temp/data_preprocessed_step2/train/labels/tesouracurva359.txt  \n",
      "  inflating: /content/temp/data_preprocessed_step2/train/labels/tesouracurva360.txt  \n",
      "  inflating: /content/temp/data_preprocessed_step2/train/labels/tesouracurva392.txt  \n",
      "  inflating: /content/temp/data_preprocessed_step2/train/labels/tesouracurva408.txt  \n",
      "  inflating: /content/temp/data_preprocessed_step2/train/labels/tesouracurva409.txt  \n",
      "  inflating: /content/temp/data_preprocessed_step2/train/labels/tesouracurva441.txt  \n",
      "  inflating: /content/temp/data_preprocessed_step2/train/labels/tesouracurva449.txt  \n",
      "  inflating: /content/temp/data_preprocessed_step2/train/labels/tesouracurva463.txt  \n",
      "  inflating: /content/temp/data_preprocessed_step2/train/labels/tesouracurva464.txt  \n",
      "  inflating: /content/temp/data_preprocessed_step2/train/labels/tesouracurva465.txt  \n",
      "  inflating: /content/temp/data_preprocessed_step2/train/labels/tesouracurva470.txt  \n",
      "  inflating: /content/temp/data_preprocessed_step2/train/labels/tesouracurva471.txt  \n",
      "  inflating: /content/temp/data_preprocessed_step2/train/labels/tesouracurva478.txt  \n",
      "  inflating: /content/temp/data_preprocessed_step2/train/labels/tesouracurva481.txt  \n",
      "  inflating: /content/temp/data_preprocessed_step2/train/labels/tesouracurva487.txt  \n",
      "  inflating: /content/temp/data_preprocessed_step2/train/labels/tesouracurva492.txt  \n",
      "  inflating: /content/temp/data_preprocessed_step2/train/labels/tesouracurva512.txt  \n",
      "  inflating: /content/temp/data_preprocessed_step2/train/labels/tesouracurva517.txt  \n",
      "  inflating: /content/temp/data_preprocessed_step2/train/labels/tesouracurva521.txt  \n",
      "  inflating: /content/temp/data_preprocessed_step2/train/labels/tesouracurva522.txt  \n",
      "  inflating: /content/temp/data_preprocessed_step2/train/labels/tesouracurva543.txt  \n",
      "  inflating: /content/temp/data_preprocessed_step2/train/labels/tesouracurva554.txt  \n",
      "  inflating: /content/temp/data_preprocessed_step2/train/labels/tesouracurva568.txt  \n",
      "  inflating: /content/temp/data_preprocessed_step2/train/labels/tesouracurva587.txt  \n",
      "  inflating: /content/temp/data_preprocessed_step2/train/labels/tesouracurva594.txt  \n",
      "  inflating: /content/temp/data_preprocessed_step2/train/labels/tesouracurva633.txt  \n",
      "  inflating: /content/temp/data_preprocessed_step2/train/labels/tesouracurva638.txt  \n",
      "  inflating: /content/temp/data_preprocessed_step2/train/labels/tesouracurva642.txt  \n",
      "  inflating: /content/temp/data_preprocessed_step2/train/labels/tesouracurva653.txt  \n",
      "  inflating: /content/temp/data_preprocessed_step2/train/labels/tesouracurva671.txt  \n",
      "  inflating: /content/temp/data_preprocessed_step2/train/labels/tesouracurva69.txt  \n",
      "  inflating: /content/temp/data_preprocessed_step2/train/labels/tesouracurva692.txt  \n",
      "  inflating: /content/temp/data_preprocessed_step2/train/labels/tesouracurva723.txt  \n",
      "  inflating: /content/temp/data_preprocessed_step2/train/labels/tesouracurva724.txt  \n",
      "  inflating: /content/temp/data_preprocessed_step2/train/labels/tesouracurva725.txt  \n",
      "  inflating: /content/temp/data_preprocessed_step2/train/labels/tesouracurva771.txt  \n",
      "  inflating: /content/temp/data_preprocessed_step2/train/labels/tesouracurva773.txt  \n",
      "  inflating: /content/temp/data_preprocessed_step2/train/labels/tesouracurva777.txt  \n",
      "  inflating: /content/temp/data_preprocessed_step2/train/labels/tesouracurva780.txt  \n",
      "  inflating: /content/temp/data_preprocessed_step2/train/labels/tesouracurva782.txt  \n",
      "  inflating: /content/temp/data_preprocessed_step2/train/labels/tesouracurva92.txt  \n",
      "  inflating: /content/temp/data_preprocessed_step2/train/labels/tesouracurva96.txt  \n",
      "  inflating: /content/temp/data_preprocessed_step2/train/labels/tesourareta109.txt  \n",
      "  inflating: /content/temp/data_preprocessed_step2/train/labels/tesourareta126.txt  \n",
      "  inflating: /content/temp/data_preprocessed_step2/train/labels/tesourareta127.txt  \n",
      "  inflating: /content/temp/data_preprocessed_step2/train/labels/tesourareta143.txt  \n",
      "  inflating: /content/temp/data_preprocessed_step2/train/labels/tesourareta150.txt  \n",
      "  inflating: /content/temp/data_preprocessed_step2/train/labels/tesourareta16.txt  \n",
      "  inflating: /content/temp/data_preprocessed_step2/train/labels/tesourareta170.txt  \n",
      "  inflating: /content/temp/data_preprocessed_step2/train/labels/tesourareta181.txt  \n",
      "  inflating: /content/temp/data_preprocessed_step2/train/labels/tesourareta19.txt  \n",
      "  inflating: /content/temp/data_preprocessed_step2/train/labels/tesourareta190.txt  \n",
      "  inflating: /content/temp/data_preprocessed_step2/train/labels/tesourareta198.txt  \n",
      "  inflating: /content/temp/data_preprocessed_step2/train/labels/tesourareta215.txt  \n",
      "  inflating: /content/temp/data_preprocessed_step2/train/labels/tesourareta231.txt  \n",
      "  inflating: /content/temp/data_preprocessed_step2/train/labels/tesourareta232.txt  \n",
      "  inflating: /content/temp/data_preprocessed_step2/train/labels/tesourareta268.txt  \n",
      "  inflating: /content/temp/data_preprocessed_step2/train/labels/tesourareta303.txt  \n",
      "  inflating: /content/temp/data_preprocessed_step2/train/labels/tesourareta31.txt  \n",
      "  inflating: /content/temp/data_preprocessed_step2/train/labels/tesourareta329.txt  \n",
      "  inflating: /content/temp/data_preprocessed_step2/train/labels/tesourareta333.txt  \n",
      "  inflating: /content/temp/data_preprocessed_step2/train/labels/tesourareta342.txt  \n",
      "  inflating: /content/temp/data_preprocessed_step2/train/labels/tesourareta358.txt  \n",
      "  inflating: /content/temp/data_preprocessed_step2/train/labels/tesourareta363.txt  \n",
      "  inflating: /content/temp/data_preprocessed_step2/train/labels/tesourareta39.txt  \n",
      "  inflating: /content/temp/data_preprocessed_step2/train/labels/tesourareta401.txt  \n",
      "  inflating: /content/temp/data_preprocessed_step2/train/labels/tesourareta404.txt  \n",
      "  inflating: /content/temp/data_preprocessed_step2/train/labels/tesourareta412.txt  \n",
      "  inflating: /content/temp/data_preprocessed_step2/train/labels/tesourareta418.txt  \n",
      "  inflating: /content/temp/data_preprocessed_step2/train/labels/tesourareta440.txt  \n",
      "  inflating: /content/temp/data_preprocessed_step2/train/labels/tesourareta447.txt  \n",
      "  inflating: /content/temp/data_preprocessed_step2/train/labels/tesourareta452.txt  \n",
      "  inflating: /content/temp/data_preprocessed_step2/train/labels/tesourareta459.txt  \n",
      "  inflating: /content/temp/data_preprocessed_step2/train/labels/tesourareta46.txt  \n",
      "  inflating: /content/temp/data_preprocessed_step2/train/labels/tesourareta462.txt  \n",
      "  inflating: /content/temp/data_preprocessed_step2/train/labels/tesourareta466.txt  \n",
      "  inflating: /content/temp/data_preprocessed_step2/train/labels/tesourareta481.txt  \n",
      "  inflating: /content/temp/data_preprocessed_step2/train/labels/tesourareta490.txt  \n",
      "  inflating: /content/temp/data_preprocessed_step2/train/labels/tesourareta5.txt  \n",
      "  inflating: /content/temp/data_preprocessed_step2/train/labels/tesourareta514.txt  \n",
      "  inflating: /content/temp/data_preprocessed_step2/train/labels/tesourareta526.txt  \n",
      "  inflating: /content/temp/data_preprocessed_step2/train/labels/tesourareta533.txt  \n",
      "  inflating: /content/temp/data_preprocessed_step2/train/labels/tesourareta545.txt  \n",
      "  inflating: /content/temp/data_preprocessed_step2/train/labels/tesourareta605.txt  \n",
      "  inflating: /content/temp/data_preprocessed_step2/train/labels/tesourareta64.txt  \n",
      "  inflating: /content/temp/data_preprocessed_step2/train/labels/tesourareta646.txt  \n",
      "  inflating: /content/temp/data_preprocessed_step2/train/labels/tesourareta656.txt  \n",
      "  inflating: /content/temp/data_preprocessed_step2/train/labels/tesourareta7.txt  \n",
      "  inflating: /content/temp/data_preprocessed_step2/train/labels/tesourareta70.txt  \n",
      "  inflating: /content/temp/data_preprocessed_step2/train/labels/tesourareta88.txt  \n",
      "  inflating: /content/temp/data_preprocessed_step2/train/labels/tesourareta9.txt  \n",
      "  inflating: /content/temp/data_preprocessed_step2/train/labels/tesourareta93.txt  \n",
      "  inflating: /content/temp/data_preprocessed_step2/train/labels.cache  \n",
      "   creating: /content/temp/data_preprocessed_step2/valid/\n",
      "   creating: /content/temp/data_preprocessed_step2/valid/images/\n",
      "  inflating: /content/temp/data_preprocessed_step2/valid/images/bisturi462.jpg  \n",
      "  inflating: /content/temp/data_preprocessed_step2/valid/images/bisturi533.jpg  \n",
      "  inflating: /content/temp/data_preprocessed_step2/valid/images/bisturi546.jpg  \n",
      "  inflating: /content/temp/data_preprocessed_step2/valid/images/bisturi574.jpg  \n",
      "  inflating: /content/temp/data_preprocessed_step2/valid/images/bisturi641.jpg  \n",
      "  inflating: /content/temp/data_preprocessed_step2/valid/images/bisturi650.jpg  \n",
      "  inflating: /content/temp/data_preprocessed_step2/valid/images/bisturi700.jpg  \n",
      "  inflating: /content/temp/data_preprocessed_step2/valid/images/bisturi728.jpg  \n",
      "  inflating: /content/temp/data_preprocessed_step2/valid/images/bisturi86.jpg  \n",
      "  inflating: /content/temp/data_preprocessed_step2/valid/images/pinca103.jpg  \n",
      "  inflating: /content/temp/data_preprocessed_step2/valid/images/pinca129.jpg  \n",
      "  inflating: /content/temp/data_preprocessed_step2/valid/images/pinca131.jpg  \n",
      "  inflating: /content/temp/data_preprocessed_step2/valid/images/pinca212.jpg  \n",
      "  inflating: /content/temp/data_preprocessed_step2/valid/images/pinca220.jpg  \n",
      "  inflating: /content/temp/data_preprocessed_step2/valid/images/pinca26.jpg  \n",
      "  inflating: /content/temp/data_preprocessed_step2/valid/images/pinca263.jpg  \n",
      "  inflating: /content/temp/data_preprocessed_step2/valid/images/pinca32.jpg  \n",
      "  inflating: /content/temp/data_preprocessed_step2/valid/images/pinca350.jpg  \n",
      "  inflating: /content/temp/data_preprocessed_step2/valid/images/pinca360.jpg  \n",
      "  inflating: /content/temp/data_preprocessed_step2/valid/images/pinca379.jpg  \n",
      "  inflating: /content/temp/data_preprocessed_step2/valid/images/pinca39.jpg  \n",
      "  inflating: /content/temp/data_preprocessed_step2/valid/images/pinca510.jpg  \n",
      "  inflating: /content/temp/data_preprocessed_step2/valid/images/pinca533.jpg  \n",
      "  inflating: /content/temp/data_preprocessed_step2/valid/images/pinca568.jpg  \n",
      "  inflating: /content/temp/data_preprocessed_step2/valid/images/pinca636.jpg  \n",
      "  inflating: /content/temp/data_preprocessed_step2/valid/images/pinca684.jpg  \n",
      "  inflating: /content/temp/data_preprocessed_step2/valid/images/pinca81.jpg  \n",
      "  inflating: /content/temp/data_preprocessed_step2/valid/images/pinca89.jpg  \n",
      "  inflating: /content/temp/data_preprocessed_step2/valid/images/separado65.jpg  \n",
      "  inflating: /content/temp/data_preprocessed_step2/valid/images/tesouracurva139.jpg  \n",
      "  inflating: /content/temp/data_preprocessed_step2/valid/images/tesouracurva226.jpg  \n",
      "  inflating: /content/temp/data_preprocessed_step2/valid/images/tesouracurva245.jpg  \n",
      "  inflating: /content/temp/data_preprocessed_step2/valid/images/tesouracurva284.jpg  \n",
      "  inflating: /content/temp/data_preprocessed_step2/valid/images/tesouracurva372.jpg  \n",
      "  inflating: /content/temp/data_preprocessed_step2/valid/images/tesouracurva51.jpg  \n",
      "  inflating: /content/temp/data_preprocessed_step2/valid/images/tesouracurva515.jpg  \n",
      "  inflating: /content/temp/data_preprocessed_step2/valid/images/tesouracurva542.jpg  \n",
      "  inflating: /content/temp/data_preprocessed_step2/valid/images/tesouracurva566.jpg  \n",
      "  inflating: /content/temp/data_preprocessed_step2/valid/images/tesouracurva646.jpg  \n",
      "  inflating: /content/temp/data_preprocessed_step2/valid/images/tesouracurva66.jpg  \n",
      "  inflating: /content/temp/data_preprocessed_step2/valid/images/tesouracurva677.jpg  \n",
      "  inflating: /content/temp/data_preprocessed_step2/valid/images/tesouracurva781.jpg  \n",
      "  inflating: /content/temp/data_preprocessed_step2/valid/images/tesouracurva807.jpg  \n",
      "  inflating: /content/temp/data_preprocessed_step2/valid/images/tesouracurva94.jpg  \n",
      "  inflating: /content/temp/data_preprocessed_step2/valid/images/tesourareta184.jpg  \n",
      "  inflating: /content/temp/data_preprocessed_step2/valid/images/tesourareta218.jpg  \n",
      "  inflating: /content/temp/data_preprocessed_step2/valid/images/tesourareta230.jpg  \n",
      "  inflating: /content/temp/data_preprocessed_step2/valid/images/tesourareta243.jpg  \n",
      "  inflating: /content/temp/data_preprocessed_step2/valid/images/tesourareta260.jpg  \n",
      "  inflating: /content/temp/data_preprocessed_step2/valid/images/tesourareta265.jpg  \n",
      "  inflating: /content/temp/data_preprocessed_step2/valid/images/tesourareta341.jpg  \n",
      "  inflating: /content/temp/data_preprocessed_step2/valid/images/tesourareta354.jpg  \n",
      "  inflating: /content/temp/data_preprocessed_step2/valid/images/tesourareta40.jpg  \n",
      "  inflating: /content/temp/data_preprocessed_step2/valid/images/tesourareta42.jpg  \n",
      "  inflating: /content/temp/data_preprocessed_step2/valid/images/tesourareta454.jpg  \n",
      "  inflating: /content/temp/data_preprocessed_step2/valid/images/tesourareta496.jpg  \n",
      "  inflating: /content/temp/data_preprocessed_step2/valid/images/tesourareta505.jpg  \n",
      "  inflating: /content/temp/data_preprocessed_step2/valid/images/tesourareta573.jpg  \n",
      "  inflating: /content/temp/data_preprocessed_step2/valid/images/tesourareta62.jpg  \n",
      "  inflating: /content/temp/data_preprocessed_step2/valid/images/tesourareta97.jpg  \n",
      "   creating: /content/temp/data_preprocessed_step2/valid/labels/\n",
      "  inflating: /content/temp/data_preprocessed_step2/valid/labels/bisturi462.txt  \n",
      "  inflating: /content/temp/data_preprocessed_step2/valid/labels/bisturi533.txt  \n",
      "  inflating: /content/temp/data_preprocessed_step2/valid/labels/bisturi546.txt  \n",
      "  inflating: /content/temp/data_preprocessed_step2/valid/labels/bisturi574.txt  \n",
      "  inflating: /content/temp/data_preprocessed_step2/valid/labels/bisturi641.txt  \n",
      "  inflating: /content/temp/data_preprocessed_step2/valid/labels/bisturi650.txt  \n",
      "  inflating: /content/temp/data_preprocessed_step2/valid/labels/bisturi700.txt  \n",
      "  inflating: /content/temp/data_preprocessed_step2/valid/labels/bisturi728.txt  \n",
      "  inflating: /content/temp/data_preprocessed_step2/valid/labels/bisturi86.txt  \n",
      "  inflating: /content/temp/data_preprocessed_step2/valid/labels/pinca103.txt  \n",
      "  inflating: /content/temp/data_preprocessed_step2/valid/labels/pinca129.txt  \n",
      "  inflating: /content/temp/data_preprocessed_step2/valid/labels/pinca131.txt  \n",
      "  inflating: /content/temp/data_preprocessed_step2/valid/labels/pinca212.txt  \n",
      "  inflating: /content/temp/data_preprocessed_step2/valid/labels/pinca220.txt  \n",
      "  inflating: /content/temp/data_preprocessed_step2/valid/labels/pinca26.txt  \n",
      "  inflating: /content/temp/data_preprocessed_step2/valid/labels/pinca263.txt  \n",
      "  inflating: /content/temp/data_preprocessed_step2/valid/labels/pinca32.txt  \n",
      "  inflating: /content/temp/data_preprocessed_step2/valid/labels/pinca350.txt  \n",
      "  inflating: /content/temp/data_preprocessed_step2/valid/labels/pinca360.txt  \n",
      "  inflating: /content/temp/data_preprocessed_step2/valid/labels/pinca379.txt  \n",
      "  inflating: /content/temp/data_preprocessed_step2/valid/labels/pinca39.txt  \n",
      "  inflating: /content/temp/data_preprocessed_step2/valid/labels/pinca510.txt  \n",
      "  inflating: /content/temp/data_preprocessed_step2/valid/labels/pinca533.txt  \n",
      "  inflating: /content/temp/data_preprocessed_step2/valid/labels/pinca568.txt  \n",
      "  inflating: /content/temp/data_preprocessed_step2/valid/labels/pinca636.txt  \n",
      "  inflating: /content/temp/data_preprocessed_step2/valid/labels/pinca684.txt  \n",
      "  inflating: /content/temp/data_preprocessed_step2/valid/labels/pinca81.txt  \n",
      "  inflating: /content/temp/data_preprocessed_step2/valid/labels/pinca89.txt  \n",
      "  inflating: /content/temp/data_preprocessed_step2/valid/labels/separado65.txt  \n",
      "  inflating: /content/temp/data_preprocessed_step2/valid/labels/tesouracurva139.txt  \n",
      "  inflating: /content/temp/data_preprocessed_step2/valid/labels/tesouracurva226.txt  \n",
      "  inflating: /content/temp/data_preprocessed_step2/valid/labels/tesouracurva245.txt  \n",
      "  inflating: /content/temp/data_preprocessed_step2/valid/labels/tesouracurva284.txt  \n",
      "  inflating: /content/temp/data_preprocessed_step2/valid/labels/tesouracurva372.txt  \n",
      "  inflating: /content/temp/data_preprocessed_step2/valid/labels/tesouracurva51.txt  \n",
      "  inflating: /content/temp/data_preprocessed_step2/valid/labels/tesouracurva515.txt  \n",
      "  inflating: /content/temp/data_preprocessed_step2/valid/labels/tesouracurva542.txt  \n",
      "  inflating: /content/temp/data_preprocessed_step2/valid/labels/tesouracurva566.txt  \n",
      "  inflating: /content/temp/data_preprocessed_step2/valid/labels/tesouracurva646.txt  \n",
      "  inflating: /content/temp/data_preprocessed_step2/valid/labels/tesouracurva66.txt  \n",
      "  inflating: /content/temp/data_preprocessed_step2/valid/labels/tesouracurva677.txt  \n",
      "  inflating: /content/temp/data_preprocessed_step2/valid/labels/tesouracurva781.txt  \n",
      "  inflating: /content/temp/data_preprocessed_step2/valid/labels/tesouracurva807.txt  \n",
      "  inflating: /content/temp/data_preprocessed_step2/valid/labels/tesouracurva94.txt  \n",
      "  inflating: /content/temp/data_preprocessed_step2/valid/labels/tesourareta184.txt  \n",
      "  inflating: /content/temp/data_preprocessed_step2/valid/labels/tesourareta218.txt  \n",
      "  inflating: /content/temp/data_preprocessed_step2/valid/labels/tesourareta230.txt  \n",
      "  inflating: /content/temp/data_preprocessed_step2/valid/labels/tesourareta243.txt  \n",
      "  inflating: /content/temp/data_preprocessed_step2/valid/labels/tesourareta260.txt  \n",
      "  inflating: /content/temp/data_preprocessed_step2/valid/labels/tesourareta265.txt  \n",
      "  inflating: /content/temp/data_preprocessed_step2/valid/labels/tesourareta341.txt  \n",
      "  inflating: /content/temp/data_preprocessed_step2/valid/labels/tesourareta354.txt  \n",
      "  inflating: /content/temp/data_preprocessed_step2/valid/labels/tesourareta40.txt  \n",
      "  inflating: /content/temp/data_preprocessed_step2/valid/labels/tesourareta42.txt  \n",
      "  inflating: /content/temp/data_preprocessed_step2/valid/labels/tesourareta454.txt  \n",
      "  inflating: /content/temp/data_preprocessed_step2/valid/labels/tesourareta496.txt  \n",
      "  inflating: /content/temp/data_preprocessed_step2/valid/labels/tesourareta505.txt  \n",
      "  inflating: /content/temp/data_preprocessed_step2/valid/labels/tesourareta573.txt  \n",
      "  inflating: /content/temp/data_preprocessed_step2/valid/labels/tesourareta62.txt  \n",
      "  inflating: /content/temp/data_preprocessed_step2/valid/labels/tesourareta97.txt  \n",
      "  inflating: /content/temp/data_preprocessed_step2/valid/labels.cache  \n"
     ]
    }
   ],
   "source": [
    "# !rm -rf /content/temp/data_preprocessed_step2\n",
    "!unzip /content/sample_data/data_preprocessed_step2.zip -d /content/temp"
   ]
  },
  {
   "cell_type": "code",
   "execution_count": null,
   "metadata": {
    "colab": {
     "base_uri": "https://localhost:8080/"
    },
    "id": "FqEHUr1plDZq",
    "outputId": "fc7469be-ed1d-4b2f-bbfc-ac39ab9a3e2c"
   },
   "outputs": [
    {
     "name": "stdout",
     "output_type": "stream",
     "text": [
      "Creating new Ultralytics Settings v0.0.6 file ✅ \n",
      "View Ultralytics Settings with 'yolo settings' or at '/root/.config/Ultralytics/settings.json'\n",
      "Update Settings with 'yolo settings key=value', i.e. 'yolo settings runs_dir=path/to/dir'. For help see https://docs.ultralytics.com/quickstart/#ultralytics-settings.\n",
      "Downloading https://github.com/ultralytics/assets/releases/download/v8.3.0/yolov8n.pt to '/content/temp/models/yolov8n.pt'...\n"
     ]
    },
    {
     "name": "stderr",
     "output_type": "stream",
     "text": [
      "100%|██████████| 6.25M/6.25M [00:00<00:00, 104MB/s]\n"
     ]
    },
    {
     "name": "stdout",
     "output_type": "stream",
     "text": [
      "Ultralytics 8.3.33 🚀 Python-3.10.12 torch-2.5.1+cu121 CUDA:0 (Tesla T4, 15102MiB)\n",
      "\u001b[34m\u001b[1mengine/trainer: \u001b[0mtask=detect, mode=train, model=/content/temp/models/yolov8n.pt, data=/content/temp/data_preprocessed_step2/coco8.yaml, epochs=15, time=None, patience=100, batch=16, imgsz=640, save=True, save_period=-1, cache=False, device=None, workers=8, project=None, name=train, exist_ok=False, pretrained=True, optimizer=auto, verbose=True, seed=0, deterministic=True, single_cls=False, rect=False, cos_lr=False, close_mosaic=10, resume=False, amp=True, fraction=1.0, profile=False, freeze=None, multi_scale=False, overlap_mask=True, mask_ratio=4, dropout=0.0, val=True, split=val, save_json=False, save_hybrid=False, conf=None, iou=0.7, max_det=300, half=False, dnn=False, plots=True, source=None, vid_stride=1, stream_buffer=False, visualize=False, augment=False, agnostic_nms=False, classes=None, retina_masks=False, embed=None, show=False, save_frames=False, save_txt=False, save_conf=False, save_crop=False, show_labels=True, show_conf=True, show_boxes=True, line_width=None, format=torchscript, keras=False, optimize=False, int8=False, dynamic=False, simplify=True, opset=None, workspace=4, nms=False, lr0=0.01, lrf=0.01, momentum=0.937, weight_decay=0.0005, warmup_epochs=3.0, warmup_momentum=0.8, warmup_bias_lr=0.1, box=7.5, cls=0.5, dfl=1.5, pose=12.0, kobj=1.0, label_smoothing=0.0, nbs=64, hsv_h=0.015, hsv_s=0.7, hsv_v=0.4, degrees=0.0, translate=0.1, scale=0.5, shear=0.0, perspective=0.0, flipud=0.0, fliplr=0.5, bgr=0.0, mosaic=1.0, mixup=0.0, copy_paste=0.0, copy_paste_mode=flip, auto_augment=randaugment, erasing=0.4, crop_fraction=1.0, cfg=None, tracker=botsort.yaml, save_dir=runs/detect/train\n",
      "Downloading https://ultralytics.com/assets/Arial.Unicode.ttf to '/root/.config/Ultralytics/Arial.Unicode.ttf'...\n"
     ]
    },
    {
     "name": "stderr",
     "output_type": "stream",
     "text": [
      "100%|██████████| 22.2M/22.2M [00:00<00:00, 106MB/s] \n"
     ]
    },
    {
     "name": "stdout",
     "output_type": "stream",
     "text": [
      "Overriding model.yaml nc=80 with nc=4\n",
      "\n",
      "                   from  n    params  module                                       arguments                     \n",
      "  0                  -1  1       464  ultralytics.nn.modules.conv.Conv             [3, 16, 3, 2]                 \n",
      "  1                  -1  1      4672  ultralytics.nn.modules.conv.Conv             [16, 32, 3, 2]                \n",
      "  2                  -1  1      7360  ultralytics.nn.modules.block.C2f             [32, 32, 1, True]             \n",
      "  3                  -1  1     18560  ultralytics.nn.modules.conv.Conv             [32, 64, 3, 2]                \n",
      "  4                  -1  2     49664  ultralytics.nn.modules.block.C2f             [64, 64, 2, True]             \n",
      "  5                  -1  1     73984  ultralytics.nn.modules.conv.Conv             [64, 128, 3, 2]               \n",
      "  6                  -1  2    197632  ultralytics.nn.modules.block.C2f             [128, 128, 2, True]           \n",
      "  7                  -1  1    295424  ultralytics.nn.modules.conv.Conv             [128, 256, 3, 2]              \n",
      "  8                  -1  1    460288  ultralytics.nn.modules.block.C2f             [256, 256, 1, True]           \n",
      "  9                  -1  1    164608  ultralytics.nn.modules.block.SPPF            [256, 256, 5]                 \n",
      " 10                  -1  1         0  torch.nn.modules.upsampling.Upsample         [None, 2, 'nearest']          \n",
      " 11             [-1, 6]  1         0  ultralytics.nn.modules.conv.Concat           [1]                           \n",
      " 12                  -1  1    148224  ultralytics.nn.modules.block.C2f             [384, 128, 1]                 \n",
      " 13                  -1  1         0  torch.nn.modules.upsampling.Upsample         [None, 2, 'nearest']          \n",
      " 14             [-1, 4]  1         0  ultralytics.nn.modules.conv.Concat           [1]                           \n",
      " 15                  -1  1     37248  ultralytics.nn.modules.block.C2f             [192, 64, 1]                  \n",
      " 16                  -1  1     36992  ultralytics.nn.modules.conv.Conv             [64, 64, 3, 2]                \n",
      " 17            [-1, 12]  1         0  ultralytics.nn.modules.conv.Concat           [1]                           \n",
      " 18                  -1  1    123648  ultralytics.nn.modules.block.C2f             [192, 128, 1]                 \n",
      " 19                  -1  1    147712  ultralytics.nn.modules.conv.Conv             [128, 128, 3, 2]              \n",
      " 20             [-1, 9]  1         0  ultralytics.nn.modules.conv.Concat           [1]                           \n",
      " 21                  -1  1    493056  ultralytics.nn.modules.block.C2f             [384, 256, 1]                 \n",
      " 22        [15, 18, 21]  1    752092  ultralytics.nn.modules.head.Detect           [4, [64, 128, 256]]           \n",
      "Model summary: 225 layers, 3,011,628 parameters, 3,011,612 gradients, 8.2 GFLOPs\n",
      "\n",
      "Transferred 319/355 items from pretrained weights\n",
      "\u001b[34m\u001b[1mTensorBoard: \u001b[0mStart with 'tensorboard --logdir runs/detect/train', view at http://localhost:6006/\n",
      "Freezing layer 'model.22.dfl.conv.weight'\n",
      "\u001b[34m\u001b[1mAMP: \u001b[0mrunning Automatic Mixed Precision (AMP) checks...\n",
      "Downloading https://github.com/ultralytics/assets/releases/download/v8.3.0/yolo11n.pt to 'yolo11n.pt'...\n"
     ]
    },
    {
     "name": "stderr",
     "output_type": "stream",
     "text": [
      "100%|██████████| 5.35M/5.35M [00:00<00:00, 91.7MB/s]\n"
     ]
    },
    {
     "name": "stdout",
     "output_type": "stream",
     "text": [
      "\u001b[34m\u001b[1mAMP: \u001b[0mchecks passed ✅\n"
     ]
    },
    {
     "name": "stderr",
     "output_type": "stream",
     "text": [
      "\u001b[34m\u001b[1mtrain: \u001b[0mScanning /content/temp/data_preprocessed_step2/train/labels... 240 images, 0 backgrounds, 0 corrupt: 100%|██████████| 240/240 [00:00<00:00, 1895.05it/s]"
     ]
    },
    {
     "name": "stdout",
     "output_type": "stream",
     "text": [
      "\u001b[34m\u001b[1mtrain: \u001b[0mNew cache created: /content/temp/data_preprocessed_step2/train/labels.cache\n"
     ]
    },
    {
     "name": "stderr",
     "output_type": "stream",
     "text": [
      "\n"
     ]
    },
    {
     "name": "stdout",
     "output_type": "stream",
     "text": [
      "\u001b[34m\u001b[1malbumentations: \u001b[0mBlur(p=0.01, blur_limit=(3, 7)), MedianBlur(p=0.01, blur_limit=(3, 7)), ToGray(p=0.01, num_output_channels=3, method='weighted_average'), CLAHE(p=0.01, clip_limit=(1.0, 4.0), tile_grid_size=(8, 8))\n"
     ]
    },
    {
     "name": "stderr",
     "output_type": "stream",
     "text": [
      "/usr/local/lib/python3.10/dist-packages/albumentations/__init__.py:24: UserWarning: A new version of Albumentations is available: 1.4.21 (you have 1.4.20). Upgrade using: pip install -U albumentations. To disable automatic update checks, set the environment variable NO_ALBUMENTATIONS_UPDATE to 1.\n",
      "  check_for_updates()\n",
      "\u001b[34m\u001b[1mval: \u001b[0mScanning /content/temp/data_preprocessed_step2/valid/labels... 60 images, 0 backgrounds, 0 corrupt: 100%|██████████| 60/60 [00:00<00:00, 1763.02it/s]"
     ]
    },
    {
     "name": "stdout",
     "output_type": "stream",
     "text": [
      "\u001b[34m\u001b[1mval: \u001b[0mNew cache created: /content/temp/data_preprocessed_step2/valid/labels.cache\n"
     ]
    },
    {
     "name": "stderr",
     "output_type": "stream",
     "text": [
      "\n"
     ]
    },
    {
     "name": "stdout",
     "output_type": "stream",
     "text": [
      "Plotting labels to runs/detect/train/labels.jpg... \n",
      "\u001b[34m\u001b[1moptimizer:\u001b[0m 'optimizer=auto' found, ignoring 'lr0=0.01' and 'momentum=0.937' and determining best 'optimizer', 'lr0' and 'momentum' automatically... \n",
      "\u001b[34m\u001b[1moptimizer:\u001b[0m AdamW(lr=0.00125, momentum=0.9) with parameter groups 57 weight(decay=0.0), 64 weight(decay=0.0005), 63 bias(decay=0.0)\n",
      "\u001b[34m\u001b[1mTensorBoard: \u001b[0mmodel graph visualization added ✅\n",
      "Image sizes 640 train, 640 val\n",
      "Using 2 dataloader workers\n",
      "Logging results to \u001b[1mruns/detect/train\u001b[0m\n",
      "Starting training for 15 epochs...\n",
      "\n",
      "      Epoch    GPU_mem   box_loss   cls_loss   dfl_loss  Instances       Size\n"
     ]
    },
    {
     "name": "stderr",
     "output_type": "stream",
     "text": [
      "       1/15      2.19G      1.289      3.763      1.441         57        640:  20%|██        | 3/15 [00:02<00:06,  1.82it/s]"
     ]
    },
    {
     "name": "stdout",
     "output_type": "stream",
     "text": [
      "Downloading https://ultralytics.com/assets/Arial.ttf to '/root/.config/Ultralytics/Arial.ttf'...\n"
     ]
    },
    {
     "name": "stderr",
     "output_type": "stream",
     "text": [
      "       1/15      2.47G      1.365      3.892      1.475         31        640:  40%|████      | 6/15 [00:02<00:03,  2.98it/s]\n",
      "100%|██████████| 755k/755k [00:00<00:00, 18.7MB/s]\n",
      "       1/15      2.47G      1.261      3.711      1.398         61        640: 100%|██████████| 15/15 [00:05<00:00,  2.64it/s]\n",
      "                 Class     Images  Instances      Box(P          R      mAP50  mAP50-95): 100%|██████████| 2/2 [00:01<00:00,  1.10it/s]"
     ]
    },
    {
     "name": "stdout",
     "output_type": "stream",
     "text": [
      "                   all         60         82    0.00411      0.863      0.274      0.213\n"
     ]
    },
    {
     "name": "stderr",
     "output_type": "stream",
     "text": [
      "\n"
     ]
    },
    {
     "name": "stdout",
     "output_type": "stream",
     "text": [
      "\n",
      "      Epoch    GPU_mem   box_loss   cls_loss   dfl_loss  Instances       Size\n"
     ]
    },
    {
     "name": "stderr",
     "output_type": "stream",
     "text": [
      "       2/15      2.15G       1.23      3.004      1.328         45        640: 100%|██████████| 15/15 [00:05<00:00,  2.87it/s]\n",
      "                 Class     Images  Instances      Box(P          R      mAP50  mAP50-95): 100%|██████████| 2/2 [00:01<00:00,  1.93it/s]"
     ]
    },
    {
     "name": "stdout",
     "output_type": "stream",
     "text": [
      "                   all         60         82    0.00438      0.874      0.313      0.227\n"
     ]
    },
    {
     "name": "stderr",
     "output_type": "stream",
     "text": [
      "\n"
     ]
    },
    {
     "name": "stdout",
     "output_type": "stream",
     "text": [
      "\n",
      "      Epoch    GPU_mem   box_loss   cls_loss   dfl_loss  Instances       Size\n"
     ]
    },
    {
     "name": "stderr",
     "output_type": "stream",
     "text": [
      "       3/15      2.15G      1.192      2.678      1.286         63        640: 100%|██████████| 15/15 [00:04<00:00,  3.57it/s]\n",
      "                 Class     Images  Instances      Box(P          R      mAP50  mAP50-95): 100%|██████████| 2/2 [00:00<00:00,  2.11it/s]"
     ]
    },
    {
     "name": "stdout",
     "output_type": "stream",
     "text": [
      "                   all         60         82      0.779     0.0612      0.364      0.271\n"
     ]
    },
    {
     "name": "stderr",
     "output_type": "stream",
     "text": [
      "\n"
     ]
    },
    {
     "name": "stdout",
     "output_type": "stream",
     "text": [
      "\n",
      "      Epoch    GPU_mem   box_loss   cls_loss   dfl_loss  Instances       Size\n"
     ]
    },
    {
     "name": "stderr",
     "output_type": "stream",
     "text": [
      "       4/15      2.16G      1.191      2.509      1.276         34        640: 100%|██████████| 15/15 [00:03<00:00,  4.29it/s]\n",
      "                 Class     Images  Instances      Box(P          R      mAP50  mAP50-95): 100%|██████████| 2/2 [00:00<00:00,  3.35it/s]"
     ]
    },
    {
     "name": "stdout",
     "output_type": "stream",
     "text": [
      "                   all         60         82      0.685      0.223      0.433      0.326\n"
     ]
    },
    {
     "name": "stderr",
     "output_type": "stream",
     "text": [
      "\n"
     ]
    },
    {
     "name": "stdout",
     "output_type": "stream",
     "text": [
      "\n",
      "      Epoch    GPU_mem   box_loss   cls_loss   dfl_loss  Instances       Size\n"
     ]
    },
    {
     "name": "stderr",
     "output_type": "stream",
     "text": [
      "       5/15      2.15G      1.157       2.48      1.263         58        640: 100%|██████████| 15/15 [00:05<00:00,  2.81it/s]\n",
      "                 Class     Images  Instances      Box(P          R      mAP50  mAP50-95): 100%|██████████| 2/2 [00:01<00:00,  1.56it/s]"
     ]
    },
    {
     "name": "stdout",
     "output_type": "stream",
     "text": [
      "                   all         60         82      0.477      0.406      0.396      0.283\n"
     ]
    },
    {
     "name": "stderr",
     "output_type": "stream",
     "text": [
      "\n"
     ]
    },
    {
     "name": "stdout",
     "output_type": "stream",
     "text": [
      "Closing dataloader mosaic\n",
      "\u001b[34m\u001b[1malbumentations: \u001b[0mBlur(p=0.01, blur_limit=(3, 7)), MedianBlur(p=0.01, blur_limit=(3, 7)), ToGray(p=0.01, num_output_channels=3, method='weighted_average'), CLAHE(p=0.01, clip_limit=(1.0, 4.0), tile_grid_size=(8, 8))\n",
      "\n",
      "      Epoch    GPU_mem   box_loss   cls_loss   dfl_loss  Instances       Size\n"
     ]
    },
    {
     "name": "stderr",
     "output_type": "stream",
     "text": [
      "       6/15      2.15G     0.9724      2.686      1.155         19        640: 100%|██████████| 15/15 [00:04<00:00,  3.22it/s]\n",
      "                 Class     Images  Instances      Box(P          R      mAP50  mAP50-95): 100%|██████████| 2/2 [00:00<00:00,  2.57it/s]"
     ]
    },
    {
     "name": "stdout",
     "output_type": "stream",
     "text": [
      "                   all         60         82      0.383      0.458      0.403      0.273\n"
     ]
    },
    {
     "name": "stderr",
     "output_type": "stream",
     "text": [
      "\n"
     ]
    },
    {
     "name": "stdout",
     "output_type": "stream",
     "text": [
      "\n",
      "      Epoch    GPU_mem   box_loss   cls_loss   dfl_loss  Instances       Size\n"
     ]
    },
    {
     "name": "stderr",
     "output_type": "stream",
     "text": [
      "       7/15      2.15G     0.9693      2.466      1.157         19        640: 100%|██████████| 15/15 [00:03<00:00,  4.45it/s]\n",
      "                 Class     Images  Instances      Box(P          R      mAP50  mAP50-95): 100%|██████████| 2/2 [00:00<00:00,  2.30it/s]"
     ]
    },
    {
     "name": "stdout",
     "output_type": "stream",
     "text": [
      "                   all         60         82      0.432      0.616      0.458      0.342\n"
     ]
    },
    {
     "name": "stderr",
     "output_type": "stream",
     "text": [
      "\n"
     ]
    },
    {
     "name": "stdout",
     "output_type": "stream",
     "text": [
      "\n",
      "      Epoch    GPU_mem   box_loss   cls_loss   dfl_loss  Instances       Size\n"
     ]
    },
    {
     "name": "stderr",
     "output_type": "stream",
     "text": [
      "       8/15      2.15G     0.8998      2.359      1.107         21        640: 100%|██████████| 15/15 [00:05<00:00,  2.74it/s]\n",
      "                 Class     Images  Instances      Box(P          R      mAP50  mAP50-95): 100%|██████████| 2/2 [00:00<00:00,  2.70it/s]"
     ]
    },
    {
     "name": "stdout",
     "output_type": "stream",
     "text": [
      "                   all         60         82      0.478      0.589      0.462      0.346\n"
     ]
    },
    {
     "name": "stderr",
     "output_type": "stream",
     "text": [
      "\n"
     ]
    },
    {
     "name": "stdout",
     "output_type": "stream",
     "text": [
      "\n",
      "      Epoch    GPU_mem   box_loss   cls_loss   dfl_loss  Instances       Size\n"
     ]
    },
    {
     "name": "stderr",
     "output_type": "stream",
     "text": [
      "       9/15      2.15G     0.8951      2.284      1.102         22        640: 100%|██████████| 15/15 [00:03<00:00,  4.59it/s]\n",
      "                 Class     Images  Instances      Box(P          R      mAP50  mAP50-95): 100%|██████████| 2/2 [00:00<00:00,  2.82it/s]"
     ]
    },
    {
     "name": "stdout",
     "output_type": "stream",
     "text": [
      "                   all         60         82      0.424      0.742      0.516      0.381\n"
     ]
    },
    {
     "name": "stderr",
     "output_type": "stream",
     "text": [
      "\n"
     ]
    },
    {
     "name": "stdout",
     "output_type": "stream",
     "text": [
      "\n",
      "      Epoch    GPU_mem   box_loss   cls_loss   dfl_loss  Instances       Size\n"
     ]
    },
    {
     "name": "stderr",
     "output_type": "stream",
     "text": [
      "      10/15      2.15G     0.8803      2.226      1.056         20        640: 100%|██████████| 15/15 [00:03<00:00,  4.56it/s]\n",
      "                 Class     Images  Instances      Box(P          R      mAP50  mAP50-95): 100%|██████████| 2/2 [00:00<00:00,  2.95it/s]"
     ]
    },
    {
     "name": "stdout",
     "output_type": "stream",
     "text": [
      "                   all         60         82      0.414      0.728      0.478      0.336\n"
     ]
    },
    {
     "name": "stderr",
     "output_type": "stream",
     "text": [
      "\n"
     ]
    },
    {
     "name": "stdout",
     "output_type": "stream",
     "text": [
      "\n",
      "      Epoch    GPU_mem   box_loss   cls_loss   dfl_loss  Instances       Size\n"
     ]
    },
    {
     "name": "stderr",
     "output_type": "stream",
     "text": [
      "      11/15      2.15G     0.8473      2.176      1.055         19        640: 100%|██████████| 15/15 [00:05<00:00,  2.64it/s]\n",
      "                 Class     Images  Instances      Box(P          R      mAP50  mAP50-95): 100%|██████████| 2/2 [00:01<00:00,  1.68it/s]"
     ]
    },
    {
     "name": "stdout",
     "output_type": "stream",
     "text": [
      "                   all         60         82      0.389       0.75      0.525      0.396\n"
     ]
    },
    {
     "name": "stderr",
     "output_type": "stream",
     "text": [
      "\n"
     ]
    },
    {
     "name": "stdout",
     "output_type": "stream",
     "text": [
      "\n",
      "      Epoch    GPU_mem   box_loss   cls_loss   dfl_loss  Instances       Size\n"
     ]
    },
    {
     "name": "stderr",
     "output_type": "stream",
     "text": [
      "      12/15      2.15G     0.7765      2.044      1.022         24        640: 100%|██████████| 15/15 [00:03<00:00,  4.31it/s]\n",
      "                 Class     Images  Instances      Box(P          R      mAP50  mAP50-95): 100%|██████████| 2/2 [00:00<00:00,  3.60it/s]"
     ]
    },
    {
     "name": "stdout",
     "output_type": "stream",
     "text": [
      "                   all         60         82      0.496      0.752      0.587      0.461\n"
     ]
    },
    {
     "name": "stderr",
     "output_type": "stream",
     "text": [
      "\n"
     ]
    },
    {
     "name": "stdout",
     "output_type": "stream",
     "text": [
      "\n",
      "      Epoch    GPU_mem   box_loss   cls_loss   dfl_loss  Instances       Size\n"
     ]
    },
    {
     "name": "stderr",
     "output_type": "stream",
     "text": [
      "      13/15      2.15G     0.7664      1.998      1.001         27        640: 100%|██████████| 15/15 [00:03<00:00,  4.76it/s]\n",
      "                 Class     Images  Instances      Box(P          R      mAP50  mAP50-95): 100%|██████████| 2/2 [00:00<00:00,  3.20it/s]"
     ]
    },
    {
     "name": "stdout",
     "output_type": "stream",
     "text": [
      "                   all         60         82      0.531      0.704       0.64      0.496\n"
     ]
    },
    {
     "name": "stderr",
     "output_type": "stream",
     "text": [
      "\n"
     ]
    },
    {
     "name": "stdout",
     "output_type": "stream",
     "text": [
      "\n",
      "      Epoch    GPU_mem   box_loss   cls_loss   dfl_loss  Instances       Size\n"
     ]
    },
    {
     "name": "stderr",
     "output_type": "stream",
     "text": [
      "      14/15      2.15G      0.726      1.844      1.007         24        640: 100%|██████████| 15/15 [00:05<00:00,  2.90it/s]\n",
      "                 Class     Images  Instances      Box(P          R      mAP50  mAP50-95): 100%|██████████| 2/2 [00:01<00:00,  1.63it/s]"
     ]
    },
    {
     "name": "stdout",
     "output_type": "stream",
     "text": [
      "                   all         60         82      0.538      0.831      0.677      0.528\n"
     ]
    },
    {
     "name": "stderr",
     "output_type": "stream",
     "text": [
      "\n"
     ]
    },
    {
     "name": "stdout",
     "output_type": "stream",
     "text": [
      "\n",
      "      Epoch    GPU_mem   box_loss   cls_loss   dfl_loss  Instances       Size\n"
     ]
    },
    {
     "name": "stderr",
     "output_type": "stream",
     "text": [
      "      15/15      2.15G     0.6725      1.826     0.9718         24        640: 100%|██████████| 15/15 [00:03<00:00,  4.51it/s]\n",
      "                 Class     Images  Instances      Box(P          R      mAP50  mAP50-95): 100%|██████████| 2/2 [00:00<00:00,  3.16it/s]"
     ]
    },
    {
     "name": "stdout",
     "output_type": "stream",
     "text": [
      "                   all         60         82      0.626      0.815        0.7      0.561\n"
     ]
    },
    {
     "name": "stderr",
     "output_type": "stream",
     "text": [
      "\n"
     ]
    },
    {
     "name": "stdout",
     "output_type": "stream",
     "text": [
      "\n",
      "15 epochs completed in 0.027 hours.\n",
      "Optimizer stripped from runs/detect/train/weights/last.pt, 6.2MB\n",
      "Optimizer stripped from runs/detect/train/weights/best.pt, 6.2MB\n",
      "\n",
      "Validating runs/detect/train/weights/best.pt...\n",
      "Ultralytics 8.3.33 🚀 Python-3.10.12 torch-2.5.1+cu121 CUDA:0 (Tesla T4, 15102MiB)\n",
      "Model summary (fused): 168 layers, 3,006,428 parameters, 0 gradients, 8.1 GFLOPs\n"
     ]
    },
    {
     "name": "stderr",
     "output_type": "stream",
     "text": [
      "                 Class     Images  Instances      Box(P          R      mAP50  mAP50-95): 100%|██████████| 2/2 [00:00<00:00,  3.01it/s]\n"
     ]
    },
    {
     "name": "stdout",
     "output_type": "stream",
     "text": [
      "                   all         60         82      0.626      0.813      0.699      0.562\n",
      "   curved mayo scissor         21         21      0.557      0.898      0.657      0.537\n",
      " straight mayo scissor         22         22      0.547      0.955      0.608      0.516\n",
      " {'scalpel nº4': None}         15         15      0.466      0.733      0.708      0.482\n",
      "straight dissection clamp         24         24      0.935      0.667      0.824      0.713\n",
      "Speed: 0.1ms preprocess, 1.5ms inference, 0.0ms loss, 2.5ms postprocess per image\n",
      "Results saved to \u001b[1mruns/detect/train\u001b[0m\n",
      "Trained model saved to: /content/temp/models/yolov8n_trained.pt\n",
      "Total execution time: 124.64 seconds (2.08 minutes)\n"
     ]
    }
   ],
   "source": [
    "from ultralytics import YOLO\n",
    "from pathlib import Path\n",
    "import shutil\n",
    "import time\n",
    "\n",
    "# Timing starts here\n",
    "start_time = time.time()\n",
    "\n",
    "MODEL_PATH = Path.cwd() / 'temp'/ 'models' / 'yolov8n.pt'\n",
    "COCO_YAML_PATH = Path.cwd() / 'temp'/ 'data_preprocessed_step2' / 'coco8.yaml'\n",
    "SAVED_MODEL_PATH = Path.cwd() / 'temp' / 'models' / 'yolov8n_trained.pt'  #TODO yolov8n_trained_run1.pt or yolov8n_trained_run2 Path to save trained model\n",
    "EPOCHS=15 \n",
    "\n",
    "# Load a COCO-pretrained YOLOv8n model\n",
    "model = YOLO(MODEL_PATH)\n",
    "# print(f\"Using path {MODEL_PATH} to load model {model}\")\n",
    "\n",
    "# Train the model on the COCO8 example dataset for 100 epochs\n",
    "results = model.train(data=COCO_YAML_PATH, epochs=EPOCHS, imgsz=640) # augment=True, \n",
    "\n",
    "# Find and copy the best weights after training\n",
    "trained_weights_path = Path(results.save_dir) / \"weights\" / \"best.pt\"  # Default path for best weights\n",
    "shutil.copy(trained_weights_path, SAVED_MODEL_PATH)\n",
    "print(f\"Trained model saved to: {SAVED_MODEL_PATH}\")\n",
    "\n",
    "# Run inference with the YOLOv8n model on the 'bus.jpg' image\n",
    "# results = model(\"path/to/bus.jpg\")\n",
    "\n",
    "# Timing ends here\n",
    "end_time = time.time()\n",
    "\n",
    "# Calculate total time\n",
    "total_time = end_time - start_time\n",
    "print(f\"Total execution time: {total_time:.2f} seconds ({total_time / 60:.2f} minutes)\")"
   ]
  },
  {
   "cell_type": "code",
   "execution_count": 8,
   "metadata": {
    "colab": {
     "base_uri": "https://localhost:8080/",
     "height": 36
    },
    "id": "qqRtIl62wcz5",
    "outputId": "dcf781c4-e9bb-441b-b3dd-3ce99d244033"
   },
   "outputs": [
    {
     "data": {
      "application/vnd.google.colaboratory.intrinsic+json": {
       "type": "string"
      },
      "text/plain": [
       "'/content/runs.zip'"
      ]
     },
     "execution_count": 8,
     "metadata": {},
     "output_type": "execute_result"
    }
   ],
   "source": [
    "import shutil\n",
    "# from google.colab import files\n",
    "\n",
    "# Create a zip archive of the directory\n",
    "directory_to_download = '/content/runs'  # Replace with your directory path\n",
    "shutil.make_archive('/content/runs', 'zip', directory_to_download)\n"
   ]
  }
 ],
 "metadata": {
  "accelerator": "GPU",
  "colab": {
   "gpuType": "T4",
   "provenance": []
  },
  "kernelspec": {
   "display_name": "Python 3",
   "name": "python3"
  },
  "language_info": {
   "name": "python"
  }
 },
 "nbformat": 4,
 "nbformat_minor": 0
}
