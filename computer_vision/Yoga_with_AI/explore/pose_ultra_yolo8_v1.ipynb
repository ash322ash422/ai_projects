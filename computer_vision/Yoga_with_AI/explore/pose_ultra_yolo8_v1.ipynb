{
 "cells": [
  {
   "cell_type": "code",
   "execution_count": 2,
   "id": "9375e270-fbb8-4e8c-b1e8-85bdc6ec6f00",
   "metadata": {},
   "outputs": [],
   "source": [
    "!pip install ultralytics==8.3.32"
   ]
  },
  {
   "cell_type": "code",
   "execution_count": null,
   "id": "2d11d268-0d06-4426-8564-605aaf5dd8c5",
   "metadata": {},
   "outputs": [],
   "source": [
    "from ultralytics import YOLO\n",
    "\n",
    "#Uncomment following if you want to train the model again.\n",
    "# Load a model\n",
    "model = YOLO(\"yolov8n.pt\")\n",
    "\n",
    "# Train the model\n",
    "results = model.train(data=\"temp/senam_yoga_dataset8/data.yaml\", epochs=2, imgsz=640) #took 4 minutes\n"
   ]
  },
  {
   "cell_type": "code",
   "execution_count": 16,
   "id": "fe6621d0-f829-4258-bdb2-c087af2ba11c",
   "metadata": {},
   "outputs": [
    {
     "name": "stdout",
     "output_type": "stream",
     "text": [
      "Model summary: 225 layers, 3,011,433 parameters, 0 gradients, 8.2 GFLOPs\n",
      "\n",
      "image 1/1 C:\\Users\\hi\\Desktop\\projects\\python_projects\\ai_projects\\computer_vision\\Yoga_with_AI\\data\\pose_bird_dog.png: 320x640 1 jongkok, 70.1ms\n",
      "Speed: 4.0ms preprocess, 70.1ms inference, 1.0ms postprocess per image at shape (1, 3, 320, 640)\n",
      "Box: [     3.7597      38.954        1075      479.29], Label: jongkok, Confidence: 0.30667757987976074\n"
     ]
    }
   ],
   "source": [
    "# I copied the new trained model runs\\detect\\train2\\weights\\last.pt to\n",
    "# temp/weights/last_yolo8_epoch1.pt\n",
    "model = YOLO(r'temp\\weights\\last_yolo8_epoch1.pt')\n",
    "model.info()\n",
    "results = model(r\"data\\pose_bird_dog.png\")\n",
    "\n",
    "# Iterate over results to extract information\n",
    "for result in results:\n",
    "    # Get bounding boxes in [xmin, ymin, xmax, ymax] format\n",
    "    boxes = result.boxes.xyxy.cpu().numpy()  \n",
    "\n",
    "    # Get class labels\n",
    "    labels = [model.names[int(cls)] for cls in result.boxes.cls]\n",
    "\n",
    "    # Get confidence scores\n",
    "    confidences = result.boxes.conf.cpu().numpy()\n",
    "\n",
    "    # Example: print results for each detected object\n",
    "    for box, label, confidence in zip(boxes, labels, confidences):\n",
    "        print(f\"Box: {box}, Label: {label}, Confidence: {confidence}\")\n"
   ]
  },
  {
   "cell_type": "code",
   "execution_count": 18,
   "id": "e0271649-7133-4cd5-958e-6560680a9c7b",
   "metadata": {},
   "outputs": [
    {
     "name": "stdout",
     "output_type": "stream",
     "text": [
      "\n",
      "image 1/1 C:\\Users\\hi\\Desktop\\projects\\python_projects\\ai_projects\\computer_vision\\Yoga_with_AI\\data\\pose_bird_dog.png: 320x640 1 jongkok, 93.7ms\n",
      "Speed: 3.0ms preprocess, 93.7ms inference, 1.0ms postprocess per image at shape (1, 3, 320, 640)\n",
      "Box: [     3.7597      38.954        1075      479.29], Label: jongkok, Confidence: 0.30667757987976074\n"
     ]
    }
   ],
   "source": [
    "import cv2\n",
    "from ultralytics import YOLO\n",
    "\n",
    "image_path = r\"data\\pose_bird_dog.png\"\n",
    "model_path = r\"temp\\weights\\last_yolo8_epoch1.pt\"\n",
    "# Load the model\n",
    "model = YOLO(model_path)\n",
    "\n",
    "# Run inference on the image\n",
    "results = model(image_path)\n",
    "\n",
    "# Load the original image\n",
    "image = cv2.imread(image_path)\n",
    "\n",
    "# Iterate over results to extract information\n",
    "for result in results:\n",
    "    # Get bounding boxes in [xmin, ymin, xmax, ymax] format\n",
    "    boxes = result.boxes.xyxy.cpu().numpy()\n",
    "\n",
    "    # Get class labels\n",
    "    labels = [model.names[int(cls)] for cls in result.boxes.cls]\n",
    "\n",
    "    # Get confidence scores\n",
    "    confidences = result.boxes.conf.cpu().numpy()\n",
    "\n",
    "    # Annotate image with bounding boxes, labels, and confidence scores\n",
    "    for box, label, confidence in zip(boxes, labels, confidences):\n",
    "        print(f\"Box: {box}, Label: {label}, Confidence: {confidence}\")\n",
    "        # Extract coordinates and convert them to integers\n",
    "        xmin, ymin, xmax, ymax = map(int, box)\n",
    "\n",
    "        # Draw the bounding box\n",
    "        cv2.rectangle(image, (xmin, ymin), (xmax, ymax), (0, 255, 0), 2)\n",
    "\n",
    "        # Prepare label text with confidence score\n",
    "        text = f\"{label} ({confidence:.2f})\"\n",
    "\n",
    "        # Add label text above the bounding box\n",
    "        cv2.putText(image, text, (xmin, ymin - 10), cv2.FONT_HERSHEY_SIMPLEX, 0.5, (0, 255, 0), 2)\n",
    "\n",
    "# Display the image with bounding boxes\n",
    "cv2.imshow(\"Detections\", image)\n",
    "\n",
    "# Wait for a key press and close the display window\n",
    "cv2.waitKey(0)\n",
    "cv2.destroyAllWindows()\n"
   ]
  },
  {
   "cell_type": "code",
   "execution_count": null,
   "id": "3125692c-c3cf-4354-bdc0-6e374b9d73ff",
   "metadata": {},
   "outputs": [],
   "source": []
  }
 ],
 "metadata": {
  "kernelspec": {
   "display_name": "Python 3 (ipykernel)",
   "language": "python",
   "name": "python3"
  },
  "language_info": {
   "codemirror_mode": {
    "name": "ipython",
    "version": 3
   },
   "file_extension": ".py",
   "mimetype": "text/x-python",
   "name": "python",
   "nbconvert_exporter": "python",
   "pygments_lexer": "ipython3",
   "version": "3.11.2"
  }
 },
 "nbformat": 4,
 "nbformat_minor": 5
}
