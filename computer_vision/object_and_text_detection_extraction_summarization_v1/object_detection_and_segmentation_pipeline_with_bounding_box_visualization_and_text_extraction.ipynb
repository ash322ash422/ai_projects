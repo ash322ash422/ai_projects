{
  "cells": [
    {
      "cell_type": "code",
      "execution_count": null,
      "metadata": {
        "collapsed": true,
        "id": "1jKQ_0tmxJSl"
      },
      "outputs": [],
      "source": [
        "#The following was run  in  colab with 'T4 GPU', located under notebook settings.\n",
        "# Following was the result of the prompt to ChatGPT:\n",
        "\n",
        "# Give me a simple working example of following:\n",
        "# Develop a pipeline using transformers or deep learning models that processes an input image \n",
        "# to segment, identify, and analyze objects within the image, and outputs a summary table with mapped \n",
        "# data for each object.\n",
        "\n",
        "!pip install torch torchvision torchaudio easyocr\n",
        "!pip install 'git+https://github.com/facebookresearch/detectron2.git'\n"
      ]
    },
    {
      "cell_type": "code",
      "execution_count": null,
      "metadata": {
        "id": "Teul_uTWxU8g"
      },
      "outputs": [],
      "source": [
        "import torch\n",
        "import torchvision\n",
        "from detectron2.engine import DefaultPredictor\n",
        "from detectron2.config import get_cfg\n",
        "from detectron2 import model_zoo\n",
        "import cv2\n",
        "import easyocr\n",
        "import pandas as pd\n"
      ]
    },
    {
      "cell_type": "code",
      "execution_count": null,
      "metadata": {
        "id": "MFf7PZIey7vq"
      },
      "outputs": [],
      "source": [
        "# Load image\n",
        "image_path = \"/content/sample_data/test_image.jpg\"\n",
        "image = cv2.imread(image_path)\n",
        "\n",
        "# Set up Detectron2 model (Mask R-CNN for segmentation)\n",
        "cfg = get_cfg()\n",
        "# COCO (Common Objects in Context) dataset is a large collection of images and annotations used for training \n",
        "# and evaluating computer vision models\n",
        "cfg.merge_from_file(model_zoo.get_config_file(\"COCO-InstanceSegmentation/mask_rcnn_R_50_FPN_3x.yaml\"))\n",
        "cfg.MODEL.ROI_HEADS.SCORE_THRESH_TEST = 0.5  # Set threshold for this model\n",
        "cfg.MODEL.WEIGHTS = model_zoo.get_checkpoint_url(\"COCO-InstanceSegmentation/mask_rcnn_R_50_FPN_3x.yaml\")\n",
        "predictor = DefaultPredictor(cfg)\n",
        "\n",
        "# Get predictions\n",
        "outputs = predictor(image)"
      ]
    },
    {
      "cell_type": "code",
      "execution_count": null,
      "metadata": {
        "id": "faaRPWPK2nhZ"
      },
      "outputs": [],
      "source": [
        "# Get object information\n",
        "instances = outputs[\"instances\"]\n",
        "boxes = instances.pred_boxes.tensor.cpu().numpy()  # Bounding boxes\n",
        "masks = instances.pred_masks.cpu().numpy()  # Segmentation masks\n",
        "classes = instances.pred_classes.cpu().numpy()  # Class labels\n",
        "scores = instances.scores.cpu().numpy()  # Confidence scores\n",
        "\n",
        "# Load COCO class names\n",
        "COCO_CLASSES = [\n",
        "    \"__background__\", \"person\", \"bicycle\", \"car\", \"motorcycle\", \"airplane\", \"bus\", \"train\", \"truck\", \"boat\", \"traffic light\",\n",
        "    \"fire hydrant\", \"stop sign\", \"parking meter\", \"bench\", \"bird\", \"cat\", \"dog\", \"horse\", \"sheep\", \"cow\", \"elephant\", \"bear\",\n",
        "    \"zebra\", \"giraffe\", \"backpack\", \"umbrella\", \"handbag\", \"tie\", \"suitcase\", \"frisbee\", \"skis\", \"snowboard\", \"sports ball\",\n",
        "    \"kite\", \"baseball bat\", \"baseball glove\", \"skateboard\", \"surfboard\", \"tennis racket\", \"bottle\", \"wine glass\", \"cup\",\n",
        "    \"fork\", \"knife\", \"spoon\", \"bowl\", \"banana\", \"apple\", \"sandwich\", \"orange\", \"broccoli\", \"carrot\", \"hot dog\", \"pizza\",\n",
        "    \"donut\", \"cake\", \"chair\", \"couch\", \"potted plant\", \"bed\", \"dining table\", \"toilet\", \"TV\", \"laptop\", \"mouse\", \"remote\",\n",
        "    \"keyboard\", \"cell phone\", \"microwave\", \"oven\", \"toaster\", \"sink\", \"refrigerator\", \"book\", \"clock\", \"vase\", \"scissors\",\n",
        "    \"teddy bear\", \"hair drier\", \"toothbrush\"\n",
        "]\n"
      ]
    },
    {
      "cell_type": "code",
      "execution_count": null,
      "metadata": {
        "id": "9N0upTlY2u9X"
      },
      "outputs": [],
      "source": [
        "# Initialize EasyOCR Reader\n",
        "reader = easyocr.Reader(['en'])\n",
        "\n",
        "# Loop through each detected object\n",
        "object_data = []\n",
        "for i, box in enumerate(boxes):\n",
        "    # Crop the detected object from the image\n",
        "    x1, y1, x2, y2 = map(int, box)\n",
        "    cropped_object = image[y1:y2, x1:x2]\n",
        "\n",
        "    # Optionally, extract text from the object\n",
        "    text = reader.readtext(cropped_object, detail=0)\n",
        "\n",
        "    # Store object data\n",
        "    object_data.append({\n",
        "        \"Object\": COCO_CLASSES[classes[i]],\n",
        "        \"Bounding Box\": box,\n",
        "        \"Confidence Score\": scores[i],\n",
        "        \"Extracted Text\": \" \".join(text) if text else \"N/A\"\n",
        "    })\n"
      ]
    },
    {
      "cell_type": "code",
      "execution_count": null,
      "metadata": {
        "id": "YXL6rwuA25c4"
      },
      "outputs": [],
      "source": [
        "# Convert to pandas DataFrame for easy viewing\n",
        "df = pd.DataFrame(object_data)\n",
        "\n",
        "# Show the table\n",
        "print(df)\n"
      ]
    },
    {
      "cell_type": "code",
      "execution_count": null,
      "metadata": {
        "collapsed": true,
        "id": "95nkEMwD4FJ4"
      },
      "outputs": [],
      "source": [
        "!pip install opencv-python"
      ]
    },
    {
      "cell_type": "code",
      "execution_count": null,
      "metadata": {
        "id": "HizUXVJ74LDo"
      },
      "outputs": [],
      "source": [
        "import cv2\n",
        "import matplotlib.pyplot as plt\n",
        "\n",
        "# Define function to draw bounding boxes and labels\n",
        "def draw_bounding_boxes(image, boxes, classes, scores):\n",
        "    for i, box in enumerate(boxes):\n",
        "        x1, y1, x2, y2 = map(int, box)\n",
        "        label = f\"{COCO_CLASSES[classes[i]]}: {scores[i]:.2f}\"\n",
        "\n",
        "        # Draw rectangle (bounding box)\n",
        "        cv2.rectangle(image, (x1, y1), (x2, y2), (0, 255, 0), 2)\n",
        "\n",
        "        # Put label text\n",
        "        font_scale = 0.6\n",
        "        font = cv2.FONT_HERSHEY_SIMPLEX\n",
        "        label_size, _ = cv2.getTextSize(label, font, font_scale, 1)\n",
        "        label_x1 = x1\n",
        "        label_y1 = y1 - 10 if y1 - 10 > 10 else y1 + 10\n",
        "        cv2.rectangle(image, (label_x1, label_y1 - label_size[1]), (label_x1 + label_size[0], label_y1), (0, 255, 0), -1)\n",
        "        cv2.putText(image, label, (label_x1, label_y1), font, font_scale, (0, 0, 0), 2)\n",
        "\n",
        "# Draw bounding boxes and labels on the image\n",
        "draw_bounding_boxes(image, boxes, classes, scores)\n",
        "\n",
        "# Convert image from BGR (OpenCV) to RGB (Matplotlib)\n",
        "image_rgb = cv2.cvtColor(image, cv2.COLOR_BGR2RGB)\n",
        "\n",
        "# Display the image with bounding boxes\n",
        "plt.figure(figsize=(10, 10))\n",
        "plt.imshow(image_rgb)\n",
        "plt.axis(\"off\")\n",
        "plt.show()\n"
      ]
    }
  ],
  "metadata": {
    "accelerator": "GPU",
    "colab": {
      "gpuType": "T4",
      "private_outputs": true,
      "provenance": []
    },
    "kernelspec": {
      "display_name": "Python 3",
      "name": "python3"
    },
    "language_info": {
      "name": "python"
    }
  },
  "nbformat": 4,
  "nbformat_minor": 0
}
